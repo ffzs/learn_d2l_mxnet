{
 "cells": [
  {
   "cell_type": "markdown",
   "metadata": {},
   "source": [
    "# 1. 卷积神经网\n",
    "卷积神经网络（CNN），专门为了处理图片而设计的神经网络。基于CNN的体系结构现在在计算机视觉领域无处不在，并且已经变得如此占主导地位，以至于今天几乎所有开发出商业应用程序或参加与图像识别，对象检测或语义分割有关的应用都会用到。\n",
    "CNN除了准确率高，CNN往往在计算效率上也高，这不仅是因为它们所需的参数比完全连接的架构少，而且卷积易于在GPU内核之间并行化。因此从业人员在可能情况下都会使用CNN，甚至在处理一些一维结构的任务（音频，文本和事件序列分析），CNN的一些巧妙改编也使它们适用于图结构数据和推荐系统。\n",
    "\n"
   ]
  },
  {
   "attachments": {
    "1e4cb0cd-e585-404d-8581-6611bbe0ad4f.png": {
     "image/png": "[encoded data removed]"
    }
   },
   "cell_type": "markdown",
   "metadata": {},
   "source": [
    "## 1.1 互相关运算\n",
    "严格来说，卷积层做得是互相关运算。在这样的层中，输入张量和核张量通过互相关运算被组合以产生输出张量。\n",
    "![image.png](attachment:1e4cb0cd-e585-404d-8581-6611bbe0ad4f.png)\n",
    "\n",
    "\n",
    "在二维互相关运算中，我们从位于输入张量的左上角的卷积窗口开始，然后将其从左到右以及从上到下在整个输入张量上滑动。当卷积窗口滑动到某个位置时，该窗口中包含的输入张量和内核张量将逐元素相乘，并且将所得张量求和，得出单个标量值。该结果给出了在相应位置的输出张量的值。"
   ]
  },
  {
   "cell_type": "code",
   "execution_count": 1,
   "metadata": {},
   "outputs": [],
   "source": [
    "from d2l import mxnet as d2l\n",
    "from mxnet import autograd, np, npx, init, gluon\n",
    "from mxnet.gluon import nn\n",
    "import plotly.graph_objs as go\n",
    "npx.set_np()"
   ]
  },
  {
   "cell_type": "code",
   "execution_count": 2,
   "metadata": {},
   "outputs": [],
   "source": [
    "def corr2d(X, K):\n",
    "    \n",
    "    h, w = K.shape\n",
    "    m,n = X.shape\n",
    "    Y = np.zeros((m-h+1, n-w+1))\n",
    "    for i in range(Y.shape[0]):\n",
    "        for j in range(Y.shape[1]):\n",
    "            Y[i,j] = (X[i:i+h, j:j+w]*K).sum()\n",
    "    return Y"
   ]
  },
  {
   "cell_type": "code",
   "execution_count": 3,
   "metadata": {},
   "outputs": [
    {
     "data": {
      "text/plain": [
       "array([[19., 25.],\n",
       "       [37., 43.]])"
      ]
     },
     "execution_count": 3,
     "metadata": {},
     "output_type": "execute_result"
    }
   ],
   "source": [
    "X = np.array([[0.0, 1.0, 2.0], [3.0, 4.0, 5.0], [6.0, 7.0, 8.0]])\n",
    "K = np.array([[0.0, 1.0], [2.0, 3.0]])\n",
    "corr2d(X, K)"
   ]
  },
  {
   "cell_type": "markdown",
   "metadata": {},
   "source": [
    "## 1.2 卷积层\n",
    "+ 卷积层使输入和内核进行互相关运算，并添加标量偏差以产生输出。\n",
    "+ 卷积层的两个参数是内核和标量偏差\n",
    "\n",
    "基于上面第一的corr2d方法实现二维卷积层，在`__init__`构造函数中，声明weight和bias作为参数。"
   ]
  },
  {
   "cell_type": "code",
   "execution_count": 4,
   "metadata": {},
   "outputs": [],
   "source": [
    "class Conv2D(nn.Block):\n",
    "    def __init__(self, kernel_size, **kwargs):\n",
    "        super().__init__(**kwargs)\n",
    "        self.weight = self.params.get('weight', shape=kernel_size)\n",
    "        self.bias = self.params.get('bias', shape=(1,))\n",
    "        \n",
    "    def forward(self, X):\n",
    "        return corr2d(X, self.weight.data()) + self.bias.data()"
   ]
  },
  {
   "cell_type": "markdown",
   "metadata": {},
   "source": [
    "## 1.3 图像边缘检测\n",
    "一个小栗子用于理解卷积层作用。构建一个6×8 像素的图像：中间的四列为黑色（0），其余为白色（1）。"
   ]
  },
  {
   "cell_type": "code",
   "execution_count": 5,
   "metadata": {},
   "outputs": [
    {
     "data": {
      "text/plain": [
       "array([[1., 1., 0., 0., 0., 0., 1., 1.],\n",
       "       [1., 1., 0., 0., 0., 0., 1., 1.],\n",
       "       [1., 1., 0., 0., 0., 0., 1., 1.],\n",
       "       [1., 1., 0., 0., 0., 0., 1., 1.],\n",
       "       [1., 1., 0., 0., 0., 0., 1., 1.],\n",
       "       [1., 1., 0., 0., 0., 0., 1., 1.]])"
      ]
     },
     "execution_count": 5,
     "metadata": {},
     "output_type": "execute_result"
    }
   ],
   "source": [
    "X = np.ones((6, 8))\n",
    "X[:, 2:6] = 0\n",
    "X"
   ]
  },
  {
   "cell_type": "markdown",
   "metadata": {},
   "source": [
    "+ 我们构造一个K高度为1且宽度为2 的内核。当我们对输入执行互相关运算时，如果水平相邻元素相同，则输出为0。否则，不为0。"
   ]
  },
  {
   "cell_type": "code",
   "execution_count": 6,
   "metadata": {},
   "outputs": [],
   "source": [
    "K = np.array([[1.0, -1.0]])"
   ]
  },
  {
   "cell_type": "markdown",
   "metadata": {},
   "source": [
    "+ 通过互相关计算，从白色到黑色的边缘检测为1，从黑色到白色的边缘检测为-1。所有其他输出取值为0。因此可以检测边缘。"
   ]
  },
  {
   "cell_type": "code",
   "execution_count": 7,
   "metadata": {},
   "outputs": [
    {
     "data": {
      "text/plain": [
       "array([[ 0.,  1.,  0.,  0.,  0., -1.,  0.],\n",
       "       [ 0.,  1.,  0.,  0.,  0., -1.,  0.],\n",
       "       [ 0.,  1.,  0.,  0.,  0., -1.,  0.],\n",
       "       [ 0.,  1.,  0.,  0.,  0., -1.,  0.],\n",
       "       [ 0.,  1.,  0.,  0.,  0., -1.,  0.],\n",
       "       [ 0.,  1.,  0.,  0.,  0., -1.,  0.]])"
      ]
     },
     "execution_count": 7,
     "metadata": {},
     "output_type": "execute_result"
    }
   ],
   "source": [
    "Y = corr2d(X, K)\n",
    "Y"
   ]
  },
  {
   "cell_type": "markdown",
   "metadata": {},
   "source": [
    "## 1.4 学习内核\n",
    "使用物体边缘检测中输入数据X和数据Y来学习内核K。\n",
    "+ 构造一个卷积层，初始化随机数组\n",
    "+ 每一次迭代中，使用平方误差比较Y和卷积层数据\n",
    "+ 然后通过autogrid更新权重\n",
    "+ 为了简单，忽略了偏差use_bias=False"
   ]
  },
  {
   "cell_type": "code",
   "execution_count": 8,
   "metadata": {},
   "outputs": [
    {
     "name": "stdout",
     "output_type": "stream",
     "text": [
      "batch 1, loss 12.0800\n",
      "batch 2, loss 4.9493\n",
      "batch 3, loss 2.0281\n",
      "batch 4, loss 0.8313\n",
      "batch 5, loss 0.3408\n",
      "batch 6, loss 0.1398\n",
      "batch 7, loss 0.0574\n",
      "batch 8, loss 0.0236\n",
      "batch 9, loss 0.0097\n",
      "batch 10, loss 0.0040\n"
     ]
    }
   ],
   "source": [
    "conv2d = nn.Conv2D(1, kernel_size=(1, 2), use_bias=False)\n",
    "conv2d.initialize()\n",
    "\n",
    "X = X.reshape(1, 1, 6, 8)\n",
    "Y = Y.reshape(1, 1, 6, 7)\n",
    "\n",
    "for i in range(10):\n",
    "    with autograd.record():\n",
    "        Y_hat = conv2d(X)\n",
    "        l = (Y_hat-Y) ** 2\n",
    "    l.backward()\n",
    "    # 更新权重\n",
    "    conv2d.weight.data()[:] -= 3e-2 * conv2d.weight.grad()\n",
    "    print(f'batch {i + 1}, loss {float(l.sum()):.4f}')"
   ]
  },
  {
   "cell_type": "markdown",
   "metadata": {},
   "source": [
    "+ 学习到的张量跟之前定义的[1, -1]已经非常接近了"
   ]
  },
  {
   "cell_type": "code",
   "execution_count": 9,
   "metadata": {},
   "outputs": [
    {
     "data": {
      "text/plain": [
       "array([[ 0.9895   , -0.9873705]])"
      ]
     },
     "execution_count": 9,
     "metadata": {},
     "output_type": "execute_result"
    }
   ],
   "source": [
    "conv2d.weight.data().reshape(1,2)"
   ]
  },
  {
   "cell_type": "markdown",
   "metadata": {},
   "source": [
    "## 1.5 特征图和感受野\n",
    "二维卷积层输出的二维数组可以看作输入在空间维度（宽和高）上某一级的表征，也叫特征图（feature map）。\n",
    "影响元素 x 的前向计算的所有可能输入区域（可能大于输入的实际尺寸）叫做 x 的感受野（receptive field）。"
   ]
  },
  {
   "cell_type": "markdown",
   "metadata": {},
   "source": [
    "# 2. 填充和步幅\n",
    "上面例子中, 我们使用高和宽为3的输入与高和宽为2的卷积核得到高和宽为2的输出。一般来说，假设输入形状是$n_h×n_w$，卷积核窗口形状是$k_h×k_w$，那么输出形状将会是  $(n_h−k_h+1)×(n_w−k_w+1)$ 。因此，卷积层的输出形状由输入的形状和卷积核的形状确定。卷积层的输出形状由输入形状和卷积核窗口形状决定。除此之外我们可以通过填充和步幅对给定形状的输入和卷积核改变输出形状。"
   ]
  },
  {
   "attachments": {
    "88f4343c-5fba-4cea-a9b7-8dc1c3c4e053.png": {
     "image/png": "[encoded data removed]"
    }
   },
   "cell_type": "markdown",
   "metadata": {},
   "source": [
    "## 2.1 填充\n",
    "由于图像边缘的问题可能导致扫描不全，信息丢失，对于任何给定的卷积，我们可能只会损失几个像素，但是许多连续卷积层的话损失就会叠加。解决这一问题的方法是在图像的边界外填充额外的像素，从而正价图像的有效尺寸。通常会设置额外像素为0。\n",
    "\n",
    "![image.png](attachment:88f4343c-5fba-4cea-a9b7-8dc1c3c4e053.png)\n",
    "\n",
    "卷积神经网络经常使用奇数高和宽的卷积核，如1、3、5和7，所以两端上的填充个数相等。对任意的二维数组X，设它的第i行第j列的元素为X[i,j]。当两端上的填充个数相等，并使输入和输出具有相同的高和宽时，我们就知道输出Y[i,j]是由输入以X[i,j]为中心的窗口同卷积核进行互相关计算得到的。\n",
    "\n",
    "通过一个例子说明，创建一个高度和宽度为3的二维卷积层，并在所有面上应用1个填充像素。给定高度和宽度为8的输入，我们发现输出的高度和宽度也为8。"
   ]
  },
  {
   "cell_type": "code",
   "execution_count": 10,
   "metadata": {},
   "outputs": [
    {
     "data": {
      "text/plain": [
       "(8, 8)"
      ]
     },
     "execution_count": 10,
     "metadata": {},
     "output_type": "execute_result"
    }
   ],
   "source": [
    "def comp_conv2d(conv2d, X):\n",
    "    conv2d.initialize()\n",
    "    \n",
    "    # 这里添加的（1,1）纬度分别为批次和通道都是1\n",
    "    X= X.reshape((1,1) + X.shape)\n",
    "    Y = conv2d(X)\n",
    "\n",
    "    return Y.reshape(Y.shape[2:])  # 去掉批次和通道的纬度\n",
    "\n",
    "conv2d = nn.Conv2D(1, kernel_size=3, padding=1)\n",
    "X = np.random.uniform(size=(8, 8))\n",
    "comp_conv2d(conv2d, X).shape"
   ]
  },
  {
   "cell_type": "markdown",
   "metadata": {},
   "source": [
    "+ 当卷积核的高度和宽度不同时，我们可以通过为高度和宽度设置不同的填充数来使输出和输入具有相同的高度和宽度。"
   ]
  },
  {
   "cell_type": "code",
   "execution_count": 11,
   "metadata": {},
   "outputs": [
    {
     "data": {
      "text/plain": [
       "(8, 8)"
      ]
     },
     "execution_count": 11,
     "metadata": {},
     "output_type": "execute_result"
    }
   ],
   "source": [
    "conv2d = nn.Conv2D(1, kernel_size=(5, 3), padding=(2, 1))\n",
    "comp_conv2d(conv2d, X).shape"
   ]
  },
  {
   "attachments": {
    "24dec0af-d5cf-4323-a7f8-4a92e6b48b97.png": {
     "image/png": "[encoded data removed]"
    }
   },
   "cell_type": "markdown",
   "metadata": {},
   "source": [
    "## 2.2 步幅\n",
    "在前面的示例中都是内核每次只移动一个单位。但是，有时为了提高计算效率或因为我们希望降低采样率，我们一次将窗口移动一个以上元素，从而跳过了中间位置。\n",
    "我们将每张幻灯片所经过的行数和列数称为步幅（stride）。\n",
    "下图中在高上步幅为3、在宽上步幅为2的二维互相关运算。可以看到，输出第一列第二个元素时，卷积窗口向下滑动了3行，而在输出第一行第二个元素时卷积窗口向右滑动了2列。\n",
    "\n",
    "![image.png](attachment:24dec0af-d5cf-4323-a7f8-4a92e6b48b97.png)\n",
    "\n",
    "下面，我们将高度和宽度的跨度都设置为2，从而将输入的高度和宽度减半。"
   ]
  },
  {
   "cell_type": "code",
   "execution_count": 12,
   "metadata": {},
   "outputs": [
    {
     "data": {
      "text/plain": [
       "(4, 4)"
      ]
     },
     "execution_count": 12,
     "metadata": {},
     "output_type": "execute_result"
    }
   ],
   "source": [
    "conv2d = nn.Conv2D(1, kernel_size=3, padding=1, strides=2)\n",
    "comp_conv2d(conv2d, X).shape"
   ]
  },
  {
   "cell_type": "markdown",
   "metadata": {},
   "source": [
    "为了表述简洁，当输入的高和宽两侧的填充数分别为$p_h$和$p_w$时，我们称填充为$(p_h,p_w)$。特别地，当$p_h=p_w=p$时，填充为p。当在高和宽上的步幅分别为$s_h$和$s_w$时，我们称步幅为$(s_h,s_w)$。特别地，当$s_h=s_w=s$时，步幅为s。在默认情况下，填充为0，步幅为1。"
   ]
  },
  {
   "attachments": {
    "1a9cd3a4-ab43-42ea-8c81-12056b506da3.png": {
     "image/png": "[encoded data removed]"
    }
   },
   "cell_type": "markdown",
   "metadata": {},
   "source": [
    "# 3.多通道\n",
    "\n",
    "彩色图片都是多通道的（例如，彩色图像具有标准的RGB通道以指示红色，绿色和蓝色的数量）和多个通道的卷积层，但到目前为止，我们简化了所有通过仅使用单个输入和单个输出通道的数值示例。这使我们可以将输入，卷积核和输出视为二维张量。\n",
    "每个RGB输入图像都有形状 3×h×w 。我们将此尺寸为3的轴称为通道尺寸。\n",
    "\n",
    "## 3.1 多通道输入\n",
    "当  $c_i$>1 ，我们需要一个包含形状张量的内核  $k_h×k_w$ 对于每个输入通道。串联这些 $c_i$  张量一起产生形状的卷积核  $c_i×k_h×k_w$ 。由于输入和卷积内核分别具有 $c_i$  通道，我们可以针对每个通道在输入的二维张量和卷积内核的二维张量上执行互相关运算，  $c_i$ 结果相加（在通道上求和）以生成二维张量。这是多通道输入和多输入通道卷积内核之间二维互相关的结果。\n",
    "\n",
    "![image.png](attachment:1a9cd3a4-ab43-42ea-8c81-12056b506da3.png)\n",
    "\n",
    "通过实例证明一下："
   ]
  },
  {
   "cell_type": "code",
   "execution_count": 13,
   "metadata": {},
   "outputs": [
    {
     "data": {
      "text/plain": [
       "array([[ 56.,  72.],\n",
       "       [104., 120.]])"
      ]
     },
     "execution_count": 13,
     "metadata": {},
     "output_type": "execute_result"
    }
   ],
   "source": [
    "def corr2d_multi_in(X, K):\n",
    "\n",
    "    return sum(corr2d(x, k) for x, k in zip(X, K))\n",
    "\n",
    "X = np.array([[[0.0, 1.0, 2.0], [3.0, 4.0, 5.0], [6.0, 7.0, 8.0]],\n",
    "               [[1.0, 2.0, 3.0], [4.0, 5.0, 6.0], [7.0, 8.0, 9.0]]])\n",
    "K = np.array([[[0.0, 1.0], [2.0, 3.0]], [[1.0, 2.0], [3.0, 4.0]]])\n",
    "\n",
    "corr2d_multi_in(X, K)"
   ]
  },
  {
   "cell_type": "markdown",
   "metadata": {},
   "source": [
    "## 3.2 多个通道输出\n",
    "\n",
    "不管输入通道有多少，到目前为止，我们总是以一个输出通道结束。在最流行的神经网络体系结构中，实际上随着神经网络的更有效而增加通道的尺寸，通常是降低采样以换取空间分辨率以获得更大的通道深度。\n",
    "\n",
    " $c_i$  和 $c_o$  输入和输出通道数，分别为  $k_h$  和 $k_w$ 是内核的高度和宽度。为了获得具有多个通道的输出，我们可以创建形状的内核张量 $c_i×k_h×k_w$  对于每个输出通道。我们将它们串联在输出通道维度上，以便卷积核的形状为  $c_o×c_i×k_h×k_w$。"
   ]
  },
  {
   "cell_type": "code",
   "execution_count": 14,
   "metadata": {},
   "outputs": [],
   "source": [
    "def corr2d_multi_in_out(X, K):\n",
    "\n",
    "    return np.stack([corr2d_multi_in(X, k) for k in K], 0)"
   ]
  },
  {
   "cell_type": "markdown",
   "metadata": {},
   "source": [
    "通过叠加三个内核，组成一个新的内核"
   ]
  },
  {
   "cell_type": "code",
   "execution_count": 15,
   "metadata": {},
   "outputs": [
    {
     "data": {
      "text/plain": [
       "(3, 2, 2, 2)"
      ]
     },
     "execution_count": 15,
     "metadata": {},
     "output_type": "execute_result"
    }
   ],
   "source": [
    "K = np.stack((K, K + 1, K + 2))\n",
    "K.shape"
   ]
  },
  {
   "cell_type": "code",
   "execution_count": 16,
   "metadata": {},
   "outputs": [
    {
     "data": {
      "text/plain": [
       "array([[[ 56.,  72.],\n",
       "        [104., 120.]],\n",
       "\n",
       "       [[ 76., 100.],\n",
       "        [148., 172.]],\n",
       "\n",
       "       [[ 96., 128.],\n",
       "        [192., 224.]]])"
      ]
     },
     "execution_count": 16,
     "metadata": {},
     "output_type": "execute_result"
    }
   ],
   "source": [
    "corr2d_multi_in_out(X, K)"
   ]
  },
  {
   "attachments": {
    "38cefd69-4fb7-4819-a18b-82d65debf59f.png": {
     "image/png": "[encoded data removed]"
    }
   },
   "cell_type": "markdown",
   "metadata": {},
   "source": [
    "## 3.3 $1X1$ 卷积层\n",
    "\n",
    "$1×1$  卷积，即 $ k_h=k_w=1$ ，似乎没有多大意义。毕竟，卷积使相邻像素相关。一种$ 1×1$ 卷积显然没有。尽管如此，它们还是流行的操作，有时会包含在复杂的深度网络的设计中。\n",
    "\n",
    "由于使用了最小窗口，因此  $1×1$ 卷积失去了较大的卷积层识别模式的能力,唯一的计算 $1×1$  卷积发生在通道尺寸上。\n",
    "\n",
    "![image.png](attachment:38cefd69-4fb7-4819-a18b-82d65debf59f.png)\n",
    "\n",
    "实践一下：我们实现了  1×1 使用全连接层进行卷积。唯一的事情是我们需要在矩阵乘法之前和之后对数据形状进行一些调整。"
   ]
  },
  {
   "cell_type": "code",
   "execution_count": 17,
   "metadata": {},
   "outputs": [],
   "source": [
    "def corr2d_multi_in_out_1x1(X, K):\n",
    "    c_i, h, w = X.shape\n",
    "    c_o = K.shape[0]\n",
    "    X = X.reshape((c_i, h * w))\n",
    "    K = K.reshape((c_o, c_i))\n",
    "    Y = np.dot(K, X)  \n",
    "    return Y.reshape((c_o, h, w))"
   ]
  },
  {
   "cell_type": "markdown",
   "metadata": {},
   "source": [
    "上述函数等效于先前实现的互相关函数 corr2d_multi_in_out。让我们用一些样本数据进行检查。"
   ]
  },
  {
   "cell_type": "code",
   "execution_count": 18,
   "metadata": {},
   "outputs": [],
   "source": [
    "X = np.random.normal(0, 1, (3, 3, 3))\n",
    "K = np.random.normal(0, 1, (2, 3, 1, 1))\n",
    "\n",
    "Y1 = corr2d_multi_in_out_1x1(X, K)\n",
    "Y2 = corr2d_multi_in_out(X, K)\n",
    "assert float(d2l.reduce_sum(np.abs(Y1 - Y2))) < 1e-6"
   ]
  },
  {
   "cell_type": "markdown",
   "metadata": {},
   "source": [
    "# 4. 池化层\n",
    "在处理图像时，我们希望逐渐降低隐藏的空间分辨率，聚集信息，以使我们在网络中越往上走，每个隐藏节点的感受野更敏感。在边缘检测应用中，我们构造卷积核从而精确地找到了像素变化的位置。实际图像里，我们感兴趣的物体不会总出现在固定位置：即使我们连续拍摄同一个物体也极有可能出现像素位置上的偏移。这会导致同一个边缘对应的输出可能出现在卷积输出Y中的不同位置，进而对后面的模式识别造成不便。\n",
    "\n",
    "这里介绍池化层（pooling）层，其有两个作用：减轻卷积层对位置的敏感性以及空间下采样表示的敏感性。"
   ]
  },
  {
   "cell_type": "markdown",
   "metadata": {},
   "source": [
    "## 4.1 最大池化层和平均池化层\n",
    "池化层每次对输入数据的一个固定形状窗口（又称池化窗口）中的元素计算输出。不同于卷积层里计算输入和核的互相关性，池化层直接计算池化窗口内元素的最大值或者平均值。该运算也分别叫做最大池化或平均池化。在二维最大池化中，池化窗口从输入数组的最左上方开始，按从左往右、从上往下的顺序，依次在输入数组上滑动。当池化窗口滑动到某一位置时，窗口中的输入子数组的最大值即输出数组中相应位置的元素。\n",
    "\n",
    "池化窗口形状为  p×q  被称为  p×q 池层。池化操作称为 p×q  集中。\n",
    "\n",
    "构建一个二维池化层，与corr2d相比，这里没有内核，将输出计算为输入中每个区域的最大值或平均值。"
   ]
  },
  {
   "cell_type": "code",
   "execution_count": 19,
   "metadata": {},
   "outputs": [],
   "source": [
    "def pool2d(X, pool_size, mode='max'):\n",
    "    p_h, p_w = pool_size\n",
    "    Y = np.zeros((X.shape[0] - p_h + 1, X.shape[1] - p_w + 1))\n",
    "    for i in range(Y.shape[0]):\n",
    "        for j in range(Y.shape[1]):\n",
    "            if mode == 'max':\n",
    "                Y[i, j] = X[i: i + p_h, j: j + p_w].max()\n",
    "            elif mode == 'avg':\n",
    "                Y[i, j] = X[i: i + p_h, j: j + p_w].mean()\n",
    "    return Y"
   ]
  },
  {
   "cell_type": "code",
   "execution_count": 20,
   "metadata": {},
   "outputs": [
    {
     "data": {
      "text/plain": [
       "array([[4., 5.],\n",
       "       [7., 8.]])"
      ]
     },
     "execution_count": 20,
     "metadata": {},
     "output_type": "execute_result"
    }
   ],
   "source": [
    "X = np.array([[0.0, 1.0, 2.0], [3.0, 4.0, 5.0], [6.0, 7.0, 8.0]])\n",
    "pool2d(X, (2, 2))"
   ]
  },
  {
   "cell_type": "markdown",
   "metadata": {},
   "source": [
    "## 4.2 填充、步幅和通道\n",
    "用法基本同卷积层"
   ]
  },
  {
   "cell_type": "markdown",
   "metadata": {},
   "source": [
    "# 5. 卷积神经网络（LeNet）\n",
    "\n",
    "之前我们构造了一个含单隐藏层的多层感知机模型来对Fashion-MNIST数据集中的图像进行分类。每张图像高和宽均是28像素。我们将图像中的像素逐行展开，得到长度为784的向量，并输入进全连接层中。现在可以使用卷积层处理，可以保留图片本来的空间结构，此外还可以享受更多的简化模型，这些模型需要更少的参数。\n",
    "\n",
    "## 5.1 LeNet\n",
    "LeNet，它是最早发布的CNN之一，以其在计算机视觉任务上的性能引起广泛关注。该模型由当时的AT＆T贝尔实验室研究员Yann LeCun引入（并以其命名），目的是识别图像中的手写数字。\n",
    "\n",
    "LeNet分为卷积层块和全连接层块两个部分：\n",
    "+ 由两个卷积层组成的卷积编码器；\n",
    "+ 由三个完全连接的层组成的密集块；\n",
    "\n",
    "每个卷积块中的基本单元是卷积层，S型激活函数以及随后的平均池化操作。请注意，尽管ReLU和max-pooling的工作效果更好，但在1990年代尚未发现这些发现。每个卷积层使用一个  5×5 内核和S型激活函数。这些层将空间排列的输入映射到多个二维特征图，通常会增加通道数。第一卷积层具有6个输出通道，而第二个卷积层具有16个输出通道。  2×2  合并操作（第2步）将维度降低了  4 通过空间下采样。卷积块发出一个输出，该输出的形状为（批大小，通道数，高度，宽度）。\n",
    "\n",
    "LeNet的密集模块具有三个完全连接的层，分别具有120、84和10个输出。因为我们仍在执行分类，所以10维输出层对应于可能的输出类别的数量。\n",
    "\n",
    "下面构建LeNet的神经网络，我们对原始模型略加自由，在最后一层中删除了高斯激活。除此之外，该网络与原始LeNet-5架构匹配。："
   ]
  },
  {
   "cell_type": "code",
   "execution_count": 21,
   "metadata": {},
   "outputs": [],
   "source": [
    "net = nn.Sequential()\n",
    "net.add(nn.Conv2D(channels=6, kernel_size=5, padding=2, activation='sigmoid'),\n",
    "        nn.AvgPool2D(pool_size=2, strides=2),\n",
    "        nn.Conv2D(channels=16, kernel_size=5, activation='sigmoid'),\n",
    "        nn.AvgPool2D(pool_size=2, strides=2),\n",
    "        # Dense会默认将(批量大小, 通道, 高, 宽)形状的输入转换成(批量大小, 通道 * 高 * 宽)形状的输入\n",
    "        nn.Dense(120, activation='sigmoid'),\n",
    "        nn.Dense(84, activation='sigmoid'),\n",
    "        nn.Dense(10))"
   ]
  },
  {
   "cell_type": "markdown",
   "metadata": {},
   "source": [
    "## 5.2 训练\n",
    "\n",
    "现在我们已经实现了模型，让我们进行一个实验，看看LeNet在Fashion-MNIST上的表现如何。"
   ]
  },
  {
   "cell_type": "markdown",
   "metadata": {},
   "source": [
    "### 5.2.1 获取数据\n",
    "使用d2l获取数据，同时为了更快的训练使用gpu"
   ]
  },
  {
   "cell_type": "code",
   "execution_count": 22,
   "metadata": {},
   "outputs": [],
   "source": [
    "ctx = npx.gpu() if npx.num_gpus() > 0 else npx.cpu()\n",
    "\n",
    "batch_size = 256\n",
    "train_iter, test_iter = d2l.load_data_fashion_mnist(batch_size=batch_size)"
   ]
  },
  {
   "cell_type": "markdown",
   "metadata": {},
   "source": [
    "+ 训练和获取准确率函数，以及可视化都用MLP中使用的那些，lr稍微提高到0.9，损失函数依旧是交叉熵"
   ]
  },
  {
   "cell_type": "code",
   "execution_count": 23,
   "metadata": {},
   "outputs": [],
   "source": [
    "def accuracy(y_hat, y): \n",
    "    if len(y_hat.shape) > 1 and y_hat.shape[1] > 1:\n",
    "        y_hat = y_hat.argmax(axis=1)\n",
    "    cmp = y_hat.astype(y.dtype) == y\n",
    "    return float(d2l.reduce_sum(cmp))\n",
    "\n",
    "def train_epoch(net, train_iter, loss, updater):\n",
    "    \n",
    "    l_sum = acc_rate = total = 0\n",
    "    \n",
    "    if isinstance(updater, gluon.Trainer):\n",
    "        updater = updater.step\n",
    "        \n",
    "    for X,y in train_iter:\n",
    "        X = X.copyto(ctx)\n",
    "        y = y.copyto(ctx)\n",
    "        with autograd.record():\n",
    "            pre_y = net(X)\n",
    "            l = loss(pre_y, y)\n",
    "        l.backward()\n",
    "        updater(y.size)\n",
    "        l_sum += float(l.sum())\n",
    "        acc_rate += accuracy(pre_y, y)\n",
    "        total += y.size\n",
    "    return l_sum/total, acc_rate/total\n",
    "\n",
    "def evaluate_accuracy(net, data_iter):  \n",
    "\n",
    "    match_num = total_num = 0\n",
    "    for _, (X, y) in enumerate(data_iter):\n",
    "        X = X.as_in_context(ctx)\n",
    "        y = y.as_in_context(ctx)\n",
    "        match_num += accuracy(net(X), y)\n",
    "        total_num += y.size\n",
    "    return match_num / total_num\n",
    "\n",
    "def train(net, train_iter, test_iter, epochs, lr):\n",
    "    \n",
    "    net.initialize(force_reinit=True, ctx=ctx, init=init.Xavier())\n",
    "    loss = gluon.loss.SoftmaxCrossEntropyLoss()\n",
    "    trainer = gluon.Trainer(net.collect_params(), 'sgd',  {'learning_rate': lr})\n",
    "    l_lst, acc_lst, test_acc_lst = [], [], []\n",
    "    timer = d2l.Timer()\n",
    "    for epoch in range(epochs):\n",
    "        timer.start()\n",
    "        l, acc = train_epoch(net, train_iter, loss, trainer)\n",
    "        timer.stop()\n",
    "        test_acc = evaluate_accuracy(net, test_iter)\n",
    "        l_lst.append(l)\n",
    "        acc_lst.append(acc)\n",
    "        test_acc_lst.append(test_acc)\n",
    "    print(f'loss {l:.3f}, train acc {acc:.3f}, '\n",
    "          f'test acc {test_acc:.3f}')\n",
    "    print(f'{timer.sum():.1f} sec '\n",
    "          f'on {str(ctx)}')\n",
    "    return [l_lst, acc_lst, test_acc_lst]\n",
    "\n",
    "def draw_graph(result):\n",
    "    data = []\n",
    "    colors = ['aquamarine', 'orange', 'hotpink']\n",
    "    names = ['train loss', 'train acc', 'test acc']\n",
    "    symbols = ['circle-open', 'cross-open', 'triangle-up-open']\n",
    "    for i, info in enumerate(result):\n",
    "        trace = go.Scatter(\n",
    "            x = list(range(1, num_epochs+1)),\n",
    "            y = info,\n",
    "            mode = 'lines+markers',\n",
    "            name = names[i],\n",
    "            marker = {\n",
    "                'color':colors[i],\n",
    "                'symbol':symbols[i],\n",
    "            },\n",
    "        )\n",
    "        data.append(trace)\n",
    "    fig = go.Figure(data = data)\n",
    "    fig.update_layout(xaxis_title='epochs', width=800, height=480)\n",
    "    fig.show()"
   ]
  },
  {
   "cell_type": "markdown",
   "metadata": {},
   "source": [
    "训练和评估LeNet-5模型。"
   ]
  },
  {
   "cell_type": "code",
   "execution_count": 28,
   "metadata": {},
   "outputs": [
    {
     "name": "stdout",
     "output_type": "stream",
     "text": [
      "loss 0.289, train acc 0.893, test acc 0.880\n",
      "77.7 sec on gpu(0)\n"
     ]
    }
   ],
   "source": [
    "num_epochs, lr = 40, 0.9\n",
    "result = train(net, train_iter, test_iter,  num_epochs, lr)"
   ]
  },
  {
   "cell_type": "code",
   "execution_count": 29,
   "metadata": {},
   "outputs": [
    {
     "data": {
      "application/vnd.plotly.v1+json": {
       "config": {
        "plotlyServerURL": "https://plot.ly"
       },
       "data": [
        {
         "marker": {
          "color": "aquamarine",
          "symbol": "circle-open"
         },
         "mode": "lines+markers",
         "name": "train loss",
         "type": "scatter",
         "x": [
          1,
          2,
          3,
          4,
          5,
          6,
          7,
          8,
          9,
          10,
          11,
          12,
          13,
          14,
          15,
          16,
          17,
          18,
          19,
          20,
          21,
          22,
          23,
          24,
          25,
          26,
          27,
          28,
          29,
          30,
          31,
          32,
          33,
          34,
          35,
          36,
          37,
          38,
          39,
          40
         ],
         "y": [
          2.320929435475667,
          2.3048057688395183,
          2.046454032389323,
          0.9991595278422037,
          0.8019646516164144,
          0.6858774688720704,
          0.6282621452331543,
          0.5782778540293375,
          0.5380480339050293,
          0.5070939482371012,
          0.4818277774175008,
          0.4567945174535116,
          0.4452612767537435,
          0.43288966369628906,
          0.42095197092692055,
          0.40740615221659343,
          0.3970849900563558,
          0.38941682249704995,
          0.3835456560134888,
          0.37420943113962807,
          0.37028069947560627,
          0.36420242484410603,
          0.35523515319824217,
          0.35286846618652346,
          0.3462083360671997,
          0.33969315490722657,
          0.33573505770365397,
          0.3298542418162028,
          0.32809542945226033,
          0.3230463456471761,
          0.31767863655090334,
          0.3137386879920959,
          0.31114581826527915,
          0.3056335614204407,
          0.3024212481180827,
          0.3003420249938965,
          0.29616113726298016,
          0.2931337882677714,
          0.29118701972961425,
          0.28912429650624594
         ]
        },
        {
         "marker": {
          "color": "orange",
          "symbol": "cross-open"
         },
         "mode": "lines+markers",
         "name": "train acc",
         "type": "scatter",
         "x": [
          1,
          2,
          3,
          4,
          5,
          6,
          7,
          8,
          9,
          10,
          11,
          12,
          13,
          14,
          15,
          16,
          17,
          18,
          19,
          20,
          21,
          22,
          23,
          24,
          25,
          26,
          27,
          28,
          29,
          30,
          31,
          32,
          33,
          34,
          35,
          36,
          37,
          38,
          39,
          40
         ],
         "y": [
          0.09863333333333334,
          0.10163333333333334,
          0.2122,
          0.5940166666666666,
          0.68495,
          0.7306666666666667,
          0.7534333333333333,
          0.7752166666666667,
          0.7927666666666666,
          0.8064333333333333,
          0.8175,
          0.8287333333333333,
          0.8329166666666666,
          0.83805,
          0.8436,
          0.8485833333333334,
          0.8514833333333334,
          0.8543666666666667,
          0.8582666666666666,
          0.8611666666666666,
          0.8629,
          0.86495,
          0.86765,
          0.8690166666666667,
          0.8719833333333333,
          0.8747,
          0.8749333333333333,
          0.87845,
          0.8777,
          0.87935,
          0.8811166666666667,
          0.8833833333333333,
          0.8836166666666667,
          0.8857166666666667,
          0.8863333333333333,
          0.8884833333333333,
          0.8904333333333333,
          0.8909333333333334,
          0.89095,
          0.8928333333333334
         ]
        },
        {
         "marker": {
          "color": "hotpink",
          "symbol": "triangle-up-open"
         },
         "mode": "lines+markers",
         "name": "test acc",
         "type": "scatter",
         "x": [
          1,
          2,
          3,
          4,
          5,
          6,
          7,
          8,
          9,
          10,
          11,
          12,
          13,
          14,
          15,
          16,
          17,
          18,
          19,
          20,
          21,
          22,
          23,
          24,
          25,
          26,
          27,
          28,
          29,
          30,
          31,
          32,
          33,
          34,
          35,
          36,
          37,
          38,
          39,
          40
         ],
         "y": [
          0.1,
          0.1,
          0.4529,
          0.6359,
          0.7154,
          0.722,
          0.7502,
          0.7494,
          0.8059,
          0.8258,
          0.8296,
          0.801,
          0.8272,
          0.8232,
          0.8421,
          0.8217,
          0.8534,
          0.849,
          0.8518,
          0.8512,
          0.8612,
          0.8424,
          0.8628,
          0.8655,
          0.8484,
          0.8649,
          0.8556,
          0.8619,
          0.8549,
          0.8727,
          0.8496,
          0.8771,
          0.8775,
          0.8721,
          0.8791,
          0.876,
          0.8764,
          0.8674,
          0.859,
          0.8797
         ]
        }
       ],
       "layout": {
        "height": 480,
        "template": {
         "data": {
          "bar": [
           {
            "error_x": {
             "color": "#2a3f5f"
            },
            "error_y": {
             "color": "#2a3f5f"
            },
            "marker": {
             "line": {
              "color": "#E5ECF6",
              "width": 0.5
             }
            },
            "type": "bar"
           }
          ],
          "barpolar": [
           {
            "marker": {
             "line": {
              "color": "#E5ECF6",
              "width": 0.5
             }
            },
            "type": "barpolar"
           }
          ],
          "carpet": [
           {
            "aaxis": {
             "endlinecolor": "#2a3f5f",
             "gridcolor": "white",
             "linecolor": "white",
             "minorgridcolor": "white",
             "startlinecolor": "#2a3f5f"
            },
            "baxis": {
             "endlinecolor": "#2a3f5f",
             "gridcolor": "white",
             "linecolor": "white",
             "minorgridcolor": "white",
             "startlinecolor": "#2a3f5f"
            },
            "type": "carpet"
           }
          ],
          "choropleth": [
           {
            "colorbar": {
             "outlinewidth": 0,
             "ticks": ""
            },
            "type": "choropleth"
           }
          ],
          "contour": [
           {
            "colorbar": {
             "outlinewidth": 0,
             "ticks": ""
            },
            "colorscale": [
             [
              0,
              "#0d0887"
             ],
             [
              0.1111111111111111,
              "#46039f"
             ],
             [
              0.2222222222222222,
              "#7201a8"
             ],
             [
              0.3333333333333333,
              "#9c179e"
             ],
             [
              0.4444444444444444,
              "#bd3786"
             ],
             [
              0.5555555555555556,
              "#d8576b"
             ],
             [
              0.6666666666666666,
              "#ed7953"
             ],
             [
              0.7777777777777778,
              "#fb9f3a"
             ],
             [
              0.8888888888888888,
              "#fdca26"
             ],
             [
              1,
              "#f0f921"
             ]
            ],
            "type": "contour"
           }
          ],
          "contourcarpet": [
           {
            "colorbar": {
             "outlinewidth": 0,
             "ticks": ""
            },
            "type": "contourcarpet"
           }
          ],
          "heatmap": [
           {
            "colorbar": {
             "outlinewidth": 0,
             "ticks": ""
            },
            "colorscale": [
             [
              0,
              "#0d0887"
             ],
             [
              0.1111111111111111,
              "#46039f"
             ],
             [
              0.2222222222222222,
              "#7201a8"
             ],
             [
              0.3333333333333333,
              "#9c179e"
             ],
             [
              0.4444444444444444,
              "#bd3786"
             ],
             [
              0.5555555555555556,
              "#d8576b"
             ],
             [
              0.6666666666666666,
              "#ed7953"
             ],
             [
              0.7777777777777778,
              "#fb9f3a"
             ],
             [
              0.8888888888888888,
              "#fdca26"
             ],
             [
              1,
              "#f0f921"
             ]
            ],
            "type": "heatmap"
           }
          ],
          "heatmapgl": [
           {
            "colorbar": {
             "outlinewidth": 0,
             "ticks": ""
            },
            "colorscale": [
             [
              0,
              "#0d0887"
             ],
             [
              0.1111111111111111,
              "#46039f"
             ],
             [
              0.2222222222222222,
              "#7201a8"
             ],
             [
              0.3333333333333333,
              "#9c179e"
             ],
             [
              0.4444444444444444,
              "#bd3786"
             ],
             [
              0.5555555555555556,
              "#d8576b"
             ],
             [
              0.6666666666666666,
              "#ed7953"
             ],
             [
              0.7777777777777778,
              "#fb9f3a"
             ],
             [
              0.8888888888888888,
              "#fdca26"
             ],
             [
              1,
              "#f0f921"
             ]
            ],
            "type": "heatmapgl"
           }
          ],
          "histogram": [
           {
            "marker": {
             "colorbar": {
              "outlinewidth": 0,
              "ticks": ""
             }
            },
            "type": "histogram"
           }
          ],
          "histogram2d": [
           {
            "colorbar": {
             "outlinewidth": 0,
             "ticks": ""
            },
            "colorscale": [
             [
              0,
              "#0d0887"
             ],
             [
              0.1111111111111111,
              "#46039f"
             ],
             [
              0.2222222222222222,
              "#7201a8"
             ],
             [
              0.3333333333333333,
              "#9c179e"
             ],
             [
              0.4444444444444444,
              "#bd3786"
             ],
             [
              0.5555555555555556,
              "#d8576b"
             ],
             [
              0.6666666666666666,
              "#ed7953"
             ],
             [
              0.7777777777777778,
              "#fb9f3a"
             ],
             [
              0.8888888888888888,
              "#fdca26"
             ],
             [
              1,
              "#f0f921"
             ]
            ],
            "type": "histogram2d"
           }
          ],
          "histogram2dcontour": [
           {
            "colorbar": {
             "outlinewidth": 0,
             "ticks": ""
            },
            "colorscale": [
             [
              0,
              "#0d0887"
             ],
             [
              0.1111111111111111,
              "#46039f"
             ],
             [
              0.2222222222222222,
              "#7201a8"
             ],
             [
              0.3333333333333333,
              "#9c179e"
             ],
             [
              0.4444444444444444,
              "#bd3786"
             ],
             [
              0.5555555555555556,
              "#d8576b"
             ],
             [
              0.6666666666666666,
              "#ed7953"
             ],
             [
              0.7777777777777778,
              "#fb9f3a"
             ],
             [
              0.8888888888888888,
              "#fdca26"
             ],
             [
              1,
              "#f0f921"
             ]
            ],
            "type": "histogram2dcontour"
           }
          ],
          "mesh3d": [
           {
            "colorbar": {
             "outlinewidth": 0,
             "ticks": ""
            },
            "type": "mesh3d"
           }
          ],
          "parcoords": [
           {
            "line": {
             "colorbar": {
              "outlinewidth": 0,
              "ticks": ""
             }
            },
            "type": "parcoords"
           }
          ],
          "pie": [
           {
            "automargin": true,
            "type": "pie"
           }
          ],
          "scatter": [
           {
            "marker": {
             "colorbar": {
              "outlinewidth": 0,
              "ticks": ""
             }
            },
            "type": "scatter"
           }
          ],
          "scatter3d": [
           {
            "line": {
             "colorbar": {
              "outlinewidth": 0,
              "ticks": ""
             }
            },
            "marker": {
             "colorbar": {
              "outlinewidth": 0,
              "ticks": ""
             }
            },
            "type": "scatter3d"
           }
          ],
          "scattercarpet": [
           {
            "marker": {
             "colorbar": {
              "outlinewidth": 0,
              "ticks": ""
             }
            },
            "type": "scattercarpet"
           }
          ],
          "scattergeo": [
           {
            "marker": {
             "colorbar": {
              "outlinewidth": 0,
              "ticks": ""
             }
            },
            "type": "scattergeo"
           }
          ],
          "scattergl": [
           {
            "marker": {
             "colorbar": {
              "outlinewidth": 0,
              "ticks": ""
             }
            },
            "type": "scattergl"
           }
          ],
          "scattermapbox": [
           {
            "marker": {
             "colorbar": {
              "outlinewidth": 0,
              "ticks": ""
             }
            },
            "type": "scattermapbox"
           }
          ],
          "scatterpolar": [
           {
            "marker": {
             "colorbar": {
              "outlinewidth": 0,
              "ticks": ""
             }
            },
            "type": "scatterpolar"
           }
          ],
          "scatterpolargl": [
           {
            "marker": {
             "colorbar": {
              "outlinewidth": 0,
              "ticks": ""
             }
            },
            "type": "scatterpolargl"
           }
          ],
          "scatterternary": [
           {
            "marker": {
             "colorbar": {
              "outlinewidth": 0,
              "ticks": ""
             }
            },
            "type": "scatterternary"
           }
          ],
          "surface": [
           {
            "colorbar": {
             "outlinewidth": 0,
             "ticks": ""
            },
            "colorscale": [
             [
              0,
              "#0d0887"
             ],
             [
              0.1111111111111111,
              "#46039f"
             ],
             [
              0.2222222222222222,
              "#7201a8"
             ],
             [
              0.3333333333333333,
              "#9c179e"
             ],
             [
              0.4444444444444444,
              "#bd3786"
             ],
             [
              0.5555555555555556,
              "#d8576b"
             ],
             [
              0.6666666666666666,
              "#ed7953"
             ],
             [
              0.7777777777777778,
              "#fb9f3a"
             ],
             [
              0.8888888888888888,
              "#fdca26"
             ],
             [
              1,
              "#f0f921"
             ]
            ],
            "type": "surface"
           }
          ],
          "table": [
           {
            "cells": {
             "fill": {
              "color": "#EBF0F8"
             },
             "line": {
              "color": "white"
             }
            },
            "header": {
             "fill": {
              "color": "#C8D4E3"
             },
             "line": {
              "color": "white"
             }
            },
            "type": "table"
           }
          ]
         },
         "layout": {
          "annotationdefaults": {
           "arrowcolor": "#2a3f5f",
           "arrowhead": 0,
           "arrowwidth": 1
          },
          "coloraxis": {
           "colorbar": {
            "outlinewidth": 0,
            "ticks": ""
           }
          },
          "colorscale": {
           "diverging": [
            [
             0,
             "#8e0152"
            ],
            [
             0.1,
             "#c51b7d"
            ],
            [
             0.2,
             "#de77ae"
            ],
            [
             0.3,
             "#f1b6da"
            ],
            [
             0.4,
             "#fde0ef"
            ],
            [
             0.5,
             "#f7f7f7"
            ],
            [
             0.6,
             "#e6f5d0"
            ],
            [
             0.7,
             "#b8e186"
            ],
            [
             0.8,
             "#7fbc41"
            ],
            [
             0.9,
             "#4d9221"
            ],
            [
             1,
             "#276419"
            ]
           ],
           "sequential": [
            [
             0,
             "#0d0887"
            ],
            [
             0.1111111111111111,
             "#46039f"
            ],
            [
             0.2222222222222222,
             "#7201a8"
            ],
            [
             0.3333333333333333,
             "#9c179e"
            ],
            [
             0.4444444444444444,
             "#bd3786"
            ],
            [
             0.5555555555555556,
             "#d8576b"
            ],
            [
             0.6666666666666666,
             "#ed7953"
            ],
            [
             0.7777777777777778,
             "#fb9f3a"
            ],
            [
             0.8888888888888888,
             "#fdca26"
            ],
            [
             1,
             "#f0f921"
            ]
           ],
           "sequentialminus": [
            [
             0,
             "#0d0887"
            ],
            [
             0.1111111111111111,
             "#46039f"
            ],
            [
             0.2222222222222222,
             "#7201a8"
            ],
            [
             0.3333333333333333,
             "#9c179e"
            ],
            [
             0.4444444444444444,
             "#bd3786"
            ],
            [
             0.5555555555555556,
             "#d8576b"
            ],
            [
             0.6666666666666666,
             "#ed7953"
            ],
            [
             0.7777777777777778,
             "#fb9f3a"
            ],
            [
             0.8888888888888888,
             "#fdca26"
            ],
            [
             1,
             "#f0f921"
            ]
           ]
          },
          "colorway": [
           "#636efa",
           "#EF553B",
           "#00cc96",
           "#ab63fa",
           "#FFA15A",
           "#19d3f3",
           "#FF6692",
           "#B6E880",
           "#FF97FF",
           "#FECB52"
          ],
          "font": {
           "color": "#2a3f5f"
          },
          "geo": {
           "bgcolor": "white",
           "lakecolor": "white",
           "landcolor": "#E5ECF6",
           "showlakes": true,
           "showland": true,
           "subunitcolor": "white"
          },
          "hoverlabel": {
           "align": "left"
          },
          "hovermode": "closest",
          "mapbox": {
           "style": "light"
          },
          "paper_bgcolor": "white",
          "plot_bgcolor": "#E5ECF6",
          "polar": {
           "angularaxis": {
            "gridcolor": "white",
            "linecolor": "white",
            "ticks": ""
           },
           "bgcolor": "#E5ECF6",
           "radialaxis": {
            "gridcolor": "white",
            "linecolor": "white",
            "ticks": ""
           }
          },
          "scene": {
           "xaxis": {
            "backgroundcolor": "#E5ECF6",
            "gridcolor": "white",
            "gridwidth": 2,
            "linecolor": "white",
            "showbackground": true,
            "ticks": "",
            "zerolinecolor": "white"
           },
           "yaxis": {
            "backgroundcolor": "#E5ECF6",
            "gridcolor": "white",
            "gridwidth": 2,
            "linecolor": "white",
            "showbackground": true,
            "ticks": "",
            "zerolinecolor": "white"
           },
           "zaxis": {
            "backgroundcolor": "#E5ECF6",
            "gridcolor": "white",
            "gridwidth": 2,
            "linecolor": "white",
            "showbackground": true,
            "ticks": "",
            "zerolinecolor": "white"
           }
          },
          "shapedefaults": {
           "line": {
            "color": "#2a3f5f"
           }
          },
          "ternary": {
           "aaxis": {
            "gridcolor": "white",
            "linecolor": "white",
            "ticks": ""
           },
           "baxis": {
            "gridcolor": "white",
            "linecolor": "white",
            "ticks": ""
           },
           "bgcolor": "#E5ECF6",
           "caxis": {
            "gridcolor": "white",
            "linecolor": "white",
            "ticks": ""
           }
          },
          "title": {
           "x": 0.05
          },
          "xaxis": {
           "automargin": true,
           "gridcolor": "white",
           "linecolor": "white",
           "ticks": "",
           "title": {
            "standoff": 15
           },
           "zerolinecolor": "white",
           "zerolinewidth": 2
          },
          "yaxis": {
           "automargin": true,
           "gridcolor": "white",
           "linecolor": "white",
           "ticks": "",
           "title": {
            "standoff": 15
           },
           "zerolinecolor": "white",
           "zerolinewidth": 2
          }
         }
        },
        "width": 800,
        "xaxis": {
         "autorange": true,
         "range": [
          -1.4728660260033917,
          42.472866026003395
         ],
         "title": {
          "text": "epochs"
         },
         "type": "linear"
        },
        "yaxis": {
         "autorange": true,
         "range": [
          -0.06010210253397623,
          2.4796648713429765
         ],
         "type": "linear"
        }
       }
      },
      "image/png": "[encoded data removed]",
      "text/html": [
       "<div>\n",
       "        \n",
       "        \n",
       "            <div id=\"a82093b1-fdd0-4d67-bdf2-1faca3e5ef96\" class=\"plotly-graph-div\" style=\"height:480px; width:800px;\"></div>\n",
       "            <script type=\"text/javascript\">\n",
       "                require([\"plotly\"], function(Plotly) {\n",
       "                    window.PLOTLYENV=window.PLOTLYENV || {};\n",
       "                    \n",
       "                if (document.getElementById(\"a82093b1-fdd0-4d67-bdf2-1faca3e5ef96\")) {\n",
       "                    Plotly.newPlot(\n",
       "                        'a82093b1-fdd0-4d67-bdf2-1faca3e5ef96',\n",
       "                        [{\"marker\": {\"color\": \"aquamarine\", \"symbol\": \"circle-open\"}, \"mode\": \"lines+markers\", \"name\": \"train loss\", \"type\": \"scatter\", \"x\": [1, 2, 3, 4, 5, 6, 7, 8, 9, 10, 11, 12, 13, 14, 15, 16, 17, 18, 19, 20, 21, 22, 23, 24, 25, 26, 27, 28, 29, 30, 31, 32, 33, 34, 35, 36, 37, 38, 39, 40], \"y\": [2.320929435475667, 2.3048057688395183, 2.046454032389323, 0.9991595278422037, 0.8019646516164144, 0.6858774688720704, 0.6282621452331543, 0.5782778540293375, 0.5380480339050293, 0.5070939482371012, 0.4818277774175008, 0.4567945174535116, 0.4452612767537435, 0.43288966369628906, 0.42095197092692055, 0.40740615221659343, 0.3970849900563558, 0.38941682249704995, 0.3835456560134888, 0.37420943113962807, 0.37028069947560627, 0.36420242484410603, 0.35523515319824217, 0.35286846618652346, 0.3462083360671997, 0.33969315490722657, 0.33573505770365397, 0.3298542418162028, 0.32809542945226033, 0.3230463456471761, 0.31767863655090334, 0.3137386879920959, 0.31114581826527915, 0.3056335614204407, 0.3024212481180827, 0.3003420249938965, 0.29616113726298016, 0.2931337882677714, 0.29118701972961425, 0.28912429650624594]}, {\"marker\": {\"color\": \"orange\", \"symbol\": \"cross-open\"}, \"mode\": \"lines+markers\", \"name\": \"train acc\", \"type\": \"scatter\", \"x\": [1, 2, 3, 4, 5, 6, 7, 8, 9, 10, 11, 12, 13, 14, 15, 16, 17, 18, 19, 20, 21, 22, 23, 24, 25, 26, 27, 28, 29, 30, 31, 32, 33, 34, 35, 36, 37, 38, 39, 40], \"y\": [0.09863333333333334, 0.10163333333333334, 0.2122, 0.5940166666666666, 0.68495, 0.7306666666666667, 0.7534333333333333, 0.7752166666666667, 0.7927666666666666, 0.8064333333333333, 0.8175, 0.8287333333333333, 0.8329166666666666, 0.83805, 0.8436, 0.8485833333333334, 0.8514833333333334, 0.8543666666666667, 0.8582666666666666, 0.8611666666666666, 0.8629, 0.86495, 0.86765, 0.8690166666666667, 0.8719833333333333, 0.8747, 0.8749333333333333, 0.87845, 0.8777, 0.87935, 0.8811166666666667, 0.8833833333333333, 0.8836166666666667, 0.8857166666666667, 0.8863333333333333, 0.8884833333333333, 0.8904333333333333, 0.8909333333333334, 0.89095, 0.8928333333333334]}, {\"marker\": {\"color\": \"hotpink\", \"symbol\": \"triangle-up-open\"}, \"mode\": \"lines+markers\", \"name\": \"test acc\", \"type\": \"scatter\", \"x\": [1, 2, 3, 4, 5, 6, 7, 8, 9, 10, 11, 12, 13, 14, 15, 16, 17, 18, 19, 20, 21, 22, 23, 24, 25, 26, 27, 28, 29, 30, 31, 32, 33, 34, 35, 36, 37, 38, 39, 40], \"y\": [0.1, 0.1, 0.4529, 0.6359, 0.7154, 0.722, 0.7502, 0.7494, 0.8059, 0.8258, 0.8296, 0.801, 0.8272, 0.8232, 0.8421, 0.8217, 0.8534, 0.849, 0.8518, 0.8512, 0.8612, 0.8424, 0.8628, 0.8655, 0.8484, 0.8649, 0.8556, 0.8619, 0.8549, 0.8727, 0.8496, 0.8771, 0.8775, 0.8721, 0.8791, 0.876, 0.8764, 0.8674, 0.859, 0.8797]}],\n",
       "                        {\"height\": 480, \"template\": {\"data\": {\"bar\": [{\"error_x\": {\"color\": \"#2a3f5f\"}, \"error_y\": {\"color\": \"#2a3f5f\"}, \"marker\": {\"line\": {\"color\": \"#E5ECF6\", \"width\": 0.5}}, \"type\": \"bar\"}], \"barpolar\": [{\"marker\": {\"line\": {\"color\": \"#E5ECF6\", \"width\": 0.5}}, \"type\": \"barpolar\"}], \"carpet\": [{\"aaxis\": {\"endlinecolor\": \"#2a3f5f\", \"gridcolor\": \"white\", \"linecolor\": \"white\", \"minorgridcolor\": \"white\", \"startlinecolor\": \"#2a3f5f\"}, \"baxis\": {\"endlinecolor\": \"#2a3f5f\", \"gridcolor\": \"white\", \"linecolor\": \"white\", \"minorgridcolor\": \"white\", \"startlinecolor\": \"#2a3f5f\"}, \"type\": \"carpet\"}], \"choropleth\": [{\"colorbar\": {\"outlinewidth\": 0, \"ticks\": \"\"}, \"type\": \"choropleth\"}], \"contour\": [{\"colorbar\": {\"outlinewidth\": 0, \"ticks\": \"\"}, \"colorscale\": [[0.0, \"#0d0887\"], [0.1111111111111111, \"#46039f\"], [0.2222222222222222, \"#7201a8\"], [0.3333333333333333, \"#9c179e\"], [0.4444444444444444, \"#bd3786\"], [0.5555555555555556, \"#d8576b\"], [0.6666666666666666, \"#ed7953\"], [0.7777777777777778, \"#fb9f3a\"], [0.8888888888888888, \"#fdca26\"], [1.0, \"#f0f921\"]], \"type\": \"contour\"}], \"contourcarpet\": [{\"colorbar\": {\"outlinewidth\": 0, \"ticks\": \"\"}, \"type\": \"contourcarpet\"}], \"heatmap\": [{\"colorbar\": {\"outlinewidth\": 0, \"ticks\": \"\"}, \"colorscale\": [[0.0, \"#0d0887\"], [0.1111111111111111, \"#46039f\"], [0.2222222222222222, \"#7201a8\"], [0.3333333333333333, \"#9c179e\"], [0.4444444444444444, \"#bd3786\"], [0.5555555555555556, \"#d8576b\"], [0.6666666666666666, \"#ed7953\"], [0.7777777777777778, \"#fb9f3a\"], [0.8888888888888888, \"#fdca26\"], [1.0, \"#f0f921\"]], \"type\": \"heatmap\"}], \"heatmapgl\": [{\"colorbar\": {\"outlinewidth\": 0, \"ticks\": \"\"}, \"colorscale\": [[0.0, \"#0d0887\"], [0.1111111111111111, \"#46039f\"], [0.2222222222222222, \"#7201a8\"], [0.3333333333333333, \"#9c179e\"], [0.4444444444444444, \"#bd3786\"], [0.5555555555555556, \"#d8576b\"], [0.6666666666666666, \"#ed7953\"], [0.7777777777777778, \"#fb9f3a\"], [0.8888888888888888, \"#fdca26\"], [1.0, \"#f0f921\"]], \"type\": \"heatmapgl\"}], \"histogram\": [{\"marker\": {\"colorbar\": {\"outlinewidth\": 0, \"ticks\": \"\"}}, \"type\": \"histogram\"}], \"histogram2d\": [{\"colorbar\": {\"outlinewidth\": 0, \"ticks\": \"\"}, \"colorscale\": [[0.0, \"#0d0887\"], [0.1111111111111111, \"#46039f\"], [0.2222222222222222, \"#7201a8\"], [0.3333333333333333, \"#9c179e\"], [0.4444444444444444, \"#bd3786\"], [0.5555555555555556, \"#d8576b\"], [0.6666666666666666, \"#ed7953\"], [0.7777777777777778, \"#fb9f3a\"], [0.8888888888888888, \"#fdca26\"], [1.0, \"#f0f921\"]], \"type\": \"histogram2d\"}], \"histogram2dcontour\": [{\"colorbar\": {\"outlinewidth\": 0, \"ticks\": \"\"}, \"colorscale\": [[0.0, \"#0d0887\"], [0.1111111111111111, \"#46039f\"], [0.2222222222222222, \"#7201a8\"], [0.3333333333333333, \"#9c179e\"], [0.4444444444444444, \"#bd3786\"], [0.5555555555555556, \"#d8576b\"], [0.6666666666666666, \"#ed7953\"], [0.7777777777777778, \"#fb9f3a\"], [0.8888888888888888, \"#fdca26\"], [1.0, \"#f0f921\"]], \"type\": \"histogram2dcontour\"}], \"mesh3d\": [{\"colorbar\": {\"outlinewidth\": 0, \"ticks\": \"\"}, \"type\": \"mesh3d\"}], \"parcoords\": [{\"line\": {\"colorbar\": {\"outlinewidth\": 0, \"ticks\": \"\"}}, \"type\": \"parcoords\"}], \"pie\": [{\"automargin\": true, \"type\": \"pie\"}], \"scatter\": [{\"marker\": {\"colorbar\": {\"outlinewidth\": 0, \"ticks\": \"\"}}, \"type\": \"scatter\"}], \"scatter3d\": [{\"line\": {\"colorbar\": {\"outlinewidth\": 0, \"ticks\": \"\"}}, \"marker\": {\"colorbar\": {\"outlinewidth\": 0, \"ticks\": \"\"}}, \"type\": \"scatter3d\"}], \"scattercarpet\": [{\"marker\": {\"colorbar\": {\"outlinewidth\": 0, \"ticks\": \"\"}}, \"type\": \"scattercarpet\"}], \"scattergeo\": [{\"marker\": {\"colorbar\": {\"outlinewidth\": 0, \"ticks\": \"\"}}, \"type\": \"scattergeo\"}], \"scattergl\": [{\"marker\": {\"colorbar\": {\"outlinewidth\": 0, \"ticks\": \"\"}}, \"type\": \"scattergl\"}], \"scattermapbox\": [{\"marker\": {\"colorbar\": {\"outlinewidth\": 0, \"ticks\": \"\"}}, \"type\": \"scattermapbox\"}], \"scatterpolar\": [{\"marker\": {\"colorbar\": {\"outlinewidth\": 0, \"ticks\": \"\"}}, \"type\": \"scatterpolar\"}], \"scatterpolargl\": [{\"marker\": {\"colorbar\": {\"outlinewidth\": 0, \"ticks\": \"\"}}, \"type\": \"scatterpolargl\"}], \"scatterternary\": [{\"marker\": {\"colorbar\": {\"outlinewidth\": 0, \"ticks\": \"\"}}, \"type\": \"scatterternary\"}], \"surface\": [{\"colorbar\": {\"outlinewidth\": 0, \"ticks\": \"\"}, \"colorscale\": [[0.0, \"#0d0887\"], [0.1111111111111111, \"#46039f\"], [0.2222222222222222, \"#7201a8\"], [0.3333333333333333, \"#9c179e\"], [0.4444444444444444, \"#bd3786\"], [0.5555555555555556, \"#d8576b\"], [0.6666666666666666, \"#ed7953\"], [0.7777777777777778, \"#fb9f3a\"], [0.8888888888888888, \"#fdca26\"], [1.0, \"#f0f921\"]], \"type\": \"surface\"}], \"table\": [{\"cells\": {\"fill\": {\"color\": \"#EBF0F8\"}, \"line\": {\"color\": \"white\"}}, \"header\": {\"fill\": {\"color\": \"#C8D4E3\"}, \"line\": {\"color\": \"white\"}}, \"type\": \"table\"}]}, \"layout\": {\"annotationdefaults\": {\"arrowcolor\": \"#2a3f5f\", \"arrowhead\": 0, \"arrowwidth\": 1}, \"coloraxis\": {\"colorbar\": {\"outlinewidth\": 0, \"ticks\": \"\"}}, \"colorscale\": {\"diverging\": [[0, \"#8e0152\"], [0.1, \"#c51b7d\"], [0.2, \"#de77ae\"], [0.3, \"#f1b6da\"], [0.4, \"#fde0ef\"], [0.5, \"#f7f7f7\"], [0.6, \"#e6f5d0\"], [0.7, \"#b8e186\"], [0.8, \"#7fbc41\"], [0.9, \"#4d9221\"], [1, \"#276419\"]], \"sequential\": [[0.0, \"#0d0887\"], [0.1111111111111111, \"#46039f\"], [0.2222222222222222, \"#7201a8\"], [0.3333333333333333, \"#9c179e\"], [0.4444444444444444, \"#bd3786\"], [0.5555555555555556, \"#d8576b\"], [0.6666666666666666, \"#ed7953\"], [0.7777777777777778, \"#fb9f3a\"], [0.8888888888888888, \"#fdca26\"], [1.0, \"#f0f921\"]], \"sequentialminus\": [[0.0, \"#0d0887\"], [0.1111111111111111, \"#46039f\"], [0.2222222222222222, \"#7201a8\"], [0.3333333333333333, \"#9c179e\"], [0.4444444444444444, \"#bd3786\"], [0.5555555555555556, \"#d8576b\"], [0.6666666666666666, \"#ed7953\"], [0.7777777777777778, \"#fb9f3a\"], [0.8888888888888888, \"#fdca26\"], [1.0, \"#f0f921\"]]}, \"colorway\": [\"#636efa\", \"#EF553B\", \"#00cc96\", \"#ab63fa\", \"#FFA15A\", \"#19d3f3\", \"#FF6692\", \"#B6E880\", \"#FF97FF\", \"#FECB52\"], \"font\": {\"color\": \"#2a3f5f\"}, \"geo\": {\"bgcolor\": \"white\", \"lakecolor\": \"white\", \"landcolor\": \"#E5ECF6\", \"showlakes\": true, \"showland\": true, \"subunitcolor\": \"white\"}, \"hoverlabel\": {\"align\": \"left\"}, \"hovermode\": \"closest\", \"mapbox\": {\"style\": \"light\"}, \"paper_bgcolor\": \"white\", \"plot_bgcolor\": \"#E5ECF6\", \"polar\": {\"angularaxis\": {\"gridcolor\": \"white\", \"linecolor\": \"white\", \"ticks\": \"\"}, \"bgcolor\": \"#E5ECF6\", \"radialaxis\": {\"gridcolor\": \"white\", \"linecolor\": \"white\", \"ticks\": \"\"}}, \"scene\": {\"xaxis\": {\"backgroundcolor\": \"#E5ECF6\", \"gridcolor\": \"white\", \"gridwidth\": 2, \"linecolor\": \"white\", \"showbackground\": true, \"ticks\": \"\", \"zerolinecolor\": \"white\"}, \"yaxis\": {\"backgroundcolor\": \"#E5ECF6\", \"gridcolor\": \"white\", \"gridwidth\": 2, \"linecolor\": \"white\", \"showbackground\": true, \"ticks\": \"\", \"zerolinecolor\": \"white\"}, \"zaxis\": {\"backgroundcolor\": \"#E5ECF6\", \"gridcolor\": \"white\", \"gridwidth\": 2, \"linecolor\": \"white\", \"showbackground\": true, \"ticks\": \"\", \"zerolinecolor\": \"white\"}}, \"shapedefaults\": {\"line\": {\"color\": \"#2a3f5f\"}}, \"ternary\": {\"aaxis\": {\"gridcolor\": \"white\", \"linecolor\": \"white\", \"ticks\": \"\"}, \"baxis\": {\"gridcolor\": \"white\", \"linecolor\": \"white\", \"ticks\": \"\"}, \"bgcolor\": \"#E5ECF6\", \"caxis\": {\"gridcolor\": \"white\", \"linecolor\": \"white\", \"ticks\": \"\"}}, \"title\": {\"x\": 0.05}, \"xaxis\": {\"automargin\": true, \"gridcolor\": \"white\", \"linecolor\": \"white\", \"ticks\": \"\", \"title\": {\"standoff\": 15}, \"zerolinecolor\": \"white\", \"zerolinewidth\": 2}, \"yaxis\": {\"automargin\": true, \"gridcolor\": \"white\", \"linecolor\": \"white\", \"ticks\": \"\", \"title\": {\"standoff\": 15}, \"zerolinecolor\": \"white\", \"zerolinewidth\": 2}}}, \"width\": 800, \"xaxis\": {\"title\": {\"text\": \"epochs\"}}},\n",
       "                        {\"responsive\": true}\n",
       "                    ).then(function(){\n",
       "                            \n",
       "var gd = document.getElementById('a82093b1-fdd0-4d67-bdf2-1faca3e5ef96');\n",
       "var x = new MutationObserver(function (mutations, observer) {{\n",
       "        var display = window.getComputedStyle(gd).display;\n",
       "        if (!display || display === 'none') {{\n",
       "            console.log([gd, 'removed!']);\n",
       "            Plotly.purge(gd);\n",
       "            observer.disconnect();\n",
       "        }}\n",
       "}});\n",
       "\n",
       "// Listen for the removal of the full notebook cells\n",
       "var notebookContainer = gd.closest('#notebook-container');\n",
       "if (notebookContainer) {{\n",
       "    x.observe(notebookContainer, {childList: true});\n",
       "}}\n",
       "\n",
       "// Listen for the clearing of the current output cell\n",
       "var outputEl = gd.closest('.output');\n",
       "if (outputEl) {{\n",
       "    x.observe(outputEl, {childList: true});\n",
       "}}\n",
       "\n",
       "                        })\n",
       "                };\n",
       "                });\n",
       "            </script>\n",
       "        </div>"
      ]
     },
     "metadata": {},
     "output_type": "display_data"
    }
   ],
   "source": [
    "draw_graph(result)"
   ]
  },
  {
   "cell_type": "code",
   "execution_count": null,
   "metadata": {},
   "outputs": [],
   "source": []
  }
 ],
 "metadata": {
  "kernelspec": {
   "display_name": "Python 3",
   "language": "python",
   "name": "python3"
  },
  "language_info": {
   "codemirror_mode": {
    "name": "ipython",
    "version": 3
   },
   "file_extension": ".py",
   "mimetype": "text/x-python",
   "name": "python",
   "nbconvert_exporter": "python",
   "pygments_lexer": "ipython3",
   "version": "3.7.8"
  }
 },
 "nbformat": 4,
 "nbformat_minor": 4
}
