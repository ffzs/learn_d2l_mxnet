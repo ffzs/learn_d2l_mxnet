{
 "cells": [
  {
   "cell_type": "markdown",
   "metadata": {},
   "source": [
    "## Softmax操作\n",
    "我们将在此处采用的主要方法是将模型的输出解释为概率。我们将优化参数以产生使观察到的数据的可能性最大化的概率。然后，为了生成预测，我们将设置一个阈值，例如，选择具有最大预测概率的标签。\n",
    "\n",
    "正式地说，我们想要任何输出   $\\hat{y}_j$  被解释为给定项目属于类别的概率  j 。然后我们可以选择具有最大输出值的类别作为我们的预测 $\\operatorname*{argmax}_j y_j$. 。例如，如果  $\\hat{y}_1$, $\\hat{y}_2$, 和 $\\hat{y}_3$ 分别为0.1、0.8和0.1。然后预测是第二类。\n",
    "\n",
    "您可能会倾向于建议我们解释日志  o  直接作为我们感兴趣的输出。然而，将线性层的输出直接解释为概率存在一些问题。一方面，没有什么约束这些数字的总和为1。另一方面，取决于输入，它们可以取负值。\n",
    "\n",
    "为了将我们的输出解释为概率，我们必须保证（即使在新数据上）它们也将是非负的并且总和为1。此外，我们需要一个训练目标来鼓励模型忠实地估计概率。在分类器输出0.5的所有实例中，我们希望这些示例中的一半实际上属于预测类。这是一个称为校准的属性。\n",
    "\n",
    "社会科学家R.Duncan Luce在选择模型的背景下于1959年发明的softmax函数正好做到了这一点。为了使logit变为非负数且总和为1，同时要求模型保持可微性，我们首先对每个logit求幂（确保非负数），然后除以它们的总和（确保它们总和为1）：\n",
    "$$\\hat{\\mathbf{y}} = \\mathrm{softmax}(\\mathbf{o})\\quad \\text{where}\\quad \\hat{y}_j = \\frac{\\exp(o_j)}{\\sum_k \\exp(o_k)}. $$\n",
    " \n",
    "很容易看到  $\\hat{y}_1 + \\hat{y}_2 + \\hat{y}_3 = 1$  与  $0 \\leq \\hat{y}_j \\leq 1$ 对所有人 $j$ 。从而，  $\\hat{\\mathbf{y}}$ 是适当的概率分布，其元素值可以相应地解释。请注意，softmax操作不会更改登录之间的顺序  o ，它们只是确定分配给每个类别的概率的$softmax$之前的值。因此，在预测过程中，我们仍然可以通过\n",
    "\n",
    "$$\n",
    "\\operatorname*{argmax}_j \\hat y_j = \\operatorname*{argmax}_j o_j.\n",
    "$$\n",
    " \n",
    "尽管softmax是非线性函数，但softmax回归的输出仍由输入特征的仿射变换确定；因此，softmax回归是线性模型。"
   ]
  },
  {
   "cell_type": "markdown",
   "metadata": {},
   "source": [
    "## 获取图像分类数据集\n",
    "MNIST数据集是一种广泛使用的图像分类数据集，由于比较简单，不适合区分模型强弱，因此这里使用相对复杂的Fashion-MNIST数据集。"
   ]
  },
  {
   "cell_type": "code",
   "execution_count": 1,
   "metadata": {},
   "outputs": [],
   "source": [
    "from d2l import mxnet as d2l\n",
    "from mxnet import gluon\n",
    "import sys\n",
    "%matplotlib inline\n",
    "\n",
    "d2l.use_svg_display()"
   ]
  },
  {
   "cell_type": "markdown",
   "metadata": {},
   "source": [
    "### 从网络获取数据集\n",
    "通过内置api获取数据，并读取放到内存中,Fashion-MNIST由10个类别的图像组成，每个类别由训练数据集中的6000张图像和测试数据集中的1000张图像表示。甲 测试数据集（或测试集）被用于评估模型的性能，而不是为了培训。因此，训练集和测试集分别包含60000和10000图像。"
   ]
  },
  {
   "cell_type": "code",
   "execution_count": 2,
   "metadata": {},
   "outputs": [],
   "source": [
    "mnist_train = gluon.data.vision.FashionMNIST(train=True)\n",
    "mnist_test = gluon.data.vision.FashionMNIST(train=False)"
   ]
  },
  {
   "cell_type": "code",
   "execution_count": 3,
   "metadata": {},
   "outputs": [
    {
     "data": {
      "text/plain": [
       "(60000, 10000)"
      ]
     },
     "execution_count": 3,
     "metadata": {},
     "output_type": "execute_result"
    }
   ],
   "source": [
    "len(mnist_train), len(mnist_test)"
   ]
  },
  {
   "cell_type": "code",
   "execution_count": 4,
   "metadata": {},
   "outputs": [
    {
     "data": {
      "text/plain": [
       "((28, 28, 1), 2)"
      ]
     },
     "execution_count": 4,
     "metadata": {},
     "output_type": "execute_result"
    }
   ],
   "source": [
    "feature, label = mnist_train[0]\n",
    "\n",
    "feature.shape, label"
   ]
  },
  {
   "cell_type": "markdown",
   "metadata": {},
   "source": [
    "Fashion-MNIST中的图像与以下类别相关联：T恤，裤子，套头衫，衣服，外套，凉鞋，衬衫，运动鞋，包和脚踝靴。通过label获取对应物品名称"
   ]
  },
  {
   "cell_type": "code",
   "execution_count": 5,
   "metadata": {},
   "outputs": [],
   "source": [
    "def get_fashion_mnist_labels(labels): \n",
    "    text_labels = ['t-shirt', 'trouser', 'pullover', 'dress', 'coat',\n",
    "                   'sandal', 'shirt', 'sneaker', 'bag', 'ankle boot']\n",
    "    return [text_labels[int(i)] for i in labels]"
   ]
  },
  {
   "cell_type": "markdown",
   "metadata": {},
   "source": [
    "创建一个函数用来展示数据集图片的样子"
   ]
  },
  {
   "cell_type": "code",
   "execution_count": 6,
   "metadata": {},
   "outputs": [
    {
     "data": {
      "image/svg+xml": [
       "<?xml version=\"1.0\" encoding=\"utf-8\" standalone=\"no\"?>\n",
       "<!DOCTYPE svg PUBLIC \"-//W3C//DTD SVG 1.1//EN\"\n",
       "  \"http://www.w3.org/Graphics/SVG/1.1/DTD/svg11.dtd\">\n",
       "<!-- Created with matplotlib (http://matplotlib.org/) -->\n",
       "<svg height=\"276.925109pt\" version=\"1.1\" viewBox=\"0 0 691 276.925109\" width=\"691pt\" xmlns=\"http://www.w3.org/2000/svg\" xmlns:xlink=\"http://www.w3.org/1999/xlink\">\n",
       " <defs>\n",
       "  <style type=\"text/css\">\n",
       "*{stroke-linecap:butt;stroke-linejoin:round;}\n",
       "  </style>\n",
       " </defs>\n",
       " <g id=\"figure_1\">\n",
       "  <g id=\"patch_1\">\n",
       "   <path d=\"M 0 276.925109 \n",
       "L 691 276.925109 \n",
       "L 691 0 \n",
       "L 0 0 \n",
       "z\n",
       "\" style=\"fill:none;\"/>\n",
       "  </g>\n",
       "  <g id=\"axes_1\">\n",
       "   <g id=\"patch_2\">\n",
       "    <path d=\"M 10.7 93.552168 \n",
       "L 81.934043 93.552168 \n",
       "L 81.934043 22.318125 \n",
       "L 10.7 22.318125 \n",
       "z\n",
       "\" style=\"fill:#ffffff;\"/>\n",
       "   </g>\n",
       "   <g clip-path=\"url(#p8305cb40b3)\">\n",
       "    <image height=\"72\" id=\"imagec45c8dc060\" transform=\"scale(1 -1)translate(0 -72)\" width=\"72\" x=\"10.7\" xlink:href=\"data:image/png;base64,\n",
       "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\" y=\"-21.552168\"/>\n",
       "   </g>\n",
       "   <g id=\"patch_3\">\n",
       "    <path d=\"M 10.7 93.552168 \n",
       "L 10.7 22.318125 \n",
       "\" style=\"fill:none;stroke:#000000;stroke-linecap:square;stroke-linejoin:miter;stroke-width:0.8;\"/>\n",
       "   </g>\n",
       "   <g id=\"patch_4\">\n",
       "    <path d=\"M 81.934043 93.552168 \n",
       "L 81.934043 22.318125 \n",
       "\" style=\"fill:none;stroke:#000000;stroke-linecap:square;stroke-linejoin:miter;stroke-width:0.8;\"/>\n",
       "   </g>\n",
       "   <g id=\"patch_5\">\n",
       "    <path d=\"M 10.7 93.552168 \n",
       "L 81.934043 93.552168 \n",
       "\" style=\"fill:none;stroke:#000000;stroke-linecap:square;stroke-linejoin:miter;stroke-width:0.8;\"/>\n",
       "   </g>\n",
       "   <g id=\"patch_6\">\n",
       "    <path d=\"M 10.7 22.318125 \n",
       "L 81.934043 22.318125 \n",
       "\" style=\"fill:none;stroke:#000000;stroke-linecap:square;stroke-linejoin:miter;stroke-width:0.8;\"/>\n",
       "   </g>\n",
       "   <g id=\"text_1\">\n",
       "    <!-- pullover -->\n",
       "    <defs>\n",
       "     <path d=\"M 18.109375 8.203125 \n",
       "L 18.109375 -20.796875 \n",
       "L 9.078125 -20.796875 \n",
       "L 9.078125 54.6875 \n",
       "L 18.109375 54.6875 \n",
       "L 18.109375 46.390625 \n",
       "Q 20.953125 51.265625 25.265625 53.625 \n",
       "Q 29.59375 56 35.59375 56 \n",
       "Q 45.5625 56 51.78125 48.09375 \n",
       "Q 58.015625 40.1875 58.015625 27.296875 \n",
       "Q 58.015625 14.40625 51.78125 6.484375 \n",
       "Q 45.5625 -1.421875 35.59375 -1.421875 \n",
       "Q 29.59375 -1.421875 25.265625 0.953125 \n",
       "Q 20.953125 3.328125 18.109375 8.203125 \n",
       "z\n",
       "M 48.6875 27.296875 \n",
       "Q 48.6875 37.203125 44.609375 42.84375 \n",
       "Q 40.53125 48.484375 33.40625 48.484375 \n",
       "Q 26.265625 48.484375 22.1875 42.84375 \n",
       "Q 18.109375 37.203125 18.109375 27.296875 \n",
       "Q 18.109375 17.390625 22.1875 11.75 \n",
       "Q 26.265625 6.109375 33.40625 6.109375 \n",
       "Q 40.53125 6.109375 44.609375 11.75 \n",
       "Q 48.6875 17.390625 48.6875 27.296875 \n",
       "z\n",
       "\" id=\"DejaVuSans-70\"/>\n",
       "     <path d=\"M 8.5 21.578125 \n",
       "L 8.5 54.6875 \n",
       "L 17.484375 54.6875 \n",
       "L 17.484375 21.921875 \n",
       "Q 17.484375 14.15625 20.5 10.265625 \n",
       "Q 23.53125 6.390625 29.59375 6.390625 \n",
       "Q 36.859375 6.390625 41.078125 11.03125 \n",
       "Q 45.3125 15.671875 45.3125 23.6875 \n",
       "L 45.3125 54.6875 \n",
       "L 54.296875 54.6875 \n",
       "L 54.296875 0 \n",
       "L 45.3125 0 \n",
       "L 45.3125 8.40625 \n",
       "Q 42.046875 3.421875 37.71875 1 \n",
       "Q 33.40625 -1.421875 27.6875 -1.421875 \n",
       "Q 18.265625 -1.421875 13.375 4.4375 \n",
       "Q 8.5 10.296875 8.5 21.578125 \n",
       "z\n",
       "M 31.109375 56 \n",
       "z\n",
       "\" id=\"DejaVuSans-75\"/>\n",
       "     <path d=\"M 9.421875 75.984375 \n",
       "L 18.40625 75.984375 \n",
       "L 18.40625 0 \n",
       "L 9.421875 0 \n",
       "z\n",
       "\" id=\"DejaVuSans-6c\"/>\n",
       "     <path d=\"M 30.609375 48.390625 \n",
       "Q 23.390625 48.390625 19.1875 42.75 \n",
       "Q 14.984375 37.109375 14.984375 27.296875 \n",
       "Q 14.984375 17.484375 19.15625 11.84375 \n",
       "Q 23.34375 6.203125 30.609375 6.203125 \n",
       "Q 37.796875 6.203125 41.984375 11.859375 \n",
       "Q 46.1875 17.53125 46.1875 27.296875 \n",
       "Q 46.1875 37.015625 41.984375 42.703125 \n",
       "Q 37.796875 48.390625 30.609375 48.390625 \n",
       "z\n",
       "M 30.609375 56 \n",
       "Q 42.328125 56 49.015625 48.375 \n",
       "Q 55.71875 40.765625 55.71875 27.296875 \n",
       "Q 55.71875 13.875 49.015625 6.21875 \n",
       "Q 42.328125 -1.421875 30.609375 -1.421875 \n",
       "Q 18.84375 -1.421875 12.171875 6.21875 \n",
       "Q 5.515625 13.875 5.515625 27.296875 \n",
       "Q 5.515625 40.765625 12.171875 48.375 \n",
       "Q 18.84375 56 30.609375 56 \n",
       "z\n",
       "\" id=\"DejaVuSans-6f\"/>\n",
       "     <path d=\"M 2.984375 54.6875 \n",
       "L 12.5 54.6875 \n",
       "L 29.59375 8.796875 \n",
       "L 46.6875 54.6875 \n",
       "L 56.203125 54.6875 \n",
       "L 35.6875 0 \n",
       "L 23.484375 0 \n",
       "z\n",
       "\" id=\"DejaVuSans-76\"/>\n",
       "     <path d=\"M 56.203125 29.59375 \n",
       "L 56.203125 25.203125 \n",
       "L 14.890625 25.203125 \n",
       "Q 15.484375 15.921875 20.484375 11.0625 \n",
       "Q 25.484375 6.203125 34.421875 6.203125 \n",
       "Q 39.59375 6.203125 44.453125 7.46875 \n",
       "Q 49.3125 8.734375 54.109375 11.28125 \n",
       "L 54.109375 2.78125 \n",
       "Q 49.265625 0.734375 44.1875 -0.34375 \n",
       "Q 39.109375 -1.421875 33.890625 -1.421875 \n",
       "Q 20.796875 -1.421875 13.15625 6.1875 \n",
       "Q 5.515625 13.8125 5.515625 26.8125 \n",
       "Q 5.515625 40.234375 12.765625 48.109375 \n",
       "Q 20.015625 56 32.328125 56 \n",
       "Q 43.359375 56 49.78125 48.890625 \n",
       "Q 56.203125 41.796875 56.203125 29.59375 \n",
       "z\n",
       "M 47.21875 32.234375 \n",
       "Q 47.125 39.59375 43.09375 43.984375 \n",
       "Q 39.0625 48.390625 32.421875 48.390625 \n",
       "Q 24.90625 48.390625 20.390625 44.140625 \n",
       "Q 15.875 39.890625 15.1875 32.171875 \n",
       "z\n",
       "\" id=\"DejaVuSans-65\"/>\n",
       "     <path d=\"M 41.109375 46.296875 \n",
       "Q 39.59375 47.171875 37.8125 47.578125 \n",
       "Q 36.03125 48 33.890625 48 \n",
       "Q 26.265625 48 22.1875 43.046875 \n",
       "Q 18.109375 38.09375 18.109375 28.8125 \n",
       "L 18.109375 0 \n",
       "L 9.078125 0 \n",
       "L 9.078125 54.6875 \n",
       "L 18.109375 54.6875 \n",
       "L 18.109375 46.1875 \n",
       "Q 20.953125 51.171875 25.484375 53.578125 \n",
       "Q 30.03125 56 36.53125 56 \n",
       "Q 37.453125 56 38.578125 55.875 \n",
       "Q 39.703125 55.765625 41.0625 55.515625 \n",
       "z\n",
       "\" id=\"DejaVuSans-72\"/>\n",
       "    </defs>\n",
       "    <g transform=\"translate(21.990771 16.318125)scale(0.12 -0.12)\">\n",
       "     <use xlink:href=\"#DejaVuSans-70\"/>\n",
       "     <use x=\"63.476562\" xlink:href=\"#DejaVuSans-75\"/>\n",
       "     <use x=\"126.855469\" xlink:href=\"#DejaVuSans-6c\"/>\n",
       "     <use x=\"154.638672\" xlink:href=\"#DejaVuSans-6c\"/>\n",
       "     <use x=\"182.421875\" xlink:href=\"#DejaVuSans-6f\"/>\n",
       "     <use x=\"243.603516\" xlink:href=\"#DejaVuSans-76\"/>\n",
       "     <use x=\"302.783203\" xlink:href=\"#DejaVuSans-65\"/>\n",
       "     <use x=\"364.306641\" xlink:href=\"#DejaVuSans-72\"/>\n",
       "    </g>\n",
       "   </g>\n",
       "  </g>\n",
       "  <g id=\"axes_2\">\n",
       "   <g id=\"patch_7\">\n",
       "    <path d=\"M 96.180851 93.552168 \n",
       "L 167.414894 93.552168 \n",
       "L 167.414894 22.318125 \n",
       "L 96.180851 22.318125 \n",
       "z\n",
       "\" style=\"fill:#ffffff;\"/>\n",
       "   </g>\n",
       "   <g clip-path=\"url(#pd44d2f4558)\">\n",
       "    <image height=\"72\" id=\"imagec6d63a9876\" transform=\"scale(1 -1)translate(0 -72)\" width=\"72\" x=\"96.180851\" xlink:href=\"data:image/png;base64,\n",
       "iVBORw0KGgoAAAANSUhEUgAAAEgAAABICAYAAABV7bNHAAAABHNCSVQICAgIfAhkiAAABzhJREFUeJztW11sFFUU/mZ29qd/FCgWKKUUGpCCKCK/UUARI/HBhAgooDGY+CIEYhRe1KCYGPUZH3zhwZCAIogiRAKIihIKYgPlH+RH2gIt27/t33ZnZ3w4M+dM6ZZbTQqa3O+lZ7+ZvffumXPOPefcqTHfWORCo1eY93sB/3VoBSmgFaSAVpACWkEKaAUpoBWkgFaQAlpBCljBD4ZFH13bvi+LuRNGNNrrNTeZvCdr0BakgFaQAt1cLJNr+W6XmvMIczdnkOkXz/+LuSVFv7M8OUZ8fTqPuT/aSwEAjXY2c9sPTwcAlOxxmIvuOSbr6aMbhYYWAgByt6eZyw93slzfmQsAMA2Zp6EzBwCQHe5i7lzVSADA2NUVzGkLUsAItjsaVswCAEx7o5JviJhkVaWx28wlnTAAoCoxgrmatnyWO1J0PS8qFpBlpQAABdE25kbEmnosKOWGWP6qcioAYNR2g7nYXlpb0NrbFs0AAKz48FvmdtWJxce8ueOe1QBAvI0sOZkSJ5o07AYAoOV5WY+2IAW0ghQwyr7cwC62ceoWAMB3jVP4hso4uVHt1SHMWS2eG0jMA8QL4Fo0ZMBb4ES8m0OBBmaY5FieuGLRoGaWS3IbAQDrhu1lLs+kcVZcXMqc7dBzzovIOElbXCcnTHxzVxZzV2qG9Fj33HEXAQC1MxPMaQtSQCtIAcuuE7Pb3kC7xv4L45lzmyIAACPgGfZg2hWyB3UwFw3LrpJKk291dkSYM+74CwCuS5/Stjyn+lbZaXw3OHS5jLnsbHKXhaNPytwGzf3DjQnMmYEFO96s0ZCssaCgFQDQ0CTzZYVS3iJlldqCFLAGnhUdFcymHCU3V7JQK5+4cEgicmsnZdLtCSkmOyByOEZPKhwJWFWXVwgHJjdDlPmmbYnmrTUDWHZNutvIl2w30Uj5yxc3HmcuNICefE6OrDtiSVYd8gJ7V2CeRCt5jhuXdWeZNE8oTyoAbUEKaAUpYBWcErP8aCgFvsvtkvM4XiBttyXgzht+AQAQNcWFjjWOYvnMteEAgK6kmLQRE5Pnsf3nkwgzN668muWXiqhwjRkp5rJNCtJH2yRwbzv/KA0TdE8rkKR5+RZsCb5WE7l87k3hBjzp6WKEjK0tSAHLPCSF6XMTnyIhIlmo205budsp2eWJwmIAQMPcErnvZSlmVz32EwDgaHMpcxUXRgMAzMCT9bd5PxgDwGvFv7Lc7lAAvZQcypzphfniSANzn0zZAQDYFZ/M3I8ny1k2vPFzHmhnriuffmOnLdt80iHOiYm3aAtSQCtIAaM/Xn9x5lLQvLFG8pe3J+wDAHx+ZTZzt+qohxS+LrnIxDmXWH5n5G4AwNbGGcwNCVMG3GxLBeBnzeVZtcxdS8pGs2kfhQ4nKj81Z0Si23cB4MEhdTT2E3EZu/efqQEAxnxzMavQCNG27DoBo3KdbteC1w1TtkjVUZHf9Vu6YQ9zPzeMAwAcOz2GuVitbPnTFpwCALxa+BtzB1omAgByQz371dXJQSw/nX+G5W31VGOe3ik1ZnsR/a7QcAncoXPUuy55/zBz2oIU0ApSwIIr7nQ3N8l0zXUy3Ag5KoIh+s/5mo5Sdh+S/GTu/isAALtc7qtEKctHDpI73Z6Vy9zqkQcAACc6JAdLpGMAgNFZ9cwdSoxjeVnhEQDAumlyyIBqyn+ml8jR1fGz0i7xoS1IAa0gBdR5kNdd67aL+e5mBDv1MkymlyBMr8fiJKRksUrJTdYe+J65tWcXsRyPk2tZtZInxcrpLO3Th3YwV+EVri12jLlbSSlcx+ZQflPVUsTc8TNU+gwrkZJlwHrv1PdolawbGndFv2TSMnpmC+uBmQ+z+NbmLSy/eWIJAKCjTSzIrKNCMm+snMq+W0651fnO4cyNidaxPC+bWiibmycxt7OGTl5rbw9krmy5FO48X++r1gC0gpToHxfzXSvoVpm4DOh6dirLazZuBQC8d0reJmhtoEBq1UtJ8uIC6iEtypdXcBYeXMnyhPU3AQDxOcXMJQeSbUxcLiVJ/BnqXDpt8oKFtiAF+jdIZ4IZPLCnPjVn3uieGjS9Qq/jfLB+E3OrKpYBANKt8p3YYOollyyW7bmvaHtBWin5x+n1F/uqZNfaghTQClLg3rtYMDfyi1kncCSUwQWvfDyLqfGzqMA9VyuN/OUT6HioYpnkOenT52WaDK8T9/X9R21BCvSPBflW0Fs/xIe/5fc14wZQ+w21JMoGS9/4WhN1EotWSp1nV9fIl4Lj+5RfWwZaMq6d6rEGbUEKaAUpYKlv+Rdwep7DMzKYu8qtghj5+i0AQNneRuZa11On0K4+l/lLGcbv6/+jaAtSQCtIgf5xsbshUwHb2/UMSN+m3euXzyQ3KvzzOgCgm9Nk2hn/wW7pQ1uQAvc+k/6fQVuQAlpBCmgFKaAVpIBWkAJaQQpoBSmgFaSAVpACWkEKaAUpoBWkwN8bczUoT4V84wAAAABJRU5ErkJggg==\" y=\"-21.552168\"/>\n",
       "   </g>\n",
       "   <g id=\"patch_8\">\n",
       "    <path d=\"M 96.180851 93.552168 \n",
       "L 96.180851 22.318125 \n",
       "\" style=\"fill:none;stroke:#000000;stroke-linecap:square;stroke-linejoin:miter;stroke-width:0.8;\"/>\n",
       "   </g>\n",
       "   <g id=\"patch_9\">\n",
       "    <path d=\"M 167.414894 93.552168 \n",
       "L 167.414894 22.318125 \n",
       "\" style=\"fill:none;stroke:#000000;stroke-linecap:square;stroke-linejoin:miter;stroke-width:0.8;\"/>\n",
       "   </g>\n",
       "   <g id=\"patch_10\">\n",
       "    <path d=\"M 96.180851 93.552168 \n",
       "L 167.414894 93.552168 \n",
       "\" style=\"fill:none;stroke:#000000;stroke-linecap:square;stroke-linejoin:miter;stroke-width:0.8;\"/>\n",
       "   </g>\n",
       "   <g id=\"patch_11\">\n",
       "    <path d=\"M 96.180851 22.318125 \n",
       "L 167.414894 22.318125 \n",
       "\" style=\"fill:none;stroke:#000000;stroke-linecap:square;stroke-linejoin:miter;stroke-width:0.8;\"/>\n",
       "   </g>\n",
       "   <g id=\"text_2\">\n",
       "    <!-- ankle boot -->\n",
       "    <defs>\n",
       "     <path d=\"M 34.28125 27.484375 \n",
       "Q 23.390625 27.484375 19.1875 25 \n",
       "Q 14.984375 22.515625 14.984375 16.5 \n",
       "Q 14.984375 11.71875 18.140625 8.90625 \n",
       "Q 21.296875 6.109375 26.703125 6.109375 \n",
       "Q 34.1875 6.109375 38.703125 11.40625 \n",
       "Q 43.21875 16.703125 43.21875 25.484375 \n",
       "L 43.21875 27.484375 \n",
       "z\n",
       "M 52.203125 31.203125 \n",
       "L 52.203125 0 \n",
       "L 43.21875 0 \n",
       "L 43.21875 8.296875 \n",
       "Q 40.140625 3.328125 35.546875 0.953125 \n",
       "Q 30.953125 -1.421875 24.3125 -1.421875 \n",
       "Q 15.921875 -1.421875 10.953125 3.296875 \n",
       "Q 6 8.015625 6 15.921875 \n",
       "Q 6 25.140625 12.171875 29.828125 \n",
       "Q 18.359375 34.515625 30.609375 34.515625 \n",
       "L 43.21875 34.515625 \n",
       "L 43.21875 35.40625 \n",
       "Q 43.21875 41.609375 39.140625 45 \n",
       "Q 35.0625 48.390625 27.6875 48.390625 \n",
       "Q 23 48.390625 18.546875 47.265625 \n",
       "Q 14.109375 46.140625 10.015625 43.890625 \n",
       "L 10.015625 52.203125 \n",
       "Q 14.9375 54.109375 19.578125 55.046875 \n",
       "Q 24.21875 56 28.609375 56 \n",
       "Q 40.484375 56 46.34375 49.84375 \n",
       "Q 52.203125 43.703125 52.203125 31.203125 \n",
       "z\n",
       "\" id=\"DejaVuSans-61\"/>\n",
       "     <path d=\"M 54.890625 33.015625 \n",
       "L 54.890625 0 \n",
       "L 45.90625 0 \n",
       "L 45.90625 32.71875 \n",
       "Q 45.90625 40.484375 42.875 44.328125 \n",
       "Q 39.84375 48.1875 33.796875 48.1875 \n",
       "Q 26.515625 48.1875 22.3125 43.546875 \n",
       "Q 18.109375 38.921875 18.109375 30.90625 \n",
       "L 18.109375 0 \n",
       "L 9.078125 0 \n",
       "L 9.078125 54.6875 \n",
       "L 18.109375 54.6875 \n",
       "L 18.109375 46.1875 \n",
       "Q 21.34375 51.125 25.703125 53.5625 \n",
       "Q 30.078125 56 35.796875 56 \n",
       "Q 45.21875 56 50.046875 50.171875 \n",
       "Q 54.890625 44.34375 54.890625 33.015625 \n",
       "z\n",
       "\" id=\"DejaVuSans-6e\"/>\n",
       "     <path d=\"M 9.078125 75.984375 \n",
       "L 18.109375 75.984375 \n",
       "L 18.109375 31.109375 \n",
       "L 44.921875 54.6875 \n",
       "L 56.390625 54.6875 \n",
       "L 27.390625 29.109375 \n",
       "L 57.625 0 \n",
       "L 45.90625 0 \n",
       "L 18.109375 26.703125 \n",
       "L 18.109375 0 \n",
       "L 9.078125 0 \n",
       "z\n",
       "\" id=\"DejaVuSans-6b\"/>\n",
       "     <path id=\"DejaVuSans-20\"/>\n",
       "     <path d=\"M 48.6875 27.296875 \n",
       "Q 48.6875 37.203125 44.609375 42.84375 \n",
       "Q 40.53125 48.484375 33.40625 48.484375 \n",
       "Q 26.265625 48.484375 22.1875 42.84375 \n",
       "Q 18.109375 37.203125 18.109375 27.296875 \n",
       "Q 18.109375 17.390625 22.1875 11.75 \n",
       "Q 26.265625 6.109375 33.40625 6.109375 \n",
       "Q 40.53125 6.109375 44.609375 11.75 \n",
       "Q 48.6875 17.390625 48.6875 27.296875 \n",
       "z\n",
       "M 18.109375 46.390625 \n",
       "Q 20.953125 51.265625 25.265625 53.625 \n",
       "Q 29.59375 56 35.59375 56 \n",
       "Q 45.5625 56 51.78125 48.09375 \n",
       "Q 58.015625 40.1875 58.015625 27.296875 \n",
       "Q 58.015625 14.40625 51.78125 6.484375 \n",
       "Q 45.5625 -1.421875 35.59375 -1.421875 \n",
       "Q 29.59375 -1.421875 25.265625 0.953125 \n",
       "Q 20.953125 3.328125 18.109375 8.203125 \n",
       "L 18.109375 0 \n",
       "L 9.078125 0 \n",
       "L 9.078125 75.984375 \n",
       "L 18.109375 75.984375 \n",
       "z\n",
       "\" id=\"DejaVuSans-62\"/>\n",
       "     <path d=\"M 18.3125 70.21875 \n",
       "L 18.3125 54.6875 \n",
       "L 36.8125 54.6875 \n",
       "L 36.8125 47.703125 \n",
       "L 18.3125 47.703125 \n",
       "L 18.3125 18.015625 \n",
       "Q 18.3125 11.328125 20.140625 9.421875 \n",
       "Q 21.96875 7.515625 27.59375 7.515625 \n",
       "L 36.8125 7.515625 \n",
       "L 36.8125 0 \n",
       "L 27.59375 0 \n",
       "Q 17.1875 0 13.234375 3.875 \n",
       "Q 9.28125 7.765625 9.28125 18.015625 \n",
       "L 9.28125 47.703125 \n",
       "L 2.6875 47.703125 \n",
       "L 2.6875 54.6875 \n",
       "L 9.28125 54.6875 \n",
       "L 9.28125 70.21875 \n",
       "z\n",
       "\" id=\"DejaVuSans-74\"/>\n",
       "    </defs>\n",
       "    <g transform=\"translate(100.074747 16.318125)scale(0.12 -0.12)\">\n",
       "     <use xlink:href=\"#DejaVuSans-61\"/>\n",
       "     <use x=\"61.279297\" xlink:href=\"#DejaVuSans-6e\"/>\n",
       "     <use x=\"124.658203\" xlink:href=\"#DejaVuSans-6b\"/>\n",
       "     <use x=\"182.568359\" xlink:href=\"#DejaVuSans-6c\"/>\n",
       "     <use x=\"210.351562\" xlink:href=\"#DejaVuSans-65\"/>\n",
       "     <use x=\"271.875\" xlink:href=\"#DejaVuSans-20\"/>\n",
       "     <use x=\"303.662109\" xlink:href=\"#DejaVuSans-62\"/>\n",
       "     <use x=\"367.138672\" xlink:href=\"#DejaVuSans-6f\"/>\n",
       "     <use x=\"428.320312\" xlink:href=\"#DejaVuSans-6f\"/>\n",
       "     <use x=\"489.501953\" xlink:href=\"#DejaVuSans-74\"/>\n",
       "    </g>\n",
       "   </g>\n",
       "  </g>\n",
       "  <g id=\"axes_3\">\n",
       "   <g id=\"patch_12\">\n",
       "    <path d=\"M 181.661702 93.552168 \n",
       "L 252.895745 93.552168 \n",
       "L 252.895745 22.318125 \n",
       "L 181.661702 22.318125 \n",
       "z\n",
       "\" style=\"fill:#ffffff;\"/>\n",
       "   </g>\n",
       "   <g clip-path=\"url(#p73d7b5b793)\">\n",
       "    <image height=\"72\" id=\"image82c49dd67d\" transform=\"scale(1 -1)translate(0 -72)\" width=\"72\" x=\"181.661702\" xlink:href=\"data:image/png;base64,\n",
       "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\" y=\"-21.552168\"/>\n",
       "   </g>\n",
       "   <g id=\"patch_13\">\n",
       "    <path d=\"M 181.661702 93.552168 \n",
       "L 181.661702 22.318125 \n",
       "\" style=\"fill:none;stroke:#000000;stroke-linecap:square;stroke-linejoin:miter;stroke-width:0.8;\"/>\n",
       "   </g>\n",
       "   <g id=\"patch_14\">\n",
       "    <path d=\"M 252.895745 93.552168 \n",
       "L 252.895745 22.318125 \n",
       "\" style=\"fill:none;stroke:#000000;stroke-linecap:square;stroke-linejoin:miter;stroke-width:0.8;\"/>\n",
       "   </g>\n",
       "   <g id=\"patch_15\">\n",
       "    <path d=\"M 181.661702 93.552168 \n",
       "L 252.895745 93.552168 \n",
       "\" style=\"fill:none;stroke:#000000;stroke-linecap:square;stroke-linejoin:miter;stroke-width:0.8;\"/>\n",
       "   </g>\n",
       "   <g id=\"patch_16\">\n",
       "    <path d=\"M 181.661702 22.318125 \n",
       "L 252.895745 22.318125 \n",
       "\" style=\"fill:none;stroke:#000000;stroke-linecap:square;stroke-linejoin:miter;stroke-width:0.8;\"/>\n",
       "   </g>\n",
       "   <g id=\"text_3\">\n",
       "    <!-- shirt -->\n",
       "    <defs>\n",
       "     <path d=\"M 44.28125 53.078125 \n",
       "L 44.28125 44.578125 \n",
       "Q 40.484375 46.53125 36.375 47.5 \n",
       "Q 32.28125 48.484375 27.875 48.484375 \n",
       "Q 21.1875 48.484375 17.84375 46.4375 \n",
       "Q 14.5 44.390625 14.5 40.28125 \n",
       "Q 14.5 37.15625 16.890625 35.375 \n",
       "Q 19.28125 33.59375 26.515625 31.984375 \n",
       "L 29.59375 31.296875 \n",
       "Q 39.15625 29.25 43.1875 25.515625 \n",
       "Q 47.21875 21.78125 47.21875 15.09375 \n",
       "Q 47.21875 7.46875 41.1875 3.015625 \n",
       "Q 35.15625 -1.421875 24.609375 -1.421875 \n",
       "Q 20.21875 -1.421875 15.453125 -0.5625 \n",
       "Q 10.6875 0.296875 5.421875 2 \n",
       "L 5.421875 11.28125 \n",
       "Q 10.40625 8.6875 15.234375 7.390625 \n",
       "Q 20.0625 6.109375 24.8125 6.109375 \n",
       "Q 31.15625 6.109375 34.5625 8.28125 \n",
       "Q 37.984375 10.453125 37.984375 14.40625 \n",
       "Q 37.984375 18.0625 35.515625 20.015625 \n",
       "Q 33.0625 21.96875 24.703125 23.78125 \n",
       "L 21.578125 24.515625 \n",
       "Q 13.234375 26.265625 9.515625 29.90625 \n",
       "Q 5.8125 33.546875 5.8125 39.890625 \n",
       "Q 5.8125 47.609375 11.28125 51.796875 \n",
       "Q 16.75 56 26.8125 56 \n",
       "Q 31.78125 56 36.171875 55.265625 \n",
       "Q 40.578125 54.546875 44.28125 53.078125 \n",
       "z\n",
       "\" id=\"DejaVuSans-73\"/>\n",
       "     <path d=\"M 54.890625 33.015625 \n",
       "L 54.890625 0 \n",
       "L 45.90625 0 \n",
       "L 45.90625 32.71875 \n",
       "Q 45.90625 40.484375 42.875 44.328125 \n",
       "Q 39.84375 48.1875 33.796875 48.1875 \n",
       "Q 26.515625 48.1875 22.3125 43.546875 \n",
       "Q 18.109375 38.921875 18.109375 30.90625 \n",
       "L 18.109375 0 \n",
       "L 9.078125 0 \n",
       "L 9.078125 75.984375 \n",
       "L 18.109375 75.984375 \n",
       "L 18.109375 46.1875 \n",
       "Q 21.34375 51.125 25.703125 53.5625 \n",
       "Q 30.078125 56 35.796875 56 \n",
       "Q 45.21875 56 50.046875 50.171875 \n",
       "Q 54.890625 44.34375 54.890625 33.015625 \n",
       "z\n",
       "\" id=\"DejaVuSans-68\"/>\n",
       "     <path d=\"M 9.421875 54.6875 \n",
       "L 18.40625 54.6875 \n",
       "L 18.40625 0 \n",
       "L 9.421875 0 \n",
       "z\n",
       "M 9.421875 75.984375 \n",
       "L 18.40625 75.984375 \n",
       "L 18.40625 64.59375 \n",
       "L 9.421875 64.59375 \n",
       "z\n",
       "\" id=\"DejaVuSans-69\"/>\n",
       "    </defs>\n",
       "    <g transform=\"translate(203.864973 16.318125)scale(0.12 -0.12)\">\n",
       "     <use xlink:href=\"#DejaVuSans-73\"/>\n",
       "     <use x=\"52.099609\" xlink:href=\"#DejaVuSans-68\"/>\n",
       "     <use x=\"115.478516\" xlink:href=\"#DejaVuSans-69\"/>\n",
       "     <use x=\"143.261719\" xlink:href=\"#DejaVuSans-72\"/>\n",
       "     <use x=\"184.375\" xlink:href=\"#DejaVuSans-74\"/>\n",
       "    </g>\n",
       "   </g>\n",
       "  </g>\n",
       "  <g id=\"axes_4\">\n",
       "   <g id=\"patch_17\">\n",
       "    <path d=\"M 267.142553 93.552168 \n",
       "L 338.376596 93.552168 \n",
       "L 338.376596 22.318125 \n",
       "L 267.142553 22.318125 \n",
       "z\n",
       "\" style=\"fill:#ffffff;\"/>\n",
       "   </g>\n",
       "   <g clip-path=\"url(#p60172a1712)\">\n",
       "    <image height=\"72\" id=\"imagebe46ccf9fa\" transform=\"scale(1 -1)translate(0 -72)\" width=\"72\" x=\"267.142553\" xlink:href=\"data:image/png;base64,\n",
       "iVBORw0KGgoAAAANSUhEUgAAAEgAAABICAYAAABV7bNHAAAABHNCSVQICAgIfAhkiAAACiZJREFUeJztXFtwk8cV/nSzZdn4hg2+xEiA7WIuNgRjCDTlXsi0TZmUJqQktCHJQ2gDSdO0CdNpmLTTZkJn8lA6wzSkGRoI8YRLaSCEEAIJuAQcF3CNjblfbCNjWdhIli1LlvpwpHN+QLDCNU/5vxed+aR/d//ds2fPnrMrwxzDwjD6C4NB5PCdizHbC0gIaX5nMQMAOspzmLK2B1g29fQBAK47rMylN3pJOHZSqg4GB7y9URjjK/mbC72DFDD36ymjiT5DfUwZEhNZLviSig2FRaVzrRcAANsqH2QumExq/vGTq5nb7ytkucbrAAAcdeUzVzluAwDgL+4JzDn9aQCAZLOfuaO/GC9tqzpGnyYTc/FOS12DFOiXBhmMpBnhkHDhgIzIle5MAMDJlqHM2dfR6CWMkmcGz3ACAF68sFCe9aSy7P06i+oTRcXj1h8BANzdNuZaL1J9Sc3yOtkZ0h428Ya71wddgxTQO0iB/hnpWKqqMdgpFv8tX1+ekwAA+MPCjcy1BWk6NfszmFtZsJPl9lHJAICtrnLm0i0+AMBhv4O54Vuo7o7lncxd8w1mOTfabJO0Oyzu1h2ha5AChn550jGWeS3GH6XPMUlNzL1ZPw8A0OVMZm7JtCoAgDcoLsKOM2NZnjH8NABgcdYh5qwGGvp6vyz9m50TAQBP5VUxt+pvT7Cc9+d/U7Ot4pGHenpiv9tN0DVIAb2DFOjfFFOgqJqmTOP1Icxde/8+AEDGKVHtniwy3O4S8XBDCVJO0EpNM/vEI58wrwEAsGjIYeZe2vJTAEBSm/wus0GscOLH1QAAg0UKDwd643oXXYMU6OcyHxmp24QMdjWOBgDYapOYS/GR2+3+dRdzvh7ydhOqBjGXNUsM+59GbgEALPnHCuYONYwEABzdU8JcfjVpS9Ni0ZqCze0ss0+tdf3jhK5BCugdpED/ppgiGleUdxUAYC92M/dpzTgAwLujNzOXZ/YAAOZ3P8/cD7LOs/zYnmUAgPzJTubKsy8BADxjxac5WDICALBi7BfM7cz8tjToYuRTE+6AHu4YGOgdpED8U+wuAt5nndkAgMIiF3M5DlpVVp19mDmXl7YdQ7Nlk+ntk23HWzM3AQDeb53MXIaZNqudAVkh8zLp+R3OccyFUsXniWqBQfMOYcVKfPOzOm6D/hlpBWYVNgIA7EmiQQ8VHQcAvLRxKXOls+l3PxkqXvFpv0Qht7ruBwB4A6JVZTYy0mkRTQKAQWbyzmtcBcyldkrIJab3o6d9BgZ6BykQ/xSLUyUB4LNGiszXZuUx995nFA/KbBKFv/4g+TK/qpag/ZqKTSxvbyoDADQ3ZzK3NjwdAJBgkljUiRoHAGDJ7C+ZO2SStJC8Qj9CX3f9xDcM9yTc0bp8KgAgqU20xTk34rn2ypik5pAn7T8uMemgTZpjc9JSnOgWLtlJ5bhLLMx5iokzecRTLlxZw3I0tGEwy4TRE4cDBL2DFLgnflDhj08BAFzdKcyVWEjNW7Y5mAtHTr2sfWItc0s/eZbl7onky3h80kxXkMY0+yuZdh4LTeXRFZeY88eIGIZDupEecNwTDTIaaKSetR9gbtOVCgA3Ge5W0rB/FtzP3PSJ9Sw/M4TCF9OsMo5NQTpA9Wb5TOaOXLUDAFI0pzv8Rk1oI5Keip4pAOIPLuoapIDeQQrck6B9zYVhAIAEo3i7LZUOAECmU5O3T6ByujSZ1cNNdpar9v8cABBIk3Kenkbe8iMZ4ud8VFsWaZa0J80kyYFwZIqF+2Jngu8EXYMU0DtIgXsStJ/3Lcp+7jomET7HeXLt+1ZKvmpZbh0AYMOZCuZMJlleEptoCnbIoTO0+NMBAM81LmYu7xN6jbTnupnri+EH3XBGMeIT3bCyxdh+6BqkwP/lB5mKR7Lcd+osy8U2StMsmCmG9Hf5PwQAvDBMQhINPRQO+f2Y7cxFj7cAwPEiMvafto5mbkxyMwDg0D7xnVxlpA2LhpxgbgdkAxxFLA1R+UO6Bimgd5ACyniQOZd2lCdfdjD39Jx9AIBy2znm1rbMYLnVR4cR3i15j7nHVr8MAPAMF51eOpfK+fC8RP+6fOITPV+6HwBgNMgzoxJbAACn/XK/44OmSQCAZY59zNX6hrFcWU8n0PraJBtrjMzkwg+8zIW/rsPN0DVIAaUGXXz9AQBAqEjSLIEuiuaNKWxm7tGcapZX7aYYc/pJWUJNEQc69aIsv2ETfd9aLkk+iwwoIis6DKXXpezSj6gcoxzE+u0blEryDJdn6362huWNHjrn2haUYza+SILy4HJJShq/OIqboWuQAnoHKaD0gxzbI+q9uoO5QIg80nnZErs50X0fy9Z8miedYYkoJl+msTAvbmXuTAvl8FO/kvqKHm9keUo6HYXZ/uoc5l6ZvwgAkNYgXnFaM1nc6yPkdf7aIT5aduSYTfQTAJpCZCZiTSstdA1SQKlB4RryTpNMkjMvSCZtGm2V84Q+zfHUoWk0UuMcog07D9JS+6J9D3O9w0gLVnTLviorUcIUa/Z+FwBQ9ILUE75E7fBniAb5htJrFE+9IG20yOGt1+u/BwCYkiffP5V1EABwABNxJ+gapIDeQQrEn1ndK0b4+zn/BQBc6U1j7nC7g+XfOHYBADa5pjBnBFVz5Ip4uF43XYrLy5fpUDa4heXsBJqq1W6JMkaveTaekby/IUDjbC+Ws4yFqXL0ps5NXndYc0XUso5uA9m2ytGbWNA1SAG9gxSIOx7U+XeZYrXLrwEAqv5VxlxPkQTjVxvmAwAGWWQ70BuiqmzbZFoWPXMGAPDwkOPMabcDO1soIqm9Pf1WcSUA4FiuTNUo/rh7AcuJpRL7eaSAbj0HQvK6H+bMpvbcUsqN0DVIgbiNtHmEg+X6V8gDzt0rvkjAJqOccZI2tl67nETtyqWx0N5g9k6mGLLhsoQh5s3+D8s7a0mDks6Jj2VzUnP9g6W+YKSalEvyKq7JUtGs8eTxj7S1MXeggiKOqot1ugYpoHeQAnEb6eC5CyxbXBRfWfzaDuYqL8vN5GsB2gh2HZb7qQ8toB3p9s8l/hLNHvVlS6C+7rVSlgsimVePuDxon0RTZ9ApaXrKJPJ5XLnp8kOzRCHNkQzv+gap29FTe+tLxoCuQQqojXSMG86mVMrknVsnHu4vx+1lOT+yUTzuk+/fPkJ/apK/Swx723gan6BDDOU7U9ezvK71OwCAVI27YI5Yee2h8RUjqO5V62XTm1gh3vmTI48AAHaP1WQg44SuQQroHaRA/JtVxW0f83CZToM20Cazvk1iSMbPye/oLBEP15xGAfz0VEkIHJwgf10xt+5RAMDlc9nMZeTTzZ6O85I5NfmpbX1WMcx5crcOyVtibEj12z4DA7UGRXta+4cmt/lLijshmj4qni5XLk/vo6uUOYckFWRrvMqy+wFa3z3DpG7LVDK+vUEx9vZXyYhrzwfEhP4nbwMPvYMU+B9wRRWJYrzTSgAAAABJRU5ErkJggg==\" y=\"-21.552168\"/>\n",
       "   </g>\n",
       "   <g id=\"patch_18\">\n",
       "    <path d=\"M 267.142553 93.552168 \n",
       "L 267.142553 22.318125 \n",
       "\" style=\"fill:none;stroke:#000000;stroke-linecap:square;stroke-linejoin:miter;stroke-width:0.8;\"/>\n",
       "   </g>\n",
       "   <g id=\"patch_19\">\n",
       "    <path d=\"M 338.376596 93.552168 \n",
       "L 338.376596 22.318125 \n",
       "\" style=\"fill:none;stroke:#000000;stroke-linecap:square;stroke-linejoin:miter;stroke-width:0.8;\"/>\n",
       "   </g>\n",
       "   <g id=\"patch_20\">\n",
       "    <path d=\"M 267.142553 93.552168 \n",
       "L 338.376596 93.552168 \n",
       "\" style=\"fill:none;stroke:#000000;stroke-linecap:square;stroke-linejoin:miter;stroke-width:0.8;\"/>\n",
       "   </g>\n",
       "   <g id=\"patch_21\">\n",
       "    <path d=\"M 267.142553 22.318125 \n",
       "L 338.376596 22.318125 \n",
       "\" style=\"fill:none;stroke:#000000;stroke-linecap:square;stroke-linejoin:miter;stroke-width:0.8;\"/>\n",
       "   </g>\n",
       "   <g id=\"text_4\">\n",
       "    <!-- t-shirt -->\n",
       "    <defs>\n",
       "     <path d=\"M 4.890625 31.390625 \n",
       "L 31.203125 31.390625 \n",
       "L 31.203125 23.390625 \n",
       "L 4.890625 23.390625 \n",
       "z\n",
       "\" id=\"DejaVuSans-2d\"/>\n",
       "    </defs>\n",
       "    <g transform=\"translate(284.828949 16.318125)scale(0.12 -0.12)\">\n",
       "     <use xlink:href=\"#DejaVuSans-74\"/>\n",
       "     <use x=\"39.208984\" xlink:href=\"#DejaVuSans-2d\"/>\n",
       "     <use x=\"75.292969\" xlink:href=\"#DejaVuSans-73\"/>\n",
       "     <use x=\"127.392578\" xlink:href=\"#DejaVuSans-68\"/>\n",
       "     <use x=\"190.771484\" xlink:href=\"#DejaVuSans-69\"/>\n",
       "     <use x=\"218.554688\" xlink:href=\"#DejaVuSans-72\"/>\n",
       "     <use x=\"259.667969\" xlink:href=\"#DejaVuSans-74\"/>\n",
       "    </g>\n",
       "   </g>\n",
       "  </g>\n",
       "  <g id=\"axes_5\">\n",
       "   <g id=\"patch_22\">\n",
       "    <path d=\"M 352.623404 93.552168 \n",
       "L 423.857447 93.552168 \n",
       "L 423.857447 22.318125 \n",
       "L 352.623404 22.318125 \n",
       "z\n",
       "\" style=\"fill:#ffffff;\"/>\n",
       "   </g>\n",
       "   <g clip-path=\"url(#p199266639c)\">\n",
       "    <image height=\"72\" id=\"image065d6e9b4b\" transform=\"scale(1 -1)translate(0 -72)\" width=\"72\" x=\"352.623404\" xlink:href=\"data:image/png;base64,\n",
       "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\" y=\"-21.552168\"/>\n",
       "   </g>\n",
       "   <g id=\"patch_23\">\n",
       "    <path d=\"M 352.623404 93.552168 \n",
       "L 352.623404 22.318125 \n",
       "\" style=\"fill:none;stroke:#000000;stroke-linecap:square;stroke-linejoin:miter;stroke-width:0.8;\"/>\n",
       "   </g>\n",
       "   <g id=\"patch_24\">\n",
       "    <path d=\"M 423.857447 93.552168 \n",
       "L 423.857447 22.318125 \n",
       "\" style=\"fill:none;stroke:#000000;stroke-linecap:square;stroke-linejoin:miter;stroke-width:0.8;\"/>\n",
       "   </g>\n",
       "   <g id=\"patch_25\">\n",
       "    <path d=\"M 352.623404 93.552168 \n",
       "L 423.857447 93.552168 \n",
       "\" style=\"fill:none;stroke:#000000;stroke-linecap:square;stroke-linejoin:miter;stroke-width:0.8;\"/>\n",
       "   </g>\n",
       "   <g id=\"patch_26\">\n",
       "    <path d=\"M 352.623404 22.318125 \n",
       "L 423.857447 22.318125 \n",
       "\" style=\"fill:none;stroke:#000000;stroke-linecap:square;stroke-linejoin:miter;stroke-width:0.8;\"/>\n",
       "   </g>\n",
       "   <g id=\"text_5\">\n",
       "    <!-- dress -->\n",
       "    <defs>\n",
       "     <path d=\"M 45.40625 46.390625 \n",
       "L 45.40625 75.984375 \n",
       "L 54.390625 75.984375 \n",
       "L 54.390625 0 \n",
       "L 45.40625 0 \n",
       "L 45.40625 8.203125 \n",
       "Q 42.578125 3.328125 38.25 0.953125 \n",
       "Q 33.9375 -1.421875 27.875 -1.421875 \n",
       "Q 17.96875 -1.421875 11.734375 6.484375 \n",
       "Q 5.515625 14.40625 5.515625 27.296875 \n",
       "Q 5.515625 40.1875 11.734375 48.09375 \n",
       "Q 17.96875 56 27.875 56 \n",
       "Q 33.9375 56 38.25 53.625 \n",
       "Q 42.578125 51.265625 45.40625 46.390625 \n",
       "z\n",
       "M 14.796875 27.296875 \n",
       "Q 14.796875 17.390625 18.875 11.75 \n",
       "Q 22.953125 6.109375 30.078125 6.109375 \n",
       "Q 37.203125 6.109375 41.296875 11.75 \n",
       "Q 45.40625 17.390625 45.40625 27.296875 \n",
       "Q 45.40625 37.203125 41.296875 42.84375 \n",
       "Q 37.203125 48.484375 30.078125 48.484375 \n",
       "Q 22.953125 48.484375 18.875 42.84375 \n",
       "Q 14.796875 37.203125 14.796875 27.296875 \n",
       "z\n",
       "\" id=\"DejaVuSans-64\"/>\n",
       "    </defs>\n",
       "    <g transform=\"translate(372.023551 16.318125)scale(0.12 -0.12)\">\n",
       "     <use xlink:href=\"#DejaVuSans-64\"/>\n",
       "     <use x=\"63.476562\" xlink:href=\"#DejaVuSans-72\"/>\n",
       "     <use x=\"104.558594\" xlink:href=\"#DejaVuSans-65\"/>\n",
       "     <use x=\"166.082031\" xlink:href=\"#DejaVuSans-73\"/>\n",
       "     <use x=\"218.181641\" xlink:href=\"#DejaVuSans-73\"/>\n",
       "    </g>\n",
       "   </g>\n",
       "  </g>\n",
       "  <g id=\"axes_6\">\n",
       "   <g id=\"patch_27\">\n",
       "    <path d=\"M 438.104255 93.552168 \n",
       "L 509.338298 93.552168 \n",
       "L 509.338298 22.318125 \n",
       "L 438.104255 22.318125 \n",
       "z\n",
       "\" style=\"fill:#ffffff;\"/>\n",
       "   </g>\n",
       "   <g clip-path=\"url(#p87e9ae611e)\">\n",
       "    <image height=\"72\" id=\"imagefcd1bf0ad5\" transform=\"scale(1 -1)translate(0 -72)\" width=\"72\" x=\"438.104255\" xlink:href=\"data:image/png;base64,\n",
       "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\" y=\"-21.552168\"/>\n",
       "   </g>\n",
       "   <g id=\"patch_28\">\n",
       "    <path d=\"M 438.104255 93.552168 \n",
       "L 438.104255 22.318125 \n",
       "\" style=\"fill:none;stroke:#000000;stroke-linecap:square;stroke-linejoin:miter;stroke-width:0.8;\"/>\n",
       "   </g>\n",
       "   <g id=\"patch_29\">\n",
       "    <path d=\"M 509.338298 93.552168 \n",
       "L 509.338298 22.318125 \n",
       "\" style=\"fill:none;stroke:#000000;stroke-linecap:square;stroke-linejoin:miter;stroke-width:0.8;\"/>\n",
       "   </g>\n",
       "   <g id=\"patch_30\">\n",
       "    <path d=\"M 438.104255 93.552168 \n",
       "L 509.338298 93.552168 \n",
       "\" style=\"fill:none;stroke:#000000;stroke-linecap:square;stroke-linejoin:miter;stroke-width:0.8;\"/>\n",
       "   </g>\n",
       "   <g id=\"patch_31\">\n",
       "    <path d=\"M 438.104255 22.318125 \n",
       "L 509.338298 22.318125 \n",
       "\" style=\"fill:none;stroke:#000000;stroke-linecap:square;stroke-linejoin:miter;stroke-width:0.8;\"/>\n",
       "   </g>\n",
       "   <g id=\"text_6\">\n",
       "    <!-- coat -->\n",
       "    <defs>\n",
       "     <path d=\"M 48.78125 52.59375 \n",
       "L 48.78125 44.1875 \n",
       "Q 44.96875 46.296875 41.140625 47.34375 \n",
       "Q 37.3125 48.390625 33.40625 48.390625 \n",
       "Q 24.65625 48.390625 19.8125 42.84375 \n",
       "Q 14.984375 37.3125 14.984375 27.296875 \n",
       "Q 14.984375 17.28125 19.8125 11.734375 \n",
       "Q 24.65625 6.203125 33.40625 6.203125 \n",
       "Q 37.3125 6.203125 41.140625 7.25 \n",
       "Q 44.96875 8.296875 48.78125 10.40625 \n",
       "L 48.78125 2.09375 \n",
       "Q 45.015625 0.34375 40.984375 -0.53125 \n",
       "Q 36.96875 -1.421875 32.421875 -1.421875 \n",
       "Q 20.0625 -1.421875 12.78125 6.34375 \n",
       "Q 5.515625 14.109375 5.515625 27.296875 \n",
       "Q 5.515625 40.671875 12.859375 48.328125 \n",
       "Q 20.21875 56 33.015625 56 \n",
       "Q 37.15625 56 41.109375 55.140625 \n",
       "Q 45.0625 54.296875 48.78125 52.59375 \n",
       "z\n",
       "\" id=\"DejaVuSans-63\"/>\n",
       "    </defs>\n",
       "    <g transform=\"translate(460.721902 16.318125)scale(0.12 -0.12)\">\n",
       "     <use xlink:href=\"#DejaVuSans-63\"/>\n",
       "     <use x=\"54.980469\" xlink:href=\"#DejaVuSans-6f\"/>\n",
       "     <use x=\"116.162109\" xlink:href=\"#DejaVuSans-61\"/>\n",
       "     <use x=\"177.441406\" xlink:href=\"#DejaVuSans-74\"/>\n",
       "    </g>\n",
       "   </g>\n",
       "  </g>\n",
       "  <g id=\"axes_7\">\n",
       "   <g id=\"patch_32\">\n",
       "    <path d=\"M 523.585106 93.552168 \n",
       "L 594.819149 93.552168 \n",
       "L 594.819149 22.318125 \n",
       "L 523.585106 22.318125 \n",
       "z\n",
       "\" style=\"fill:#ffffff;\"/>\n",
       "   </g>\n",
       "   <g clip-path=\"url(#p7d4d9da463)\">\n",
       "    <image height=\"72\" id=\"image1428fbb55a\" transform=\"scale(1 -1)translate(0 -72)\" width=\"72\" x=\"523.585106\" xlink:href=\"data:image/png;base64,\n",
       "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\" y=\"-21.552168\"/>\n",
       "   </g>\n",
       "   <g id=\"patch_33\">\n",
       "    <path d=\"M 523.585106 93.552168 \n",
       "L 523.585106 22.318125 \n",
       "\" style=\"fill:none;stroke:#000000;stroke-linecap:square;stroke-linejoin:miter;stroke-width:0.8;\"/>\n",
       "   </g>\n",
       "   <g id=\"patch_34\">\n",
       "    <path d=\"M 594.819149 93.552168 \n",
       "L 594.819149 22.318125 \n",
       "\" style=\"fill:none;stroke:#000000;stroke-linecap:square;stroke-linejoin:miter;stroke-width:0.8;\"/>\n",
       "   </g>\n",
       "   <g id=\"patch_35\">\n",
       "    <path d=\"M 523.585106 93.552168 \n",
       "L 594.819149 93.552168 \n",
       "\" style=\"fill:none;stroke:#000000;stroke-linecap:square;stroke-linejoin:miter;stroke-width:0.8;\"/>\n",
       "   </g>\n",
       "   <g id=\"patch_36\">\n",
       "    <path d=\"M 523.585106 22.318125 \n",
       "L 594.819149 22.318125 \n",
       "\" style=\"fill:none;stroke:#000000;stroke-linecap:square;stroke-linejoin:miter;stroke-width:0.8;\"/>\n",
       "   </g>\n",
       "   <g id=\"text_7\">\n",
       "    <!-- coat -->\n",
       "    <g transform=\"translate(546.202753 16.318125)scale(0.12 -0.12)\">\n",
       "     <use xlink:href=\"#DejaVuSans-63\"/>\n",
       "     <use x=\"54.980469\" xlink:href=\"#DejaVuSans-6f\"/>\n",
       "     <use x=\"116.162109\" xlink:href=\"#DejaVuSans-61\"/>\n",
       "     <use x=\"177.441406\" xlink:href=\"#DejaVuSans-74\"/>\n",
       "    </g>\n",
       "   </g>\n",
       "  </g>\n",
       "  <g id=\"axes_8\">\n",
       "   <g id=\"patch_37\">\n",
       "    <path d=\"M 609.065957 93.552168 \n",
       "L 680.3 93.552168 \n",
       "L 680.3 22.318125 \n",
       "L 609.065957 22.318125 \n",
       "z\n",
       "\" style=\"fill:#ffffff;\"/>\n",
       "   </g>\n",
       "   <g clip-path=\"url(#pf31b9baf61)\">\n",
       "    <image height=\"72\" id=\"image5214ad1449\" transform=\"scale(1 -1)translate(0 -72)\" width=\"72\" x=\"609.065957\" xlink:href=\"data:image/png;base64,\n",
       "iVBORw0KGgoAAAANSUhEUgAAAEgAAABICAYAAABV7bNHAAAABHNCSVQICAgIfAhkiAAAA2BJREFUeJztmt9LU2EYx7/v2dFcaRhm4Y/MtDLoB0JaIEJUGgSSBEpdBIJk9MPAmyC6iG6jIiqhoG6kLvoHijDCLkQv1JIcZGT2C235A0xIN+d2unjXczZ25jNtUdTzufHdl3Pe99lnz87e46aqVJ0FIS7Gny7gb0cEMYggBhHEIIIYRBCDCGIQQQwiiEEEMYggBhHEIIIYRBCDCGIQQQwiiEEEMYggBhHEIIIYRBCDCGIQQQwiiMGMfODaXAwA8BVkUhbI0IcYAfsL2NSpOQDA5Ha346TBNKXP8duZ5Vp8cca8XtOYi50na2CGMnPaBwAYOZBF2fdcu15z9ufJijIVjP4LAPPp+pz8joBdw+LL/r8wVdk2ejBVnA4ACKXYB6zyTAMAvJV2V2XWfgUAZFf3U+baWkJjS+lXSlkRX/v7w21gxL4m1vJlNA6l2U2tgla4Hvsc1f0KAPD2xi7KhuvaAADNI7spGzqxkcbj5St1jX67HuXwi4Rg+Hm7hyYokw5iEEEMaik/f7k4/AIAcPbKGcqyb3cnr6oFMNev02s/a6fs8dQOAMCbsoDjOb+CdBCDqjLqI65cYV+hYJzDNb4afYFce/4dZadzOmjc+KgJALDl5hhlwaH38Sc04uwBwnWYhQX23O3PAQB73F8oa6g8CgCY//h5wbqj1rFCOnLbW5WQzx+1LiAdxCKCGJZ0kXbCLCqksbc6BwDgOmTvJxo3dAEAWttqKcu73JXQ3CW99sZspal3zZ5vuZS15D8FAHwIrKbs2r06GudeTWwdJ6SDGEQQQ+JvMaUixol92kXiP1gOABhtsO9gL5Q+AQA8OFVDWarH/iSavp8BANiUOU6Z93ieXtozSNnouQoAwK2TdyhLU/aeqGe2CABwvW8/ZcV39dNOef2JsuDEZEzd0kEMSbtIL6XDZg7rm8t9lzopezi4k8b1JS8BAL1NpZRZPQOLLm2sWXfYihovZaNj+ua7b28rZccqjwCI3k9JBzGIIIbkvcUcZ3d424W3+Hocu7S3pYLGa3r1fw2Nzv6Y45JGZI0O9UgHMfzeDvoHkA5iEEEMIohBBDGIIAYRxCCCGEQQgwhiEEEMIohBBDGIIAYRxCCCGEQQgwhiEEEMIohBBDGIIAYRxCCCGEQQgwhi+AHrvcQjd0pndwAAAABJRU5ErkJggg==\" y=\"-21.552168\"/>\n",
       "   </g>\n",
       "   <g id=\"patch_38\">\n",
       "    <path d=\"M 609.065957 93.552168 \n",
       "L 609.065957 22.318125 \n",
       "\" style=\"fill:none;stroke:#000000;stroke-linecap:square;stroke-linejoin:miter;stroke-width:0.8;\"/>\n",
       "   </g>\n",
       "   <g id=\"patch_39\">\n",
       "    <path d=\"M 680.3 93.552168 \n",
       "L 680.3 22.318125 \n",
       "\" style=\"fill:none;stroke:#000000;stroke-linecap:square;stroke-linejoin:miter;stroke-width:0.8;\"/>\n",
       "   </g>\n",
       "   <g id=\"patch_40\">\n",
       "    <path d=\"M 609.065957 93.552168 \n",
       "L 680.3 93.552168 \n",
       "\" style=\"fill:none;stroke:#000000;stroke-linecap:square;stroke-linejoin:miter;stroke-width:0.8;\"/>\n",
       "   </g>\n",
       "   <g id=\"patch_41\">\n",
       "    <path d=\"M 609.065957 22.318125 \n",
       "L 680.3 22.318125 \n",
       "\" style=\"fill:none;stroke:#000000;stroke-linecap:square;stroke-linejoin:miter;stroke-width:0.8;\"/>\n",
       "   </g>\n",
       "   <g id=\"text_8\">\n",
       "    <!-- sandal -->\n",
       "    <g transform=\"translate(624.925166 16.318125)scale(0.12 -0.12)\">\n",
       "     <use xlink:href=\"#DejaVuSans-73\"/>\n",
       "     <use x=\"52.099609\" xlink:href=\"#DejaVuSans-61\"/>\n",
       "     <use x=\"113.378906\" xlink:href=\"#DejaVuSans-6e\"/>\n",
       "     <use x=\"176.757812\" xlink:href=\"#DejaVuSans-64\"/>\n",
       "     <use x=\"240.234375\" xlink:href=\"#DejaVuSans-61\"/>\n",
       "     <use x=\"301.513672\" xlink:href=\"#DejaVuSans-6c\"/>\n",
       "    </g>\n",
       "   </g>\n",
       "  </g>\n",
       "  <g id=\"axes_9\">\n",
       "   <g id=\"patch_42\">\n",
       "    <path d=\"M 10.7 179.888638 \n",
       "L 81.934043 179.888638 \n",
       "L 81.934043 108.654596 \n",
       "L 10.7 108.654596 \n",
       "z\n",
       "\" style=\"fill:#ffffff;\"/>\n",
       "   </g>\n",
       "   <g clip-path=\"url(#p4ac27495e7)\">\n",
       "    <image height=\"72\" id=\"image5c58b2482a\" transform=\"scale(1 -1)translate(0 -72)\" width=\"72\" x=\"10.7\" xlink:href=\"data:image/png;base64,\n",
       "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\" y=\"-107.888638\"/>\n",
       "   </g>\n",
       "   <g id=\"patch_43\">\n",
       "    <path d=\"M 10.7 179.888638 \n",
       "L 10.7 108.654596 \n",
       "\" style=\"fill:none;stroke:#000000;stroke-linecap:square;stroke-linejoin:miter;stroke-width:0.8;\"/>\n",
       "   </g>\n",
       "   <g id=\"patch_44\">\n",
       "    <path d=\"M 81.934043 179.888638 \n",
       "L 81.934043 108.654596 \n",
       "\" style=\"fill:none;stroke:#000000;stroke-linecap:square;stroke-linejoin:miter;stroke-width:0.8;\"/>\n",
       "   </g>\n",
       "   <g id=\"patch_45\">\n",
       "    <path d=\"M 10.7 179.888638 \n",
       "L 81.934043 179.888638 \n",
       "\" style=\"fill:none;stroke:#000000;stroke-linecap:square;stroke-linejoin:miter;stroke-width:0.8;\"/>\n",
       "   </g>\n",
       "   <g id=\"patch_46\">\n",
       "    <path d=\"M 10.7 108.654596 \n",
       "L 81.934043 108.654596 \n",
       "\" style=\"fill:none;stroke:#000000;stroke-linecap:square;stroke-linejoin:miter;stroke-width:0.8;\"/>\n",
       "   </g>\n",
       "   <g id=\"text_9\">\n",
       "    <!-- coat -->\n",
       "    <g transform=\"translate(33.317646 102.654596)scale(0.12 -0.12)\">\n",
       "     <use xlink:href=\"#DejaVuSans-63\"/>\n",
       "     <use x=\"54.980469\" xlink:href=\"#DejaVuSans-6f\"/>\n",
       "     <use x=\"116.162109\" xlink:href=\"#DejaVuSans-61\"/>\n",
       "     <use x=\"177.441406\" xlink:href=\"#DejaVuSans-74\"/>\n",
       "    </g>\n",
       "   </g>\n",
       "  </g>\n",
       "  <g id=\"axes_10\">\n",
       "   <g id=\"patch_47\">\n",
       "    <path d=\"M 96.180851 179.888638 \n",
       "L 167.414894 179.888638 \n",
       "L 167.414894 108.654596 \n",
       "L 96.180851 108.654596 \n",
       "z\n",
       "\" style=\"fill:#ffffff;\"/>\n",
       "   </g>\n",
       "   <g clip-path=\"url(#p44f21d0f18)\">\n",
       "    <image height=\"72\" id=\"imagea98fe7ba8b\" transform=\"scale(1 -1)translate(0 -72)\" width=\"72\" x=\"96.180851\" xlink:href=\"data:image/png;base64,\n",
       "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\" y=\"-107.888638\"/>\n",
       "   </g>\n",
       "   <g id=\"patch_48\">\n",
       "    <path d=\"M 96.180851 179.888638 \n",
       "L 96.180851 108.654596 \n",
       "\" style=\"fill:none;stroke:#000000;stroke-linecap:square;stroke-linejoin:miter;stroke-width:0.8;\"/>\n",
       "   </g>\n",
       "   <g id=\"patch_49\">\n",
       "    <path d=\"M 167.414894 179.888638 \n",
       "L 167.414894 108.654596 \n",
       "\" style=\"fill:none;stroke:#000000;stroke-linecap:square;stroke-linejoin:miter;stroke-width:0.8;\"/>\n",
       "   </g>\n",
       "   <g id=\"patch_50\">\n",
       "    <path d=\"M 96.180851 179.888638 \n",
       "L 167.414894 179.888638 \n",
       "\" style=\"fill:none;stroke:#000000;stroke-linecap:square;stroke-linejoin:miter;stroke-width:0.8;\"/>\n",
       "   </g>\n",
       "   <g id=\"patch_51\">\n",
       "    <path d=\"M 96.180851 108.654596 \n",
       "L 167.414894 108.654596 \n",
       "\" style=\"fill:none;stroke:#000000;stroke-linecap:square;stroke-linejoin:miter;stroke-width:0.8;\"/>\n",
       "   </g>\n",
       "   <g id=\"text_10\">\n",
       "    <!-- bag -->\n",
       "    <defs>\n",
       "     <path d=\"M 45.40625 27.984375 \n",
       "Q 45.40625 37.75 41.375 43.109375 \n",
       "Q 37.359375 48.484375 30.078125 48.484375 \n",
       "Q 22.859375 48.484375 18.828125 43.109375 \n",
       "Q 14.796875 37.75 14.796875 27.984375 \n",
       "Q 14.796875 18.265625 18.828125 12.890625 \n",
       "Q 22.859375 7.515625 30.078125 7.515625 \n",
       "Q 37.359375 7.515625 41.375 12.890625 \n",
       "Q 45.40625 18.265625 45.40625 27.984375 \n",
       "z\n",
       "M 54.390625 6.78125 \n",
       "Q 54.390625 -7.171875 48.1875 -13.984375 \n",
       "Q 42 -20.796875 29.203125 -20.796875 \n",
       "Q 24.46875 -20.796875 20.265625 -20.09375 \n",
       "Q 16.0625 -19.390625 12.109375 -17.921875 \n",
       "L 12.109375 -9.1875 \n",
       "Q 16.0625 -11.328125 19.921875 -12.34375 \n",
       "Q 23.78125 -13.375 27.78125 -13.375 \n",
       "Q 36.625 -13.375 41.015625 -8.765625 \n",
       "Q 45.40625 -4.15625 45.40625 5.171875 \n",
       "L 45.40625 9.625 \n",
       "Q 42.625 4.78125 38.28125 2.390625 \n",
       "Q 33.9375 0 27.875 0 \n",
       "Q 17.828125 0 11.671875 7.65625 \n",
       "Q 5.515625 15.328125 5.515625 27.984375 \n",
       "Q 5.515625 40.671875 11.671875 48.328125 \n",
       "Q 17.828125 56 27.875 56 \n",
       "Q 33.9375 56 38.28125 53.609375 \n",
       "Q 42.625 51.21875 45.40625 46.390625 \n",
       "L 45.40625 54.6875 \n",
       "L 54.390625 54.6875 \n",
       "z\n",
       "\" id=\"DejaVuSans-67\"/>\n",
       "    </defs>\n",
       "    <g transform=\"translate(120.502872 102.654596)scale(0.12 -0.12)\">\n",
       "     <use xlink:href=\"#DejaVuSans-62\"/>\n",
       "     <use x=\"63.476562\" xlink:href=\"#DejaVuSans-61\"/>\n",
       "     <use x=\"124.755859\" xlink:href=\"#DejaVuSans-67\"/>\n",
       "    </g>\n",
       "   </g>\n",
       "  </g>\n",
       "  <g id=\"axes_11\">\n",
       "   <g id=\"patch_52\">\n",
       "    <path d=\"M 181.661702 179.888638 \n",
       "L 252.895745 179.888638 \n",
       "L 252.895745 108.654596 \n",
       "L 181.661702 108.654596 \n",
       "z\n",
       "\" style=\"fill:#ffffff;\"/>\n",
       "   </g>\n",
       "   <g clip-path=\"url(#pc8f6b31049)\">\n",
       "    <image height=\"72\" id=\"image25463973c1\" transform=\"scale(1 -1)translate(0 -72)\" width=\"72\" x=\"181.661702\" xlink:href=\"data:image/png;base64,\n",
       "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\" y=\"-107.888638\"/>\n",
       "   </g>\n",
       "   <g id=\"patch_53\">\n",
       "    <path d=\"M 181.661702 179.888638 \n",
       "L 181.661702 108.654596 \n",
       "\" style=\"fill:none;stroke:#000000;stroke-linecap:square;stroke-linejoin:miter;stroke-width:0.8;\"/>\n",
       "   </g>\n",
       "   <g id=\"patch_54\">\n",
       "    <path d=\"M 252.895745 179.888638 \n",
       "L 252.895745 108.654596 \n",
       "\" style=\"fill:none;stroke:#000000;stroke-linecap:square;stroke-linejoin:miter;stroke-width:0.8;\"/>\n",
       "   </g>\n",
       "   <g id=\"patch_55\">\n",
       "    <path d=\"M 181.661702 179.888638 \n",
       "L 252.895745 179.888638 \n",
       "\" style=\"fill:none;stroke:#000000;stroke-linecap:square;stroke-linejoin:miter;stroke-width:0.8;\"/>\n",
       "   </g>\n",
       "   <g id=\"patch_56\">\n",
       "    <path d=\"M 181.661702 108.654596 \n",
       "L 252.895745 108.654596 \n",
       "\" style=\"fill:none;stroke:#000000;stroke-linecap:square;stroke-linejoin:miter;stroke-width:0.8;\"/>\n",
       "   </g>\n",
       "   <g id=\"text_11\">\n",
       "    <!-- t-shirt -->\n",
       "    <g transform=\"translate(199.348098 102.654596)scale(0.12 -0.12)\">\n",
       "     <use xlink:href=\"#DejaVuSans-74\"/>\n",
       "     <use x=\"39.208984\" xlink:href=\"#DejaVuSans-2d\"/>\n",
       "     <use x=\"75.292969\" xlink:href=\"#DejaVuSans-73\"/>\n",
       "     <use x=\"127.392578\" xlink:href=\"#DejaVuSans-68\"/>\n",
       "     <use x=\"190.771484\" xlink:href=\"#DejaVuSans-69\"/>\n",
       "     <use x=\"218.554688\" xlink:href=\"#DejaVuSans-72\"/>\n",
       "     <use x=\"259.667969\" xlink:href=\"#DejaVuSans-74\"/>\n",
       "    </g>\n",
       "   </g>\n",
       "  </g>\n",
       "  <g id=\"axes_12\">\n",
       "   <g id=\"patch_57\">\n",
       "    <path d=\"M 267.142553 179.888638 \n",
       "L 338.376596 179.888638 \n",
       "L 338.376596 108.654596 \n",
       "L 267.142553 108.654596 \n",
       "z\n",
       "\" style=\"fill:#ffffff;\"/>\n",
       "   </g>\n",
       "   <g clip-path=\"url(#p682a08f257)\">\n",
       "    <image height=\"72\" id=\"image0a39f25428\" transform=\"scale(1 -1)translate(0 -72)\" width=\"72\" x=\"267.142553\" xlink:href=\"data:image/png;base64,\n",
       "iVBORw0KGgoAAAANSUhEUgAAAEgAAABICAYAAABV7bNHAAAABHNCSVQICAgIfAhkiAAACNRJREFUeJztXEtsnUcV/v7/vy/fe+36ESdOarukaZJGRERtiogoAlpCW9h0USSyoZsCqqoKCVEBQrBoVbGhIFVIgBBURaxAXVBlYaQW0SzS0ighhdYJfihNU8ePNLUdv6597/9gcf6Zc/78Y48dUjadb+PRufO6M985c86ZufaOel9LcB0KA/26fOnrgwCARl+sZVE9LfvctFBvcbkYAQCKxVDLqiX6fH6pTcvi8ToAYPePT2mZ53u67Le3UyHhseH5JAq5b8+jNkmS+yrpQNQ+Xllh2Xp1r4O/qVofY7gFsqBgEp770S5dfvb+PwEAhldu1bIj9XEAwIXmdmOnA8VZAEBPsKRlw2vUfqrZqWUHD00AAH7iH9OyylVWsSSgv8Eq9+2T9sILWUU8VZRa44li2qawyhWSVC2DJss635kDAETDIzxe7ts5ZGBkUPFaoMvLcRkA8NLQvVr2yjiVG728TXGR27faaVfiMu9OXEoNbZFlpSs0/O3Hl7XMb7CxV/CabJARb2Bc1zO8yoi3lVjUaNJ32N2lZc3eGgAgEE0dgyxwC2RBRsW8MqnTjlPsd/zld58BAHQfYfp2D40CAOLb2XAjFL5KCn8try6IRL0CkTkpMqmjepnno+q2Cf1NoYxsZv5CxbxIqHeReOA3I66cqpvf4vkUlkjtpKI6BlmQYdDMtw4DAGrTvNLR+LsAgPjePq7YTUd1XBLmrJBf66iDjSLURhl22ROsyuyyqiuNb1o1z58sgyT8WHn+PEdvZY263saevToMHIO2ALdAFmRUzH/wKgCg/jSrhqJbVOF6XoPo6bVYHaSaKL8jY7gV/SPpAVNZGtyMmmwQUCZSXWz9pNNIpINjQKu7CsD5QVtChkE76hQ7xejWMr9G3uXsXcyW3hc+AAB4Oziu8taEcVXLbjiKjQY3kIGTZ6573edenHcr1jPSWh4LhoU032CV5z1xlBg0+Bq3dQyywC2QBRkVixOi4NTnOrSsf4aCuWovB5RJRLT0pFGUlFdF8bk2oHJL0rJn8MLXbbPJTCAMXXqenCOVAxEcFw7N59o4BlngFsiCjIqNjFEm8fAjo1q2/PdeAEClJAJPlUSXdBd+UFKh4NKkOlKWqPAko57CT1IJ/Dh/GiYitFF9St8oM2bafyL50KKwQga1YZh3lByDLMgwaP9v6VrkpeOvatnBh54AAISNRS3bll69ZBji530Zuctqd701buOttjL1c/2YoPyglvS70qugCn+dbBYy302yRtFA2M7plVJxNVfPMcgCt0AWZFQsOTMMAHitwevWed80AGB6WFzxpEY6Q3MBf47UMZqcYVmdQhb0bcs3MIQf11UQM04NaSgC5VYaPF+c4PG6ORmftFfTNqLzJqn38i5WsUbDkBU1TceBYbz2+e7PH9flP3z/FwCAhy9+J19R7CLmFrgc0LrPfPseLep9iw6A4Mx/tMwbTHPaNu9YGvFYsZeNcNIg4zr7yKe0rOs8X1r6I+9RYZAvRJMm5Z9XtjNHaidruaEdgyxwC2SBUcW2/+p1XX7+0aMAAL9muPEUKiaflsQHdgMAjj3+ipb95h9fBADse31NywLl04h+EoM/lVFBP70qmuXAMtlNqvrV753QshfPfFaX9z22mDYVwXP6fCasctc9w8J3UsPlJA4ZGBkkcekHe6nwTdFo104qNITnKXbZX2gAAM4uDGhZ5X3D5V+ZhpcGN2OQTQxK2aZSLgDgLdM8LjZ6tKw4nR8vkw9PL0llnrr+1mUaQjRxDLLALZAFVhXzT5wFAOyfvkPLwgHyhoOxCWMbb5Gyj2HM6x9V87ek/iKpIlbZcHsyZaHKUsWKNOVYvlE0zUE6+Ym6wZV383SPVRLuWzhxOdePY5AFboEssKqYwuSDHKy2v09UrZ1eMFeu0AnRVeIckimYaPbT/Vuzk0+c0gL7W36D1Chu42lG6VOW0uR0rr+Sz2rnRxvnlaLUj7q2j9Vu5wE6saPzY9zPhr042BkUdNAVkGINAJTnaZelLyKRlIgR/ZU5LYv6mvm+33gbAFCriyDRE3uW9i8zxcW076jJ/SVVYuzh9ve07G9778yNF41c4LHv+AQAoOesOEgEcxQcgyxwC2SBl/mthsG1L+ykl2VL9wxq2WI/kT6qsCGUKlidJNd/7Bucrbv1VarbcW5Wy8IuihQLH7AxV09r6INUuYRvlJRTgy6f26T5p9HHONSoTnGb6jTVbbbzfHvO0xyDk29z36ELVreMrJFWzBEBYzhFx2nlOB+rFWyM8Ev01vGpLwxp2XPJV2jAFX4yc+UwsSFospEOReexenQutjFOZ9z3JjNo4gGq9/CnT2vZ6AK7JdF9k+vONeN+GDTIMcgCt0AWmP0gQwYPsdnnMaF44l8AgJEVfjrcNklDlYc4WzkwhJuC8iHKHu5t42umfz5zN4+N9VXM9qLNMciCLIPUakpvVr3k2OTbQYCPy7+O8zVM0pFv4xUKmfqbginLmP5g7I35PVrU9vIp5GD6DpYrJ8cgC9wCWWD2g5JNGmSL2tXaOKBc6r+BvTCqk8oy8hzDPeQVn7nMlwSDyL833PT7RgHHIAvcAlmw6YyiESZ/CdA+U/NNfrEfH2jkm6vnxAWehvVEM/hj3Z30UOHaWcPTGjm3LfhyuumWW3zM8L8xSED+SwnlOt328odatnZ/nkGKgeuyxhA8mwztvi767cjsH/mzrXPFDMcgC9wCWXDTVMykJvJfPEzNHwQABE/xs5Rdz1Hgqh4SAPw8lz5Y/+pm7Pkjunz1Q8pSbhsZNVe+AeOs4BhkwU1jUAYGD/i2Z4hht/ya3ygu/J5eokZzfD2UgcEgB5/cDwA49nlOm5x+8u5cPZPbcSNwDLLALZAFH42KGVQj/jep1vk/s5E+/c4vAQAHX3xSy/b87Jwue523UJun2UO+8OUXAAB3/fQJLdt+ktWN52D4FbYLVm8+PNM/eft/QV1KnnuW/6ncQD9734FPLLg0wzHdnT+8AsD82OmjgGOQBW6BLPgvF0/8QYZ1ZTkAAAAASUVORK5CYII=\" y=\"-107.888638\"/>\n",
       "   </g>\n",
       "   <g id=\"patch_58\">\n",
       "    <path d=\"M 267.142553 179.888638 \n",
       "L 267.142553 108.654596 \n",
       "\" style=\"fill:none;stroke:#000000;stroke-linecap:square;stroke-linejoin:miter;stroke-width:0.8;\"/>\n",
       "   </g>\n",
       "   <g id=\"patch_59\">\n",
       "    <path d=\"M 338.376596 179.888638 \n",
       "L 338.376596 108.654596 \n",
       "\" style=\"fill:none;stroke:#000000;stroke-linecap:square;stroke-linejoin:miter;stroke-width:0.8;\"/>\n",
       "   </g>\n",
       "   <g id=\"patch_60\">\n",
       "    <path d=\"M 267.142553 179.888638 \n",
       "L 338.376596 179.888638 \n",
       "\" style=\"fill:none;stroke:#000000;stroke-linecap:square;stroke-linejoin:miter;stroke-width:0.8;\"/>\n",
       "   </g>\n",
       "   <g id=\"patch_61\">\n",
       "    <path d=\"M 267.142553 108.654596 \n",
       "L 338.376596 108.654596 \n",
       "\" style=\"fill:none;stroke:#000000;stroke-linecap:square;stroke-linejoin:miter;stroke-width:0.8;\"/>\n",
       "   </g>\n",
       "   <g id=\"text_12\">\n",
       "    <!-- bag -->\n",
       "    <g transform=\"translate(291.464574 102.654596)scale(0.12 -0.12)\">\n",
       "     <use xlink:href=\"#DejaVuSans-62\"/>\n",
       "     <use x=\"63.476562\" xlink:href=\"#DejaVuSans-61\"/>\n",
       "     <use x=\"124.755859\" xlink:href=\"#DejaVuSans-67\"/>\n",
       "    </g>\n",
       "   </g>\n",
       "  </g>\n",
       "  <g id=\"axes_13\">\n",
       "   <g id=\"patch_62\">\n",
       "    <path d=\"M 352.623404 179.888638 \n",
       "L 423.857447 179.888638 \n",
       "L 423.857447 108.654596 \n",
       "L 352.623404 108.654596 \n",
       "z\n",
       "\" style=\"fill:#ffffff;\"/>\n",
       "   </g>\n",
       "   <g clip-path=\"url(#p95efadfa7d)\">\n",
       "    <image height=\"72\" id=\"image46a3a92d72\" transform=\"scale(1 -1)translate(0 -72)\" width=\"72\" x=\"352.623404\" xlink:href=\"data:image/png;base64,\n",
       "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\" y=\"-107.888638\"/>\n",
       "   </g>\n",
       "   <g id=\"patch_63\">\n",
       "    <path d=\"M 352.623404 179.888638 \n",
       "L 352.623404 108.654596 \n",
       "\" style=\"fill:none;stroke:#000000;stroke-linecap:square;stroke-linejoin:miter;stroke-width:0.8;\"/>\n",
       "   </g>\n",
       "   <g id=\"patch_64\">\n",
       "    <path d=\"M 423.857447 179.888638 \n",
       "L 423.857447 108.654596 \n",
       "\" style=\"fill:none;stroke:#000000;stroke-linecap:square;stroke-linejoin:miter;stroke-width:0.8;\"/>\n",
       "   </g>\n",
       "   <g id=\"patch_65\">\n",
       "    <path d=\"M 352.623404 179.888638 \n",
       "L 423.857447 179.888638 \n",
       "\" style=\"fill:none;stroke:#000000;stroke-linecap:square;stroke-linejoin:miter;stroke-width:0.8;\"/>\n",
       "   </g>\n",
       "   <g id=\"patch_66\">\n",
       "    <path d=\"M 352.623404 108.654596 \n",
       "L 423.857447 108.654596 \n",
       "\" style=\"fill:none;stroke:#000000;stroke-linecap:square;stroke-linejoin:miter;stroke-width:0.8;\"/>\n",
       "   </g>\n",
       "   <g id=\"text_13\">\n",
       "    <!-- ankle boot -->\n",
       "    <g transform=\"translate(356.517301 102.654596)scale(0.12 -0.12)\">\n",
       "     <use xlink:href=\"#DejaVuSans-61\"/>\n",
       "     <use x=\"61.279297\" xlink:href=\"#DejaVuSans-6e\"/>\n",
       "     <use x=\"124.658203\" xlink:href=\"#DejaVuSans-6b\"/>\n",
       "     <use x=\"182.568359\" xlink:href=\"#DejaVuSans-6c\"/>\n",
       "     <use x=\"210.351562\" xlink:href=\"#DejaVuSans-65\"/>\n",
       "     <use x=\"271.875\" xlink:href=\"#DejaVuSans-20\"/>\n",
       "     <use x=\"303.662109\" xlink:href=\"#DejaVuSans-62\"/>\n",
       "     <use x=\"367.138672\" xlink:href=\"#DejaVuSans-6f\"/>\n",
       "     <use x=\"428.320312\" xlink:href=\"#DejaVuSans-6f\"/>\n",
       "     <use x=\"489.501953\" xlink:href=\"#DejaVuSans-74\"/>\n",
       "    </g>\n",
       "   </g>\n",
       "  </g>\n",
       "  <g id=\"axes_14\">\n",
       "   <g id=\"patch_67\">\n",
       "    <path d=\"M 438.104255 179.888638 \n",
       "L 509.338298 179.888638 \n",
       "L 509.338298 108.654596 \n",
       "L 438.104255 108.654596 \n",
       "z\n",
       "\" style=\"fill:#ffffff;\"/>\n",
       "   </g>\n",
       "   <g clip-path=\"url(#p327dfe0c78)\">\n",
       "    <image height=\"72\" id=\"imagec8cafe8a61\" transform=\"scale(1 -1)translate(0 -72)\" width=\"72\" x=\"438.104255\" xlink:href=\"data:image/png;base64,\n",
       "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\" y=\"-107.888638\"/>\n",
       "   </g>\n",
       "   <g id=\"patch_68\">\n",
       "    <path d=\"M 438.104255 179.888638 \n",
       "L 438.104255 108.654596 \n",
       "\" style=\"fill:none;stroke:#000000;stroke-linecap:square;stroke-linejoin:miter;stroke-width:0.8;\"/>\n",
       "   </g>\n",
       "   <g id=\"patch_69\">\n",
       "    <path d=\"M 509.338298 179.888638 \n",
       "L 509.338298 108.654596 \n",
       "\" style=\"fill:none;stroke:#000000;stroke-linecap:square;stroke-linejoin:miter;stroke-width:0.8;\"/>\n",
       "   </g>\n",
       "   <g id=\"patch_70\">\n",
       "    <path d=\"M 438.104255 179.888638 \n",
       "L 509.338298 179.888638 \n",
       "\" style=\"fill:none;stroke:#000000;stroke-linecap:square;stroke-linejoin:miter;stroke-width:0.8;\"/>\n",
       "   </g>\n",
       "   <g id=\"patch_71\">\n",
       "    <path d=\"M 438.104255 108.654596 \n",
       "L 509.338298 108.654596 \n",
       "\" style=\"fill:none;stroke:#000000;stroke-linecap:square;stroke-linejoin:miter;stroke-width:0.8;\"/>\n",
       "   </g>\n",
       "   <g id=\"text_14\">\n",
       "    <!-- t-shirt -->\n",
       "    <g transform=\"translate(455.790652 102.654596)scale(0.12 -0.12)\">\n",
       "     <use xlink:href=\"#DejaVuSans-74\"/>\n",
       "     <use x=\"39.208984\" xlink:href=\"#DejaVuSans-2d\"/>\n",
       "     <use x=\"75.292969\" xlink:href=\"#DejaVuSans-73\"/>\n",
       "     <use x=\"127.392578\" xlink:href=\"#DejaVuSans-68\"/>\n",
       "     <use x=\"190.771484\" xlink:href=\"#DejaVuSans-69\"/>\n",
       "     <use x=\"218.554688\" xlink:href=\"#DejaVuSans-72\"/>\n",
       "     <use x=\"259.667969\" xlink:href=\"#DejaVuSans-74\"/>\n",
       "    </g>\n",
       "   </g>\n",
       "  </g>\n",
       "  <g id=\"axes_15\">\n",
       "   <g id=\"patch_72\">\n",
       "    <path d=\"M 523.585106 179.888638 \n",
       "L 594.819149 179.888638 \n",
       "L 594.819149 108.654596 \n",
       "L 523.585106 108.654596 \n",
       "z\n",
       "\" style=\"fill:#ffffff;\"/>\n",
       "   </g>\n",
       "   <g clip-path=\"url(#p0880fa6362)\">\n",
       "    <image height=\"72\" id=\"image0ce3a74782\" transform=\"scale(1 -1)translate(0 -72)\" width=\"72\" x=\"523.585106\" xlink:href=\"data:image/png;base64,\n",
       "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\" y=\"-107.888638\"/>\n",
       "   </g>\n",
       "   <g id=\"patch_73\">\n",
       "    <path d=\"M 523.585106 179.888638 \n",
       "L 523.585106 108.654596 \n",
       "\" style=\"fill:none;stroke:#000000;stroke-linecap:square;stroke-linejoin:miter;stroke-width:0.8;\"/>\n",
       "   </g>\n",
       "   <g id=\"patch_74\">\n",
       "    <path d=\"M 594.819149 179.888638 \n",
       "L 594.819149 108.654596 \n",
       "\" style=\"fill:none;stroke:#000000;stroke-linecap:square;stroke-linejoin:miter;stroke-width:0.8;\"/>\n",
       "   </g>\n",
       "   <g id=\"patch_75\">\n",
       "    <path d=\"M 523.585106 179.888638 \n",
       "L 594.819149 179.888638 \n",
       "\" style=\"fill:none;stroke:#000000;stroke-linecap:square;stroke-linejoin:miter;stroke-width:0.8;\"/>\n",
       "   </g>\n",
       "   <g id=\"patch_76\">\n",
       "    <path d=\"M 523.585106 108.654596 \n",
       "L 594.819149 108.654596 \n",
       "\" style=\"fill:none;stroke:#000000;stroke-linecap:square;stroke-linejoin:miter;stroke-width:0.8;\"/>\n",
       "   </g>\n",
       "   <g id=\"text_15\">\n",
       "    <!-- pullover -->\n",
       "    <g transform=\"translate(534.875878 102.654596)scale(0.12 -0.12)\">\n",
       "     <use xlink:href=\"#DejaVuSans-70\"/>\n",
       "     <use x=\"63.476562\" xlink:href=\"#DejaVuSans-75\"/>\n",
       "     <use x=\"126.855469\" xlink:href=\"#DejaVuSans-6c\"/>\n",
       "     <use x=\"154.638672\" xlink:href=\"#DejaVuSans-6c\"/>\n",
       "     <use x=\"182.421875\" xlink:href=\"#DejaVuSans-6f\"/>\n",
       "     <use x=\"243.603516\" xlink:href=\"#DejaVuSans-76\"/>\n",
       "     <use x=\"302.783203\" xlink:href=\"#DejaVuSans-65\"/>\n",
       "     <use x=\"364.306641\" xlink:href=\"#DejaVuSans-72\"/>\n",
       "    </g>\n",
       "   </g>\n",
       "  </g>\n",
       "  <g id=\"axes_16\">\n",
       "   <g id=\"patch_77\">\n",
       "    <path d=\"M 609.065957 179.888638 \n",
       "L 680.3 179.888638 \n",
       "L 680.3 108.654596 \n",
       "L 609.065957 108.654596 \n",
       "z\n",
       "\" style=\"fill:#ffffff;\"/>\n",
       "   </g>\n",
       "   <g clip-path=\"url(#p5fa9ff5141)\">\n",
       "    <image height=\"72\" id=\"image76016c4084\" transform=\"scale(1 -1)translate(0 -72)\" width=\"72\" x=\"609.065957\" xlink:href=\"data:image/png;base64,\n",
       "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\" y=\"-107.888638\"/>\n",
       "   </g>\n",
       "   <g id=\"patch_78\">\n",
       "    <path d=\"M 609.065957 179.888638 \n",
       "L 609.065957 108.654596 \n",
       "\" style=\"fill:none;stroke:#000000;stroke-linecap:square;stroke-linejoin:miter;stroke-width:0.8;\"/>\n",
       "   </g>\n",
       "   <g id=\"patch_79\">\n",
       "    <path d=\"M 680.3 179.888638 \n",
       "L 680.3 108.654596 \n",
       "\" style=\"fill:none;stroke:#000000;stroke-linecap:square;stroke-linejoin:miter;stroke-width:0.8;\"/>\n",
       "   </g>\n",
       "   <g id=\"patch_80\">\n",
       "    <path d=\"M 609.065957 179.888638 \n",
       "L 680.3 179.888638 \n",
       "\" style=\"fill:none;stroke:#000000;stroke-linecap:square;stroke-linejoin:miter;stroke-width:0.8;\"/>\n",
       "   </g>\n",
       "   <g id=\"patch_81\">\n",
       "    <path d=\"M 609.065957 108.654596 \n",
       "L 680.3 108.654596 \n",
       "\" style=\"fill:none;stroke:#000000;stroke-linecap:square;stroke-linejoin:miter;stroke-width:0.8;\"/>\n",
       "   </g>\n",
       "   <g id=\"text_16\">\n",
       "    <!-- pullover -->\n",
       "    <g transform=\"translate(620.356729 102.654596)scale(0.12 -0.12)\">\n",
       "     <use xlink:href=\"#DejaVuSans-70\"/>\n",
       "     <use x=\"63.476562\" xlink:href=\"#DejaVuSans-75\"/>\n",
       "     <use x=\"126.855469\" xlink:href=\"#DejaVuSans-6c\"/>\n",
       "     <use x=\"154.638672\" xlink:href=\"#DejaVuSans-6c\"/>\n",
       "     <use x=\"182.421875\" xlink:href=\"#DejaVuSans-6f\"/>\n",
       "     <use x=\"243.603516\" xlink:href=\"#DejaVuSans-76\"/>\n",
       "     <use x=\"302.783203\" xlink:href=\"#DejaVuSans-65\"/>\n",
       "     <use x=\"364.306641\" xlink:href=\"#DejaVuSans-72\"/>\n",
       "    </g>\n",
       "   </g>\n",
       "  </g>\n",
       "  <g id=\"axes_17\">\n",
       "   <g id=\"patch_82\">\n",
       "    <path d=\"M 10.7 266.225109 \n",
       "L 81.934043 266.225109 \n",
       "L 81.934043 194.991066 \n",
       "L 10.7 194.991066 \n",
       "z\n",
       "\" style=\"fill:#ffffff;\"/>\n",
       "   </g>\n",
       "   <g clip-path=\"url(#pbf2f0a3a58)\">\n",
       "    <image height=\"72\" id=\"image9a54684deb\" transform=\"scale(1 -1)translate(0 -72)\" width=\"72\" x=\"10.7\" xlink:href=\"data:image/png;base64,\n",
       "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\" y=\"-194.225109\"/>\n",
       "   </g>\n",
       "   <g id=\"patch_83\">\n",
       "    <path d=\"M 10.7 266.225109 \n",
       "L 10.7 194.991066 \n",
       "\" style=\"fill:none;stroke:#000000;stroke-linecap:square;stroke-linejoin:miter;stroke-width:0.8;\"/>\n",
       "   </g>\n",
       "   <g id=\"patch_84\">\n",
       "    <path d=\"M 81.934043 266.225109 \n",
       "L 81.934043 194.991066 \n",
       "\" style=\"fill:none;stroke:#000000;stroke-linecap:square;stroke-linejoin:miter;stroke-width:0.8;\"/>\n",
       "   </g>\n",
       "   <g id=\"patch_85\">\n",
       "    <path d=\"M 10.7 266.225109 \n",
       "L 81.934043 266.225109 \n",
       "\" style=\"fill:none;stroke:#000000;stroke-linecap:square;stroke-linejoin:miter;stroke-width:0.8;\"/>\n",
       "   </g>\n",
       "   <g id=\"patch_86\">\n",
       "    <path d=\"M 10.7 194.991066 \n",
       "L 81.934043 194.991066 \n",
       "\" style=\"fill:none;stroke:#000000;stroke-linecap:square;stroke-linejoin:miter;stroke-width:0.8;\"/>\n",
       "   </g>\n",
       "   <g id=\"text_17\">\n",
       "    <!-- ankle boot -->\n",
       "    <g transform=\"translate(14.593896 188.991066)scale(0.12 -0.12)\">\n",
       "     <use xlink:href=\"#DejaVuSans-61\"/>\n",
       "     <use x=\"61.279297\" xlink:href=\"#DejaVuSans-6e\"/>\n",
       "     <use x=\"124.658203\" xlink:href=\"#DejaVuSans-6b\"/>\n",
       "     <use x=\"182.568359\" xlink:href=\"#DejaVuSans-6c\"/>\n",
       "     <use x=\"210.351562\" xlink:href=\"#DejaVuSans-65\"/>\n",
       "     <use x=\"271.875\" xlink:href=\"#DejaVuSans-20\"/>\n",
       "     <use x=\"303.662109\" xlink:href=\"#DejaVuSans-62\"/>\n",
       "     <use x=\"367.138672\" xlink:href=\"#DejaVuSans-6f\"/>\n",
       "     <use x=\"428.320312\" xlink:href=\"#DejaVuSans-6f\"/>\n",
       "     <use x=\"489.501953\" xlink:href=\"#DejaVuSans-74\"/>\n",
       "    </g>\n",
       "   </g>\n",
       "  </g>\n",
       "  <g id=\"axes_18\">\n",
       "   <g id=\"patch_87\">\n",
       "    <path d=\"M 96.180851 266.225109 \n",
       "L 167.414894 266.225109 \n",
       "L 167.414894 194.991066 \n",
       "L 96.180851 194.991066 \n",
       "z\n",
       "\" style=\"fill:#ffffff;\"/>\n",
       "   </g>\n",
       "   <g clip-path=\"url(#p247de45ef4)\">\n",
       "    <image height=\"72\" id=\"image47820d20e4\" transform=\"scale(1 -1)translate(0 -72)\" width=\"72\" x=\"96.180851\" xlink:href=\"data:image/png;base64,\n",
       "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\" y=\"-194.225109\"/>\n",
       "   </g>\n",
       "   <g id=\"patch_88\">\n",
       "    <path d=\"M 96.180851 266.225109 \n",
       "L 96.180851 194.991066 \n",
       "\" style=\"fill:none;stroke:#000000;stroke-linecap:square;stroke-linejoin:miter;stroke-width:0.8;\"/>\n",
       "   </g>\n",
       "   <g id=\"patch_89\">\n",
       "    <path d=\"M 167.414894 266.225109 \n",
       "L 167.414894 194.991066 \n",
       "\" style=\"fill:none;stroke:#000000;stroke-linecap:square;stroke-linejoin:miter;stroke-width:0.8;\"/>\n",
       "   </g>\n",
       "   <g id=\"patch_90\">\n",
       "    <path d=\"M 96.180851 266.225109 \n",
       "L 167.414894 266.225109 \n",
       "\" style=\"fill:none;stroke:#000000;stroke-linecap:square;stroke-linejoin:miter;stroke-width:0.8;\"/>\n",
       "   </g>\n",
       "   <g id=\"patch_91\">\n",
       "    <path d=\"M 96.180851 194.991066 \n",
       "L 167.414894 194.991066 \n",
       "\" style=\"fill:none;stroke:#000000;stroke-linecap:square;stroke-linejoin:miter;stroke-width:0.8;\"/>\n",
       "   </g>\n",
       "   <g id=\"text_18\">\n",
       "    <!-- dress -->\n",
       "    <g transform=\"translate(115.580997 188.991066)scale(0.12 -0.12)\">\n",
       "     <use xlink:href=\"#DejaVuSans-64\"/>\n",
       "     <use x=\"63.476562\" xlink:href=\"#DejaVuSans-72\"/>\n",
       "     <use x=\"104.558594\" xlink:href=\"#DejaVuSans-65\"/>\n",
       "     <use x=\"166.082031\" xlink:href=\"#DejaVuSans-73\"/>\n",
       "     <use x=\"218.181641\" xlink:href=\"#DejaVuSans-73\"/>\n",
       "    </g>\n",
       "   </g>\n",
       "  </g>\n",
       "  <g id=\"axes_19\">\n",
       "   <g id=\"patch_92\">\n",
       "    <path d=\"M 181.661702 266.225109 \n",
       "L 252.895745 266.225109 \n",
       "L 252.895745 194.991066 \n",
       "L 181.661702 194.991066 \n",
       "z\n",
       "\" style=\"fill:#ffffff;\"/>\n",
       "   </g>\n",
       "   <g clip-path=\"url(#pfa13a3820d)\">\n",
       "    <image height=\"72\" id=\"image702f8c88ae\" transform=\"scale(1 -1)translate(0 -72)\" width=\"72\" x=\"181.661702\" xlink:href=\"data:image/png;base64,\n",
       "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\" y=\"-194.225109\"/>\n",
       "   </g>\n",
       "   <g id=\"patch_93\">\n",
       "    <path d=\"M 181.661702 266.225109 \n",
       "L 181.661702 194.991066 \n",
       "\" style=\"fill:none;stroke:#000000;stroke-linecap:square;stroke-linejoin:miter;stroke-width:0.8;\"/>\n",
       "   </g>\n",
       "   <g id=\"patch_94\">\n",
       "    <path d=\"M 252.895745 266.225109 \n",
       "L 252.895745 194.991066 \n",
       "\" style=\"fill:none;stroke:#000000;stroke-linecap:square;stroke-linejoin:miter;stroke-width:0.8;\"/>\n",
       "   </g>\n",
       "   <g id=\"patch_95\">\n",
       "    <path d=\"M 181.661702 266.225109 \n",
       "L 252.895745 266.225109 \n",
       "\" style=\"fill:none;stroke:#000000;stroke-linecap:square;stroke-linejoin:miter;stroke-width:0.8;\"/>\n",
       "   </g>\n",
       "   <g id=\"patch_96\">\n",
       "    <path d=\"M 181.661702 194.991066 \n",
       "L 252.895745 194.991066 \n",
       "\" style=\"fill:none;stroke:#000000;stroke-linecap:square;stroke-linejoin:miter;stroke-width:0.8;\"/>\n",
       "   </g>\n",
       "   <g id=\"text_19\">\n",
       "    <!-- dress -->\n",
       "    <g transform=\"translate(201.061848 188.991066)scale(0.12 -0.12)\">\n",
       "     <use xlink:href=\"#DejaVuSans-64\"/>\n",
       "     <use x=\"63.476562\" xlink:href=\"#DejaVuSans-72\"/>\n",
       "     <use x=\"104.558594\" xlink:href=\"#DejaVuSans-65\"/>\n",
       "     <use x=\"166.082031\" xlink:href=\"#DejaVuSans-73\"/>\n",
       "     <use x=\"218.181641\" xlink:href=\"#DejaVuSans-73\"/>\n",
       "    </g>\n",
       "   </g>\n",
       "  </g>\n",
       "  <g id=\"axes_20\">\n",
       "   <g id=\"patch_97\">\n",
       "    <path d=\"M 267.142553 266.225109 \n",
       "L 338.376596 266.225109 \n",
       "L 338.376596 194.991066 \n",
       "L 267.142553 194.991066 \n",
       "z\n",
       "\" style=\"fill:#ffffff;\"/>\n",
       "   </g>\n",
       "   <g clip-path=\"url(#p3b22eaefd1)\">\n",
       "    <image height=\"72\" id=\"image69296de491\" transform=\"scale(1 -1)translate(0 -72)\" width=\"72\" x=\"267.142553\" xlink:href=\"data:image/png;base64,\n",
       "iVBORw0KGgoAAAANSUhEUgAAAEgAAABICAYAAABV7bNHAAAABHNCSVQICAgIfAhkiAAABTVJREFUeJztnEuIHFUUhv+q7urnPDpDz2TynomPKGI2EpQoGHBWEnRhMIwQEB8L0YVrcaEiLrJwIRpBBTdiBEUQdKfBhVEkiEoCPYmTIUlnZnqmM/2e6tdUtYvTfU6NCHczdcfI/TZ9OF3ddTj3P7fuo6qsGetED9tE+/EjAIDDb/3Bvt9OP8B2bbZGx+VG2Tf92i+aoiNsrWe7DTEJUhDVdaLuDJXOy2e+ZN/buXsAAO/tvsC+meL9bC/XEgCAd576gn1vtmcBAOeeP82+Z/c/EkLEhFGQAm0KihfWAQCtnsO+yq0hAMAHlX3sszu+/KhCCnrjz+Ps8u9tAAB+bu0OLdYgRkEKTIIUaCsxq1AEAGQi6+Jr0Om/W5GO2fKkxHopDwCQSnTY57ZiAIBPlx4O/Pvylsc7wChIgTYF9dwmACBju+yzu/SZr2TYN5GSTjw1RseWi8Ps27d3DQCw1kyxb2Trw5UYQ/zv/wUmQQq0lZjvUrl4gTbp9c2oLR1z1O2y7ZaojKJrEmZnVwQAsPpXln0juLr1AfcxClKgTUEDWr50wlZfOOm4XMYj5Q22nWIaAGB3LfZlUzRMcK9PhBkmYxSkwCRIgb4Ss6hMfm9OsWvQSddacfaNtmWk3R2jkXRiWcLM5ScBALtueGFFugmjIAUmQQr0lViP9gYu1vewa3AVqxdkKgG7yebQTlr7wbxMRay5JABg+EqJfYEVpC3HKEiB9nHQsitTS6dG7ROfrrPPTyXYnhgmBTVWZdunS0Mj2FXpzI2CthGTIAXaSiw6tR8A0OnJtCFZpI57cqwsB/pDbMYjNO1otWTz14/2f++FWViCUZACfcsdGVJGMlphX7tEyrhe2sG+PRkJKePQ6uFyVtpxJE+q2ri5GF6wAYyCFJgEKdBWYnaNVhRLrST7Bt2170s7eQkJae4WrflEAs2YKLbCC/JfMApSoG/bp04j3wcn5JJ+PkUKcRxZRUwsVNmOWP2tncAV3XY7/3SFilGQApMgBfomqxtURkORNrti6zQOKq/LBBVtKcFmmyapaW/bbqM0ClJhEqRAW4l5ZSqdS1W5M8yL9YOYl7GRe3gv25ZF5WjLthk2RulYXS1rFKRA+4ri5VXZEU2laSydKkgnXD0oO692f306XpNRjxenNjUK+o9gEqRAe4l18mm2/f7dv8PX5PteRGy3Sh3yxLqUmK15TGQUpEC7gnb+KvbKcVq6iF2UvfnmuLSZ7dD+u+9Ixx2ryMRWB0ZBCkyCFGgvsR3n82w3ZmmXNb0k3xeOSrnZBZrEOg2Z4EYLtOivq9CMghRoV1Bwu8bz6K6N+gFRzdABWVFsVGhFMbZUk98sFsIOcRNGQQpMghRoL7HIoTvZ7nbo9CuPyv2GUx/KSLv7AnXOK8fG2Ze9PA8AsKISem8jvC7bKEiBSZAC7SXm9UsEACJRepBu+IKEkcyvsT3+GV3l8k/I8xvZj2gNKcyyCmIUpEC7guonH2L76yPvAgBefVoer8x9Iq+mmPyB2m/6rHTi9n2HAAD+pblQ4+TzaTnLbYxJkAL9twE/JuXyXO4UAGCkJw/EvX70W7bfzx6j75+UcrIC4ygdGAUp0K4gqyNt4p+lLSDLkSWQn6p3sf3MHfTSk+8hjyr4CzfCDnETRkEKTIIUaC+x5KLs6zguddhXPpZXU1z9Mcb2SyfPAQC+OfEK+9JfBVb9NWAUpMDS/ZK36MEpthdO0Z0eVmBaNXUmx3b58zEAQOHmGPvufrH/tipLHmkYPIsWBkZBCkyCFPwNq2tW/8eey/sAAAAASUVORK5CYII=\" y=\"-194.225109\"/>\n",
       "   </g>\n",
       "   <g id=\"patch_98\">\n",
       "    <path d=\"M 267.142553 266.225109 \n",
       "L 267.142553 194.991066 \n",
       "\" style=\"fill:none;stroke:#000000;stroke-linecap:square;stroke-linejoin:miter;stroke-width:0.8;\"/>\n",
       "   </g>\n",
       "   <g id=\"patch_99\">\n",
       "    <path d=\"M 338.376596 266.225109 \n",
       "L 338.376596 194.991066 \n",
       "\" style=\"fill:none;stroke:#000000;stroke-linecap:square;stroke-linejoin:miter;stroke-width:0.8;\"/>\n",
       "   </g>\n",
       "   <g id=\"patch_100\">\n",
       "    <path d=\"M 267.142553 266.225109 \n",
       "L 338.376596 266.225109 \n",
       "\" style=\"fill:none;stroke:#000000;stroke-linecap:square;stroke-linejoin:miter;stroke-width:0.8;\"/>\n",
       "   </g>\n",
       "   <g id=\"patch_101\">\n",
       "    <path d=\"M 267.142553 194.991066 \n",
       "L 338.376596 194.991066 \n",
       "\" style=\"fill:none;stroke:#000000;stroke-linecap:square;stroke-linejoin:miter;stroke-width:0.8;\"/>\n",
       "   </g>\n",
       "   <g id=\"text_20\">\n",
       "    <!-- dress -->\n",
       "    <g transform=\"translate(286.542699 188.991066)scale(0.12 -0.12)\">\n",
       "     <use xlink:href=\"#DejaVuSans-64\"/>\n",
       "     <use x=\"63.476562\" xlink:href=\"#DejaVuSans-72\"/>\n",
       "     <use x=\"104.558594\" xlink:href=\"#DejaVuSans-65\"/>\n",
       "     <use x=\"166.082031\" xlink:href=\"#DejaVuSans-73\"/>\n",
       "     <use x=\"218.181641\" xlink:href=\"#DejaVuSans-73\"/>\n",
       "    </g>\n",
       "   </g>\n",
       "  </g>\n",
       "  <g id=\"axes_21\">\n",
       "   <g id=\"patch_102\">\n",
       "    <path d=\"M 352.623404 266.225109 \n",
       "L 423.857447 266.225109 \n",
       "L 423.857447 194.991066 \n",
       "L 352.623404 194.991066 \n",
       "z\n",
       "\" style=\"fill:#ffffff;\"/>\n",
       "   </g>\n",
       "   <g clip-path=\"url(#p2d78d53137)\">\n",
       "    <image height=\"72\" id=\"imageab60c1777d\" transform=\"scale(1 -1)translate(0 -72)\" width=\"72\" x=\"352.623404\" xlink:href=\"data:image/png;base64,\n",
       "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\" y=\"-194.225109\"/>\n",
       "   </g>\n",
       "   <g id=\"patch_103\">\n",
       "    <path d=\"M 352.623404 266.225109 \n",
       "L 352.623404 194.991066 \n",
       "\" style=\"fill:none;stroke:#000000;stroke-linecap:square;stroke-linejoin:miter;stroke-width:0.8;\"/>\n",
       "   </g>\n",
       "   <g id=\"patch_104\">\n",
       "    <path d=\"M 423.857447 266.225109 \n",
       "L 423.857447 194.991066 \n",
       "\" style=\"fill:none;stroke:#000000;stroke-linecap:square;stroke-linejoin:miter;stroke-width:0.8;\"/>\n",
       "   </g>\n",
       "   <g id=\"patch_105\">\n",
       "    <path d=\"M 352.623404 266.225109 \n",
       "L 423.857447 266.225109 \n",
       "\" style=\"fill:none;stroke:#000000;stroke-linecap:square;stroke-linejoin:miter;stroke-width:0.8;\"/>\n",
       "   </g>\n",
       "   <g id=\"patch_106\">\n",
       "    <path d=\"M 352.623404 194.991066 \n",
       "L 423.857447 194.991066 \n",
       "\" style=\"fill:none;stroke:#000000;stroke-linecap:square;stroke-linejoin:miter;stroke-width:0.8;\"/>\n",
       "   </g>\n",
       "   <g id=\"text_21\">\n",
       "    <!-- bag -->\n",
       "    <g transform=\"translate(376.945426 188.991066)scale(0.12 -0.12)\">\n",
       "     <use xlink:href=\"#DejaVuSans-62\"/>\n",
       "     <use x=\"63.476562\" xlink:href=\"#DejaVuSans-61\"/>\n",
       "     <use x=\"124.755859\" xlink:href=\"#DejaVuSans-67\"/>\n",
       "    </g>\n",
       "   </g>\n",
       "  </g>\n",
       "  <g id=\"axes_22\">\n",
       "   <g id=\"patch_107\">\n",
       "    <path d=\"M 438.104255 266.225109 \n",
       "L 509.338298 266.225109 \n",
       "L 509.338298 194.991066 \n",
       "L 438.104255 194.991066 \n",
       "z\n",
       "\" style=\"fill:#ffffff;\"/>\n",
       "   </g>\n",
       "   <g clip-path=\"url(#pc7fed6a046)\">\n",
       "    <image height=\"72\" id=\"image79311dab37\" transform=\"scale(1 -1)translate(0 -72)\" width=\"72\" x=\"438.104255\" xlink:href=\"data:image/png;base64,\n",
       "iVBORw0KGgoAAAANSUhEUgAAAEgAAABICAYAAABV7bNHAAAABHNCSVQICAgIfAhkiAAABQpJREFUeJztms9vG1UQx7/r3cSxvW3cOGlSJykktDRCoeGnUKEtEqqglaBSEEKCQ/8D/gduHDghbpwQEmcOKDekgkppgf5QQVBKQoFQ0sZOYseJHW/itTmM981Ga3sqQUoR87n4efa9t7vfnZk3+2zrhPVaA0pbYv/2BdzvqEACKpCACiSgAgmoQAIqkIAKJKACCahAAiqQgAokoAIJqEACKpCACiSgAgk44S92uhcAUD52yNjWRuzIoHI2OlE9zu2YF7V1IugfsftW2+OtzhertZ7HrtKn3xMa0+ybnuNBiYUyAKBx+Qfu1/6yFUAFEnHm336Wv0wVAQDVWQ4ry28eK1vG1nBon78Rjb5tBGPb9a0356m59dYT2C1+T2ja3EzFmGo1mjzm+NH+AGI22TPJDWOL2xRans9ZZthdAQB8Pvc4j219ZUqAk/6Zn1786xQAoBF6EkGSrofSue2RN/mhRBn2lnixEbH58eaYUKIEgnn4OTWc8Jj2nurle3lM8/imwx7XCLfjdI8Fn8fwzXC/3F4XAFAvdRmbepCACiTgpG5vmi/2BiUuP8F+PvTZEgCgOtZnbF6ajq8Ps752lV11y23WL23qkk6Ea57uVZrHCs3TcNABXkjCY/weisFaqvO5vRUKQXeF51EPEnC6bxXNl8BLNvr5Ma2NDgIASuMhVZtPuTLKj8mq8XGnTLr3TeWNrS9By/LRzC/G9kTyNwDAgL1mbEkr6napGC8k/bFuAMD1LT6e93e1vLmAaoOSbq6229huVIYAAOcXx/m6m+cpfDFkbOpBAiqQgBX++4vlUGjFxvZzjyK5/+L0AWOqZCmc4svcbXWSfX7veZonkedwKR4gNy8d5OLIGaC3SNvhEOpNcbUbhGW6m23jKVo0iltJY8vGOU0ELHhp0765ngEA7EuUIv0KmwnTPjlAL6nvnH3Z2NSDBLYtmo1ac5mfvRnp2P9BPmILEz9zxLQr06sAgEKVK1Jrjk4VTua+T8/nlYe/NzavzmMu5UcBACVvW/kNgD0JAF7aReOfjHcb25JfNu0ft2h9r4T2SILEfak8ZmzzHnmas86lu3qQgAokYO3EfxSDncnl048Y28okfdZ6Qzt4f5Cbd3E0YG2KS+npR69G5j6UvAMAeNWdNbYvq1SrlUMhNLN02LTn1/bQ2HTO2Pb1UBq4Uhg1tnGXVp2Zb6eMTT1IQAUS2JEQa0Xs8AQA4PfT/NK7kaVwi+0OvTfkOEziK/T8Jl7kcDqeofZ7F04Ym3uDVi/3T66naj28Wpaz3A7wJqi2enCIi7nH9twCAFw/meHr7nxbSsfNg3+S+nc/AQDGSlyl514YBgAsH+fq2g7VSaemLwLY/kL58YenAADdXL7A66MgGLjGC0B4l7Kaodt8/vXLxhYk4t79XKXfrtLi4ue55lMPElCBBO5Zku5EMfSa0vXmomnnCrTPM/AJv1DmnqIQzJ7jsOz59Ju7Os/iW/wT19EzFG4zV7heOjI5BwBYfq5gbOpBAvcsSXci/dEF066sP2PaD+SoqvaTnHwPPr1AjXe5NGj9c2GUwfe/Mu2zLnnT4DGurq8ujAAA9kM96K5RgQTuiyS908SStPtYr1Qix0YuuqZ97teHAABjb1zjsTt8bf95/hce9HdQDxJQgQRUIAEVSEAFElCBBFQgARVIQAUSUIEEVCABFUhABRJQgQRUIAEVSEAFElCBBFQgARVI4C+swVn8uyRBVwAAAABJRU5ErkJggg==\" y=\"-194.225109\"/>\n",
       "   </g>\n",
       "   <g id=\"patch_108\">\n",
       "    <path d=\"M 438.104255 266.225109 \n",
       "L 438.104255 194.991066 \n",
       "\" style=\"fill:none;stroke:#000000;stroke-linecap:square;stroke-linejoin:miter;stroke-width:0.8;\"/>\n",
       "   </g>\n",
       "   <g id=\"patch_109\">\n",
       "    <path d=\"M 509.338298 266.225109 \n",
       "L 509.338298 194.991066 \n",
       "\" style=\"fill:none;stroke:#000000;stroke-linecap:square;stroke-linejoin:miter;stroke-width:0.8;\"/>\n",
       "   </g>\n",
       "   <g id=\"patch_110\">\n",
       "    <path d=\"M 438.104255 266.225109 \n",
       "L 509.338298 266.225109 \n",
       "\" style=\"fill:none;stroke:#000000;stroke-linecap:square;stroke-linejoin:miter;stroke-width:0.8;\"/>\n",
       "   </g>\n",
       "   <g id=\"patch_111\">\n",
       "    <path d=\"M 438.104255 194.991066 \n",
       "L 509.338298 194.991066 \n",
       "\" style=\"fill:none;stroke:#000000;stroke-linecap:square;stroke-linejoin:miter;stroke-width:0.8;\"/>\n",
       "   </g>\n",
       "   <g id=\"text_22\">\n",
       "    <!-- sneaker -->\n",
       "    <g transform=\"translate(449.794402 188.991066)scale(0.12 -0.12)\">\n",
       "     <use xlink:href=\"#DejaVuSans-73\"/>\n",
       "     <use x=\"52.099609\" xlink:href=\"#DejaVuSans-6e\"/>\n",
       "     <use x=\"115.478516\" xlink:href=\"#DejaVuSans-65\"/>\n",
       "     <use x=\"177.001953\" xlink:href=\"#DejaVuSans-61\"/>\n",
       "     <use x=\"238.28125\" xlink:href=\"#DejaVuSans-6b\"/>\n",
       "     <use x=\"296.144531\" xlink:href=\"#DejaVuSans-65\"/>\n",
       "     <use x=\"357.667969\" xlink:href=\"#DejaVuSans-72\"/>\n",
       "    </g>\n",
       "   </g>\n",
       "  </g>\n",
       "  <g id=\"axes_23\">\n",
       "   <g id=\"patch_112\">\n",
       "    <path d=\"M 523.585106 266.225109 \n",
       "L 594.819149 266.225109 \n",
       "L 594.819149 194.991066 \n",
       "L 523.585106 194.991066 \n",
       "z\n",
       "\" style=\"fill:#ffffff;\"/>\n",
       "   </g>\n",
       "   <g clip-path=\"url(#p49432dbe31)\">\n",
       "    <image height=\"72\" id=\"imageb16af40b64\" transform=\"scale(1 -1)translate(0 -72)\" width=\"72\" x=\"523.585106\" xlink:href=\"data:image/png;base64,\n",
       "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\" y=\"-194.225109\"/>\n",
       "   </g>\n",
       "   <g id=\"patch_113\">\n",
       "    <path d=\"M 523.585106 266.225109 \n",
       "L 523.585106 194.991066 \n",
       "\" style=\"fill:none;stroke:#000000;stroke-linecap:square;stroke-linejoin:miter;stroke-width:0.8;\"/>\n",
       "   </g>\n",
       "   <g id=\"patch_114\">\n",
       "    <path d=\"M 594.819149 266.225109 \n",
       "L 594.819149 194.991066 \n",
       "\" style=\"fill:none;stroke:#000000;stroke-linecap:square;stroke-linejoin:miter;stroke-width:0.8;\"/>\n",
       "   </g>\n",
       "   <g id=\"patch_115\">\n",
       "    <path d=\"M 523.585106 266.225109 \n",
       "L 594.819149 266.225109 \n",
       "\" style=\"fill:none;stroke:#000000;stroke-linecap:square;stroke-linejoin:miter;stroke-width:0.8;\"/>\n",
       "   </g>\n",
       "   <g id=\"patch_116\">\n",
       "    <path d=\"M 523.585106 194.991066 \n",
       "L 594.819149 194.991066 \n",
       "\" style=\"fill:none;stroke:#000000;stroke-linecap:square;stroke-linejoin:miter;stroke-width:0.8;\"/>\n",
       "   </g>\n",
       "   <g id=\"text_23\">\n",
       "    <!-- coat -->\n",
       "    <g transform=\"translate(546.202753 188.991066)scale(0.12 -0.12)\">\n",
       "     <use xlink:href=\"#DejaVuSans-63\"/>\n",
       "     <use x=\"54.980469\" xlink:href=\"#DejaVuSans-6f\"/>\n",
       "     <use x=\"116.162109\" xlink:href=\"#DejaVuSans-61\"/>\n",
       "     <use x=\"177.441406\" xlink:href=\"#DejaVuSans-74\"/>\n",
       "    </g>\n",
       "   </g>\n",
       "  </g>\n",
       "  <g id=\"axes_24\">\n",
       "   <g id=\"patch_117\">\n",
       "    <path d=\"M 609.065957 266.225109 \n",
       "L 680.3 266.225109 \n",
       "L 680.3 194.991066 \n",
       "L 609.065957 194.991066 \n",
       "z\n",
       "\" style=\"fill:#ffffff;\"/>\n",
       "   </g>\n",
       "   <g clip-path=\"url(#p984b415611)\">\n",
       "    <image height=\"72\" id=\"image329f311f52\" transform=\"scale(1 -1)translate(0 -72)\" width=\"72\" x=\"609.065957\" xlink:href=\"data:image/png;base64,\n",
       "iVBORw0KGgoAAAANSUhEUgAAAEgAAABICAYAAABV7bNHAAAABHNCSVQICAgIfAhkiAAACn9JREFUeJztXGtwVVcV/u4zr3tz84aEpEkIARoCDYEWaAtiYJwyBVuHTludTpnRQWd8z4iP0bF/rHXUGUWtM0xBBUTHsYhKEaGGtIEUJNAWAwFKQ55wExKSe5Ob3Efuyx/r3LUOucdstK3OOOf7kzXfzTlnn32+tfbaa+9zLBstTyQxAxa7ne1kLAYA8H7tQebmng0BAKytb8tBVpvYifjMU/538C/aEN7yAACg/7EEc2Wv0j0Gyq3Mlf7odPop3+82/r/B7CAF7EZkdks+28GYEwBwovaHzK13fBUAUNEqx1idDrYT4f+Ni1kcutAQkTYMPGIBABxoeom556oeBwCM+TyzntNUkAKGCuo+WMt22cd6AQCnw3OYs8bSj0kmdbHeYtH+Kvo/mTDg0sYMY6SuoUfcWLmOMWpH6+S9zGXY6Cbcf3HNehlTQQqYHaSAoYtljon0rRaS/FBUgln9R68CAHzfl2OSkUj6iZIfYLA2cMVUzjYTK5qovaPRHOacVmpbqFhcNR/pMBWkgKGCMvyioM0lHQCAS1PlzO2pPAoA2IrVH2Tb3jf8tvo1AMD2gYeYc2pB2h6a/VhTQQqYHaSAoYs5/dNsZ1sp+HpDucy5rJkAAFueBG7XETnVxsIrAIA2/wLmbFqwj8Tl/waDdM7RqWzmJsez2M49T9cJPTzJXEHuFACgwu1n7q3+CgBAeZFw2Z8IsO2LBwEAU9qsAACW5d4EAFyfXojZYCpIAUMF2SfCbJfY6UkEdb1/WHviE78rZO7o/ENsP9O7nn6PZjKXSNJwOjwlmWumnQJlXfEt5ormTbHdnEVPtzhXuFXFvQCAS/4y5qxWGlRer/8Tc5868jDb3xpqAgCEder1RvLoXuVWDWEqSAGzgxQwdDHruEi6zD4OAEgmJePM0QJ3LCH9+/ztxWynpByYzmBuW8UZAMCx0Xrm3uy7BwDgC0pgXlvezXZknFz0VkwqhYNuGhi6bxUxZ9Fc7LAu2LdcqGP7+KYfAwC+0PUUc3lucevZYCpIAbODFDB0sVjfANtXp6kONJ0QmW/Ioonep98RmTfbxcW2V54CAOx8dwNz+wbWAAAemXuZueVL6Tq/vLyGuVBcKpO2bBrl7qu4wVwqd0okxOVXVdJ5GjOGmXPNkdypzEZtL84S7pvF7QCAN3yzT5dMBSlgqCA9nBZSS5V7LO23zGFd/zYXs1n74hAAIKILrpEYBdCrU3OZW5xD//eZJW3MnR+vZDuV3/RPSCGiykPtKK4SNWwooMz9hVsbmZsacLPtWkXB3mqRSfjPfUsBANl9E8wZ1DdNBalgdpACShcrsJGU78kSFxuOU54UaxCZO1slaI7ESd7uTKkyRuPkbqfeWMKc+0OU54fiMo2pcw+yfTZeBUCqmgBg19wkxy4T6rE4VQrPD1cwl3cl/dm3vSVF+yXr6DqWgdnzIVNBCigVFExQNhxOyPA7laAnWuQRBTmGJMRV2X0AgNC0HLO4kIbgjmpRSyxJqhrUlVIydGtKLhcpLK7L2HsmCgAApTkSXD25VBZMTX4BwDs//V4sHlHdymzK2Ft8Oen/qIOpIAXMDlJA6WJ51lQ1Tiaep0JVAIA/Lvk1c5vX7WDboQVS/QS3L0C5TEFOkLnuANWTGvMlc/foquiuzHkAgGBE3LIil9x3LCyuUagNJLf8kvt4Fo+m3Utp0Tjb6zOjAIAfpP3XnTAVpIBSQZ0Reor6LPRikIbTZ3NvM3e7UX73J+iJ64d5h40y8kBElJgavpu9i5gr19WaU7DohnmPkwL3gC67bsjwAgCiQ1LueLLpDNvXopSWLMqTudrNuCh5NpgKUsDsIAWULvb86c0AgC+tbmauKzgn/R91Xd0bLUr7ObXdJGyTS0a1/GYyJG43aJWcyD9JLmOzifv6IsSN9omLZSyjv/UNvcx93CP7Jy9OU3sWuyRLf6pzGwAgF9fT70UHU0EKmB2kgNLFik/SdCHvIYn60WR6v+7etIdtt5VGmmyHpPZDAcpRJgIy0hTl05rbHI+sgubojklNMUb6xZ0Ky/ro3KUyzWkNUQ3pJ1UH5dxWyZ2GorQGVuaQEXKqmcKE6WLvEUoF5e+jfKLpO7Iccz5QDQC4oNs0tSFLAu2JEFXw9BnyXwO0DPPgfHliBU5S5XBYMmB9uaMtUQMA8OfLslCWjTLgx+d3MFfjoPxmXDehzrFGdTa1cyQmA0DZ69py1swbngFTQQqYHaSA0sVSOBSoT+NGExJwh+NSnym00mk7xucxV+KioFqdLZPIl99dDgDYUnOJuQydazi16clHat5hrvUGuV1wUly6fwEF8f2VJ5m7HpXzTGk1rWBCArc1RL+rdlGaClLgrhW0r0sW2LZWXwAAjMZlK8u5iATI7og2hDpkb8mZa7SZqqdd6sYLVtOQndCVRfZ0yj7Cfff/CgDwja6tzE0O0jXnVEmN/NwNGua/6LifuScKzrGdqlk/q8uuWy7PXklMwVSQAmYHKWDsYgYvpgW68phyLSDXORuoYa4qU4JvgZ0Csj6nedtLSy7THpl4jkcoX3rliG59fJFsvXlh4FEAQDgmzXRMUNuGe2R324dXdAIAOv2luvZI1T6i5UeXo7O/2WMEU0EKGCrIYpWgmXohp6RdfndsIlUNhGSO1OjqY3vvDXp98/pACXP5K6j6GJ+UrNjfSuv0Vt1j+sOqXWxvefkraW2Le+jaZdVSzXRrg8H2ilPMHfdJWlLnoopj26RULu8WpoIUMDtIAUMXSxq8mJbfLgHXpm0U0ecvXboX7rq6yXU8HZIbhddrOZGuAJ/hJ7v86R7mxhO6on4FBey8Y5Kz+O6lIO0dkCD9ahtd77WV8iLgA6X9bHtstJR0zl+lu6P0ZSEjmApSwOwgBe56qhHrkVHq6MjStN99MZm4fm8dVfa+W7SJuYS22yzjTZmeZD1GO8wO1x5j7mRYcrAra/cCABrOf545h1ZITFbIZNTaSHWlpSUSBvQbIoazyO5okfcyKqGtmyk+iGAqSAFjBelfd0z1sK53L12oAgDsevQXzH29UyaU3kLKWHfdd4C5bYc+CwAIL5Qnf3EZvd/RE5X6cq2uRRNaTXrv53Yy98mffpmalSnn2VH3NwDA7wdXMpfrlIlytpXq3PN/1sUc343iMxqmghQwO0gBi9HXX+6AgYulcG231F/W1Il852XR8srxftlcPtVNbvePJ8VdurUNYd6YTCKLbbIE5Naqi6mN4ABwPEjTlx0tTzPX1ECb03snC5grzJRJr3cn1aJyDp41uMHZYSpIAfUwP0sQW7hdqna+bBnm23c3AACeW/EKc+O1lA23hUUtJyZoKWitW2rO+nX9Pm1NfVGml7lwkrLzgnmyCBjQNndN7pcauH2/bH/JMcqaU56h/zyGwbv4poIUMDtIAXWQNjrIQcsnd0xqDVzRXiEfI6g+NAIAeKZQPoNVru1H/M34cuZuRqRyWZ9DbybXOGWz9599jQCA9p0rmPMc+Pu/ewt3DVNBCvxHCuJv9xh9M2gmPwMD35aPxRV2kuqyvbKzNeGQIX2kgaqPugoJSl5M/xAbN8Hg43TvFaaCFDA7SIF/As93MdCEPwg2AAAAAElFTkSuQmCC\" y=\"-194.225109\"/>\n",
       "   </g>\n",
       "   <g id=\"patch_118\">\n",
       "    <path d=\"M 609.065957 266.225109 \n",
       "L 609.065957 194.991066 \n",
       "\" style=\"fill:none;stroke:#000000;stroke-linecap:square;stroke-linejoin:miter;stroke-width:0.8;\"/>\n",
       "   </g>\n",
       "   <g id=\"patch_119\">\n",
       "    <path d=\"M 680.3 266.225109 \n",
       "L 680.3 194.991066 \n",
       "\" style=\"fill:none;stroke:#000000;stroke-linecap:square;stroke-linejoin:miter;stroke-width:0.8;\"/>\n",
       "   </g>\n",
       "   <g id=\"patch_120\">\n",
       "    <path d=\"M 609.065957 266.225109 \n",
       "L 680.3 266.225109 \n",
       "\" style=\"fill:none;stroke:#000000;stroke-linecap:square;stroke-linejoin:miter;stroke-width:0.8;\"/>\n",
       "   </g>\n",
       "   <g id=\"patch_121\">\n",
       "    <path d=\"M 609.065957 194.991066 \n",
       "L 680.3 194.991066 \n",
       "\" style=\"fill:none;stroke:#000000;stroke-linecap:square;stroke-linejoin:miter;stroke-width:0.8;\"/>\n",
       "   </g>\n",
       "   <g id=\"text_24\">\n",
       "    <!-- coat -->\n",
       "    <g transform=\"translate(631.683604 188.991066)scale(0.12 -0.12)\">\n",
       "     <use xlink:href=\"#DejaVuSans-63\"/>\n",
       "     <use x=\"54.980469\" xlink:href=\"#DejaVuSans-6f\"/>\n",
       "     <use x=\"116.162109\" xlink:href=\"#DejaVuSans-61\"/>\n",
       "     <use x=\"177.441406\" xlink:href=\"#DejaVuSans-74\"/>\n",
       "    </g>\n",
       "   </g>\n",
       "  </g>\n",
       " </g>\n",
       " <defs>\n",
       "  <clipPath id=\"p8305cb40b3\">\n",
       "   <rect height=\"71.234043\" width=\"71.234043\" x=\"10.7\" y=\"22.318125\"/>\n",
       "  </clipPath>\n",
       "  <clipPath id=\"pd44d2f4558\">\n",
       "   <rect height=\"71.234043\" width=\"71.234043\" x=\"96.180851\" y=\"22.318125\"/>\n",
       "  </clipPath>\n",
       "  <clipPath id=\"p73d7b5b793\">\n",
       "   <rect height=\"71.234043\" width=\"71.234043\" x=\"181.661702\" y=\"22.318125\"/>\n",
       "  </clipPath>\n",
       "  <clipPath id=\"p60172a1712\">\n",
       "   <rect height=\"71.234043\" width=\"71.234043\" x=\"267.142553\" y=\"22.318125\"/>\n",
       "  </clipPath>\n",
       "  <clipPath id=\"p199266639c\">\n",
       "   <rect height=\"71.234043\" width=\"71.234043\" x=\"352.623404\" y=\"22.318125\"/>\n",
       "  </clipPath>\n",
       "  <clipPath id=\"p87e9ae611e\">\n",
       "   <rect height=\"71.234043\" width=\"71.234043\" x=\"438.104255\" y=\"22.318125\"/>\n",
       "  </clipPath>\n",
       "  <clipPath id=\"p7d4d9da463\">\n",
       "   <rect height=\"71.234043\" width=\"71.234043\" x=\"523.585106\" y=\"22.318125\"/>\n",
       "  </clipPath>\n",
       "  <clipPath id=\"pf31b9baf61\">\n",
       "   <rect height=\"71.234043\" width=\"71.234043\" x=\"609.065957\" y=\"22.318125\"/>\n",
       "  </clipPath>\n",
       "  <clipPath id=\"p4ac27495e7\">\n",
       "   <rect height=\"71.234043\" width=\"71.234043\" x=\"10.7\" y=\"108.654596\"/>\n",
       "  </clipPath>\n",
       "  <clipPath id=\"p44f21d0f18\">\n",
       "   <rect height=\"71.234043\" width=\"71.234043\" x=\"96.180851\" y=\"108.654596\"/>\n",
       "  </clipPath>\n",
       "  <clipPath id=\"pc8f6b31049\">\n",
       "   <rect height=\"71.234043\" width=\"71.234043\" x=\"181.661702\" y=\"108.654596\"/>\n",
       "  </clipPath>\n",
       "  <clipPath id=\"p682a08f257\">\n",
       "   <rect height=\"71.234043\" width=\"71.234043\" x=\"267.142553\" y=\"108.654596\"/>\n",
       "  </clipPath>\n",
       "  <clipPath id=\"p95efadfa7d\">\n",
       "   <rect height=\"71.234043\" width=\"71.234043\" x=\"352.623404\" y=\"108.654596\"/>\n",
       "  </clipPath>\n",
       "  <clipPath id=\"p327dfe0c78\">\n",
       "   <rect height=\"71.234043\" width=\"71.234043\" x=\"438.104255\" y=\"108.654596\"/>\n",
       "  </clipPath>\n",
       "  <clipPath id=\"p0880fa6362\">\n",
       "   <rect height=\"71.234043\" width=\"71.234043\" x=\"523.585106\" y=\"108.654596\"/>\n",
       "  </clipPath>\n",
       "  <clipPath id=\"p5fa9ff5141\">\n",
       "   <rect height=\"71.234043\" width=\"71.234043\" x=\"609.065957\" y=\"108.654596\"/>\n",
       "  </clipPath>\n",
       "  <clipPath id=\"pbf2f0a3a58\">\n",
       "   <rect height=\"71.234043\" width=\"71.234043\" x=\"10.7\" y=\"194.991066\"/>\n",
       "  </clipPath>\n",
       "  <clipPath id=\"p247de45ef4\">\n",
       "   <rect height=\"71.234043\" width=\"71.234043\" x=\"96.180851\" y=\"194.991066\"/>\n",
       "  </clipPath>\n",
       "  <clipPath id=\"pfa13a3820d\">\n",
       "   <rect height=\"71.234043\" width=\"71.234043\" x=\"181.661702\" y=\"194.991066\"/>\n",
       "  </clipPath>\n",
       "  <clipPath id=\"p3b22eaefd1\">\n",
       "   <rect height=\"71.234043\" width=\"71.234043\" x=\"267.142553\" y=\"194.991066\"/>\n",
       "  </clipPath>\n",
       "  <clipPath id=\"p2d78d53137\">\n",
       "   <rect height=\"71.234043\" width=\"71.234043\" x=\"352.623404\" y=\"194.991066\"/>\n",
       "  </clipPath>\n",
       "  <clipPath id=\"pc7fed6a046\">\n",
       "   <rect height=\"71.234043\" width=\"71.234043\" x=\"438.104255\" y=\"194.991066\"/>\n",
       "  </clipPath>\n",
       "  <clipPath id=\"p49432dbe31\">\n",
       "   <rect height=\"71.234043\" width=\"71.234043\" x=\"523.585106\" y=\"194.991066\"/>\n",
       "  </clipPath>\n",
       "  <clipPath id=\"p984b415611\">\n",
       "   <rect height=\"71.234043\" width=\"71.234043\" x=\"609.065957\" y=\"194.991066\"/>\n",
       "  </clipPath>\n",
       " </defs>\n",
       "</svg>\n"
      ],
      "text/plain": [
       "<Figure size 864x324 with 24 Axes>"
      ]
     },
     "metadata": {
      "needs_background": "light"
     },
     "output_type": "display_data"
    }
   ],
   "source": [
    "def show_images(imgs, num_rows, num_cols, titles=None, scale=1.5): \n",
    "\n",
    "    figsize = (num_cols * scale, num_rows * scale)\n",
    "    _, axes = d2l.plt.subplots(num_rows, num_cols, figsize=figsize)\n",
    "    axes = axes.flatten()\n",
    "    for i, (ax, img) in enumerate(zip(axes, imgs)):\n",
    "        ax.imshow(d2l.numpy(img))\n",
    "        ax.axes.get_xaxis().set_visible(False)\n",
    "        ax.axes.get_yaxis().set_visible(False)\n",
    "        if titles:\n",
    "            ax.set_title(titles[i])\n",
    "            \n",
    "    return axes\n",
    "\n",
    "X, y = mnist_train[:24]\n",
    "show_images(X.squeeze(axis=-1), 3, 8, titles=get_fashion_mnist_labels(y));"
   ]
  },
  {
   "cell_type": "markdown",
   "metadata": {},
   "source": [
    "为了使我们在阅读培训和测试集时更轻松，我们使用内置的数据迭代器，而不是从头开始创建迭代器。\n",
    "+ ToTensor将图像数据从uint8转换为32位浮点\n",
    "+ 将所有数字除以255，以便所有像素值都在0到1之间"
   ]
  },
  {
   "cell_type": "code",
   "execution_count": 7,
   "metadata": {},
   "outputs": [],
   "source": [
    "batch_size = 256\n",
    "\n",
    "def get_workers(num):\n",
    "    # windows系统不能使用多线程转换\n",
    "    return 0 if sys.platform.startswith('win') else num\n",
    "\n",
    "transformer = gluon.data.vision.transforms.ToTensor()\n",
    "\n",
    "train_iter = gluon.data.DataLoader(mnist_train.transform_first(transformer),\n",
    "                                   batch_size, shuffle=True,\n",
    "                                   num_workers=get_workers(6))"
   ]
  },
  {
   "cell_type": "markdown",
   "metadata": {},
   "source": [
    "编写一个函数生成train和test的迭代器"
   ]
  },
  {
   "cell_type": "code",
   "execution_count": 8,
   "metadata": {},
   "outputs": [],
   "source": [
    "\n",
    "def loader(data, batch_size, shuffle=True, workers = 6):\n",
    "    return gluon.data.DataLoader(data,batch_size, shuffle=shuffle,\n",
    "                                   num_workers=get_workers(workers))\n",
    "\n",
    "def load_data(batch_size, resize=None):\n",
    "    \n",
    "    dataset = gluon.data.vision\n",
    "    trans = [dataset.transforms.Resize(resize)] if resize else []\n",
    "    trans.append(dataset.transforms.ToTensor())\n",
    "    trans = dataset.transforms.Compose(trans)\n",
    "    mnist_train = dataset.FashionMNIST(train=True).transform_first(trans)\n",
    "    mnist_test = dataset.FashionMNIST(train=False).transform_first(trans)\n",
    "    return loader(mnist_train, batch_size), loader(mnist_test, batch_size, False)    "
   ]
  },
  {
   "cell_type": "code",
   "execution_count": 9,
   "metadata": {},
   "outputs": [],
   "source": [
    "train_iter, test_iter = load_data(32, resize=64)"
   ]
  },
  {
   "cell_type": "code",
   "execution_count": 10,
   "metadata": {
    "scrolled": true
   },
   "outputs": [
    {
     "name": "stdout",
     "output_type": "stream",
     "text": [
      "(32, 1, 64, 64) <class 'numpy.float32'> 32 <class 'numpy.int32'>\n"
     ]
    }
   ],
   "source": [
    "for X, y in train_iter:\n",
    "    print(X.shape, X.dtype, y.size, y.dtype)\n",
    "    break"
   ]
  },
  {
   "cell_type": "markdown",
   "metadata": {},
   "source": [
    "## 实现softmax回归"
   ]
  },
  {
   "cell_type": "code",
   "execution_count": 11,
   "metadata": {},
   "outputs": [],
   "source": [
    "from mxnet import autograd, np, npx, gluon\n",
    "from IPython import display\n",
    "npx.set_np()"
   ]
  },
  {
   "cell_type": "markdown",
   "metadata": {},
   "source": [
    "通过上面完成的方程实现数据集"
   ]
  },
  {
   "cell_type": "code",
   "execution_count": 12,
   "metadata": {},
   "outputs": [],
   "source": [
    "batch_size = 256\n",
    "train_iter, test_iter = load_data(batch_size)"
   ]
  },
  {
   "cell_type": "markdown",
   "metadata": {},
   "source": [
    "### 初始化参数\n",
    "由于图片是1X28X28大小的图片，展平图像将其看做是产度为28x28=784的向量，因此输入数量为784，因为分类的种类为10类，因此输出数量为10。\n",
    "因此这里的权重为一个784x10的矩阵，偏差为1x10的向量。初始化权重和偏差，并创建梯度"
   ]
  },
  {
   "cell_type": "code",
   "execution_count": 13,
   "metadata": {},
   "outputs": [],
   "source": [
    "num_inputs = 784\n",
    "num_outputs = 10\n",
    "\n",
    "W = np.random.normal(0, 0.02, (num_inputs, num_outputs))\n",
    "b = np.zeros(num_outputs)\n",
    "W.attach_grad()\n",
    "b.attach_grad()"
   ]
  },
  {
   "cell_type": "markdown",
   "metadata": {},
   "source": [
    "### 创建softmax函数\n",
    "softmax包含三个步骤：\n",
    "1. 我们对每个项求幂（使用exp）；\n",
    "2. 我们对每一行求和（批处理中每个示例有一行）以获取每个示例的归一化常数；\n",
    "3. 我们将每一行除以其归一化常数，确保结果总和为1。"
   ]
  },
  {
   "cell_type": "code",
   "execution_count": 14,
   "metadata": {},
   "outputs": [],
   "source": [
    "def softmax(X):\n",
    "    X_exp = np.exp(X)\n",
    "    partition = X_exp.sum(1, keepdims=True)\n",
    "    return X_exp / partition # 求占比"
   ]
  },
  {
   "cell_type": "markdown",
   "metadata": {},
   "source": [
    "### 定义模型\n",
    "现在我们已经定义了softmax运算，我们可以实现softmax回归模型。因为我们定义的权重是一个784的向量，因此在计算之前需要把图片reshape成784的向量"
   ]
  },
  {
   "cell_type": "code",
   "execution_count": 15,
   "metadata": {},
   "outputs": [],
   "source": [
    "def net(X):\n",
    "    return softmax(np.dot(X.reshape((-1, W.shape[0])), W) + b)"
   ]
  },
  {
   "cell_type": "markdown",
   "metadata": {},
   "source": [
    "### 定义损失函数\n",
    "分类问题使用交叉熵损失函数，交叉熵采用分配给真实标签的预测概率的负对数似然性"
   ]
  },
  {
   "cell_type": "code",
   "execution_count": 16,
   "metadata": {},
   "outputs": [],
   "source": [
    "def cross_entropy(y_hat, y):\n",
    "    return - np.log(y_hat[range(len(y_hat)), y])"
   ]
  },
  {
   "cell_type": "markdown",
   "metadata": {},
   "source": [
    "### 准确率\n",
    "我们用于argmax通过每一行中最大条目的索引来获取预测类。我们将预测类别与基本事实y逐一进行比较。由于相等运算符 ==对数据类型敏感，因此我们将y_hat的数据类型转换为与匹配y。结果是一个张量，其中包含0（假）和1（真）条目。求和得出正确的预测数。"
   ]
  },
  {
   "cell_type": "code",
   "execution_count": 17,
   "metadata": {},
   "outputs": [],
   "source": [
    "def accuracy(y_hat, y): \n",
    "    if len(y_hat.shape) > 1 and y_hat.shape[1] > 1:\n",
    "        y_hat = y_hat.argmax(axis=1)\n",
    "    cmp = y_hat.astype(y.dtype) == y\n",
    "    return float(d2l.reduce_sum(cmp))"
   ]
  },
  {
   "cell_type": "code",
   "execution_count": 18,
   "metadata": {},
   "outputs": [],
   "source": [
    "def evaluate_accuracy(net, data_iter):  \n",
    "\n",
    "    match_num = total_num = 0\n",
    "    for _, (X, y) in enumerate(data_iter):\n",
    "        match_num += accuracy(net(X), y)\n",
    "        total_num += y.size\n",
    "    return match_num / total_num"
   ]
  },
  {
   "cell_type": "code",
   "execution_count": 19,
   "metadata": {
    "scrolled": true
   },
   "outputs": [
    {
     "data": {
      "text/plain": [
       "0.0811"
      ]
     },
     "execution_count": 19,
     "metadata": {},
     "output_type": "execute_result"
    }
   ],
   "source": [
    "evaluate_accuracy(net, test_iter)"
   ]
  },
  {
   "cell_type": "markdown",
   "metadata": {},
   "source": [
    "### 定义优化函数\n",
    "优化函数为随机梯度下降来优化学习速率为0.1"
   ]
  },
  {
   "cell_type": "code",
   "execution_count": 20,
   "metadata": {},
   "outputs": [],
   "source": [
    "lr = 0.1\n",
    "\n",
    "def updater(batch_size):\n",
    "    return d2l.sgd([W, b], lr, batch_size)"
   ]
  },
  {
   "cell_type": "markdown",
   "metadata": {},
   "source": [
    "### 训练\n",
    "定义一个函数用来进行训练，这updater是更新模型参数的常规函数，该函数接受批次大小作为参数，它可以是d2l.sgd函数的包装器，也可以是框架的内置优化函数。"
   ]
  },
  {
   "cell_type": "code",
   "execution_count": 21,
   "metadata": {},
   "outputs": [],
   "source": [
    "def train_epoch(net, train_iter, loss, updater):\n",
    "    \n",
    "    l_sum = acc_rate = total = 0\n",
    "    \n",
    "    if isinstance(updater, gluon.Trainer):\n",
    "        updater = updater.step\n",
    "        \n",
    "    for X,y in train_iter:\n",
    "        with autograd.record():\n",
    "            pre_y = net(X)\n",
    "            l = loss(pre_y, y)\n",
    "        l.backward()\n",
    "        updater(y.size)\n",
    "        l_sum += float(l.sum())\n",
    "        acc_rate += accuracy(pre_y, y)\n",
    "        total += y.size\n",
    "    return l_sum/total, acc_rate/total\n",
    "        "
   ]
  },
  {
   "cell_type": "code",
   "execution_count": 22,
   "metadata": {},
   "outputs": [],
   "source": [
    "def train(net, train_iter, test_iter, loss, epochs, updater):\n",
    "    l_lst = []\n",
    "    acc_lst = []\n",
    "    test_acc_lst = []\n",
    "    for epoch in range(epochs):\n",
    "        l, acc = train_epoch(net, train_iter, loss, updater)\n",
    "        test_acc = evaluate_accuracy(net, test_iter)\n",
    "        l_lst.append(l)\n",
    "        acc_lst.append(acc)\n",
    "        test_acc_lst.append(test_acc)\n",
    "    assert l < 0.5, l\n",
    "    assert acc <= 1 and acc > 0.7, acc\n",
    "    assert test_acc <= 1 and test_acc > 0.7, test_acc\n",
    "    return [l_lst, acc_lst, test_acc_lst]"
   ]
  },
  {
   "cell_type": "code",
   "execution_count": 23,
   "metadata": {},
   "outputs": [],
   "source": [
    "num_epochs = 10\n",
    "result = train(net, train_iter, test_iter, cross_entropy, num_epochs, updater)"
   ]
  },
  {
   "cell_type": "markdown",
   "metadata": {},
   "source": [
    "### 可视化数据\n",
    "使用plotly，将loss，准确率通过线图展现出来可以很好的观察变化"
   ]
  },
  {
   "cell_type": "code",
   "execution_count": 24,
   "metadata": {},
   "outputs": [
    {
     "data": {
      "text/html": [
       "        <script type=\"text/javascript\">\n",
       "        window.PlotlyConfig = {MathJaxConfig: 'local'};\n",
       "        if (window.MathJax) {MathJax.Hub.Config({SVG: {font: \"STIX-Web\"}});}\n",
       "        if (typeof require !== 'undefined') {\n",
       "        require.undef(\"plotly\");\n",
       "        requirejs.config({\n",
       "            paths: {\n",
       "                'plotly': ['https://cdn.plot.ly/plotly-latest.min']\n",
       "            }\n",
       "        });\n",
       "        require(['plotly'], function(Plotly) {\n",
       "            window._Plotly = Plotly;\n",
       "        });\n",
       "        }\n",
       "        </script>\n",
       "        "
      ]
     },
     "metadata": {},
     "output_type": "display_data"
    },
    {
     "data": {
      "application/vnd.plotly.v1+json": {
       "config": {
        "plotlyServerURL": "https://plot.ly"
       },
       "data": [
        {
         "marker": {
          "color": "aquamarine",
          "symbol": "circle-open"
         },
         "mode": "lines+markers",
         "name": "train loss",
         "type": "scatter",
         "x": [
          1,
          2,
          3,
          4,
          5,
          6,
          7,
          8,
          9,
          10
         ],
         "y": [
          0.792831559753418,
          0.5753749262491862,
          0.5291198936462402,
          0.5053114798863729,
          0.4893844424565633,
          0.47791986573537193,
          0.4696593984603882,
          0.462945351600647,
          0.4562839323043823,
          0.4511357916514079
         ]
        },
        {
         "marker": {
          "color": "orange",
          "symbol": "cross-open"
         },
         "mode": "lines+markers",
         "name": "train acc",
         "type": "scatter",
         "x": [
          1,
          2,
          3,
          4,
          5,
          6,
          7,
          8,
          9,
          10
         ],
         "y": [
          0.7428,
          0.8106166666666667,
          0.8228,
          0.83005,
          0.8347833333333333,
          0.8374166666666667,
          0.8404,
          0.8424333333333334,
          0.8442333333333333,
          0.8464333333333334
         ]
        },
        {
         "marker": {
          "color": "hotpink",
          "symbol": "triangle-up-open"
         },
         "mode": "lines+markers",
         "name": "test acc",
         "type": "scatter",
         "x": [
          1,
          2,
          3,
          4,
          5,
          6,
          7,
          8,
          9,
          10
         ],
         "y": [
          0.7874,
          0.7785,
          0.8291,
          0.834,
          0.8343,
          0.844,
          0.8401,
          0.8468,
          0.8454,
          0.8465
         ]
        }
       ],
       "layout": {
        "template": {
         "data": {
          "bar": [
           {
            "error_x": {
             "color": "#2a3f5f"
            },
            "error_y": {
             "color": "#2a3f5f"
            },
            "marker": {
             "line": {
              "color": "#E5ECF6",
              "width": 0.5
             }
            },
            "type": "bar"
           }
          ],
          "barpolar": [
           {
            "marker": {
             "line": {
              "color": "#E5ECF6",
              "width": 0.5
             }
            },
            "type": "barpolar"
           }
          ],
          "carpet": [
           {
            "aaxis": {
             "endlinecolor": "#2a3f5f",
             "gridcolor": "white",
             "linecolor": "white",
             "minorgridcolor": "white",
             "startlinecolor": "#2a3f5f"
            },
            "baxis": {
             "endlinecolor": "#2a3f5f",
             "gridcolor": "white",
             "linecolor": "white",
             "minorgridcolor": "white",
             "startlinecolor": "#2a3f5f"
            },
            "type": "carpet"
           }
          ],
          "choropleth": [
           {
            "colorbar": {
             "outlinewidth": 0,
             "ticks": ""
            },
            "type": "choropleth"
           }
          ],
          "contour": [
           {
            "colorbar": {
             "outlinewidth": 0,
             "ticks": ""
            },
            "colorscale": [
             [
              0,
              "#0d0887"
             ],
             [
              0.1111111111111111,
              "#46039f"
             ],
             [
              0.2222222222222222,
              "#7201a8"
             ],
             [
              0.3333333333333333,
              "#9c179e"
             ],
             [
              0.4444444444444444,
              "#bd3786"
             ],
             [
              0.5555555555555556,
              "#d8576b"
             ],
             [
              0.6666666666666666,
              "#ed7953"
             ],
             [
              0.7777777777777778,
              "#fb9f3a"
             ],
             [
              0.8888888888888888,
              "#fdca26"
             ],
             [
              1,
              "#f0f921"
             ]
            ],
            "type": "contour"
           }
          ],
          "contourcarpet": [
           {
            "colorbar": {
             "outlinewidth": 0,
             "ticks": ""
            },
            "type": "contourcarpet"
           }
          ],
          "heatmap": [
           {
            "colorbar": {
             "outlinewidth": 0,
             "ticks": ""
            },
            "colorscale": [
             [
              0,
              "#0d0887"
             ],
             [
              0.1111111111111111,
              "#46039f"
             ],
             [
              0.2222222222222222,
              "#7201a8"
             ],
             [
              0.3333333333333333,
              "#9c179e"
             ],
             [
              0.4444444444444444,
              "#bd3786"
             ],
             [
              0.5555555555555556,
              "#d8576b"
             ],
             [
              0.6666666666666666,
              "#ed7953"
             ],
             [
              0.7777777777777778,
              "#fb9f3a"
             ],
             [
              0.8888888888888888,
              "#fdca26"
             ],
             [
              1,
              "#f0f921"
             ]
            ],
            "type": "heatmap"
           }
          ],
          "heatmapgl": [
           {
            "colorbar": {
             "outlinewidth": 0,
             "ticks": ""
            },
            "colorscale": [
             [
              0,
              "#0d0887"
             ],
             [
              0.1111111111111111,
              "#46039f"
             ],
             [
              0.2222222222222222,
              "#7201a8"
             ],
             [
              0.3333333333333333,
              "#9c179e"
             ],
             [
              0.4444444444444444,
              "#bd3786"
             ],
             [
              0.5555555555555556,
              "#d8576b"
             ],
             [
              0.6666666666666666,
              "#ed7953"
             ],
             [
              0.7777777777777778,
              "#fb9f3a"
             ],
             [
              0.8888888888888888,
              "#fdca26"
             ],
             [
              1,
              "#f0f921"
             ]
            ],
            "type": "heatmapgl"
           }
          ],
          "histogram": [
           {
            "marker": {
             "colorbar": {
              "outlinewidth": 0,
              "ticks": ""
             }
            },
            "type": "histogram"
           }
          ],
          "histogram2d": [
           {
            "colorbar": {
             "outlinewidth": 0,
             "ticks": ""
            },
            "colorscale": [
             [
              0,
              "#0d0887"
             ],
             [
              0.1111111111111111,
              "#46039f"
             ],
             [
              0.2222222222222222,
              "#7201a8"
             ],
             [
              0.3333333333333333,
              "#9c179e"
             ],
             [
              0.4444444444444444,
              "#bd3786"
             ],
             [
              0.5555555555555556,
              "#d8576b"
             ],
             [
              0.6666666666666666,
              "#ed7953"
             ],
             [
              0.7777777777777778,
              "#fb9f3a"
             ],
             [
              0.8888888888888888,
              "#fdca26"
             ],
             [
              1,
              "#f0f921"
             ]
            ],
            "type": "histogram2d"
           }
          ],
          "histogram2dcontour": [
           {
            "colorbar": {
             "outlinewidth": 0,
             "ticks": ""
            },
            "colorscale": [
             [
              0,
              "#0d0887"
             ],
             [
              0.1111111111111111,
              "#46039f"
             ],
             [
              0.2222222222222222,
              "#7201a8"
             ],
             [
              0.3333333333333333,
              "#9c179e"
             ],
             [
              0.4444444444444444,
              "#bd3786"
             ],
             [
              0.5555555555555556,
              "#d8576b"
             ],
             [
              0.6666666666666666,
              "#ed7953"
             ],
             [
              0.7777777777777778,
              "#fb9f3a"
             ],
             [
              0.8888888888888888,
              "#fdca26"
             ],
             [
              1,
              "#f0f921"
             ]
            ],
            "type": "histogram2dcontour"
           }
          ],
          "mesh3d": [
           {
            "colorbar": {
             "outlinewidth": 0,
             "ticks": ""
            },
            "type": "mesh3d"
           }
          ],
          "parcoords": [
           {
            "line": {
             "colorbar": {
              "outlinewidth": 0,
              "ticks": ""
             }
            },
            "type": "parcoords"
           }
          ],
          "pie": [
           {
            "automargin": true,
            "type": "pie"
           }
          ],
          "scatter": [
           {
            "marker": {
             "colorbar": {
              "outlinewidth": 0,
              "ticks": ""
             }
            },
            "type": "scatter"
           }
          ],
          "scatter3d": [
           {
            "line": {
             "colorbar": {
              "outlinewidth": 0,
              "ticks": ""
             }
            },
            "marker": {
             "colorbar": {
              "outlinewidth": 0,
              "ticks": ""
             }
            },
            "type": "scatter3d"
           }
          ],
          "scattercarpet": [
           {
            "marker": {
             "colorbar": {
              "outlinewidth": 0,
              "ticks": ""
             }
            },
            "type": "scattercarpet"
           }
          ],
          "scattergeo": [
           {
            "marker": {
             "colorbar": {
              "outlinewidth": 0,
              "ticks": ""
             }
            },
            "type": "scattergeo"
           }
          ],
          "scattergl": [
           {
            "marker": {
             "colorbar": {
              "outlinewidth": 0,
              "ticks": ""
             }
            },
            "type": "scattergl"
           }
          ],
          "scattermapbox": [
           {
            "marker": {
             "colorbar": {
              "outlinewidth": 0,
              "ticks": ""
             }
            },
            "type": "scattermapbox"
           }
          ],
          "scatterpolar": [
           {
            "marker": {
             "colorbar": {
              "outlinewidth": 0,
              "ticks": ""
             }
            },
            "type": "scatterpolar"
           }
          ],
          "scatterpolargl": [
           {
            "marker": {
             "colorbar": {
              "outlinewidth": 0,
              "ticks": ""
             }
            },
            "type": "scatterpolargl"
           }
          ],
          "scatterternary": [
           {
            "marker": {
             "colorbar": {
              "outlinewidth": 0,
              "ticks": ""
             }
            },
            "type": "scatterternary"
           }
          ],
          "surface": [
           {
            "colorbar": {
             "outlinewidth": 0,
             "ticks": ""
            },
            "colorscale": [
             [
              0,
              "#0d0887"
             ],
             [
              0.1111111111111111,
              "#46039f"
             ],
             [
              0.2222222222222222,
              "#7201a8"
             ],
             [
              0.3333333333333333,
              "#9c179e"
             ],
             [
              0.4444444444444444,
              "#bd3786"
             ],
             [
              0.5555555555555556,
              "#d8576b"
             ],
             [
              0.6666666666666666,
              "#ed7953"
             ],
             [
              0.7777777777777778,
              "#fb9f3a"
             ],
             [
              0.8888888888888888,
              "#fdca26"
             ],
             [
              1,
              "#f0f921"
             ]
            ],
            "type": "surface"
           }
          ],
          "table": [
           {
            "cells": {
             "fill": {
              "color": "#EBF0F8"
             },
             "line": {
              "color": "white"
             }
            },
            "header": {
             "fill": {
              "color": "#C8D4E3"
             },
             "line": {
              "color": "white"
             }
            },
            "type": "table"
           }
          ]
         },
         "layout": {
          "annotationdefaults": {
           "arrowcolor": "#2a3f5f",
           "arrowhead": 0,
           "arrowwidth": 1
          },
          "coloraxis": {
           "colorbar": {
            "outlinewidth": 0,
            "ticks": ""
           }
          },
          "colorscale": {
           "diverging": [
            [
             0,
             "#8e0152"
            ],
            [
             0.1,
             "#c51b7d"
            ],
            [
             0.2,
             "#de77ae"
            ],
            [
             0.3,
             "#f1b6da"
            ],
            [
             0.4,
             "#fde0ef"
            ],
            [
             0.5,
             "#f7f7f7"
            ],
            [
             0.6,
             "#e6f5d0"
            ],
            [
             0.7,
             "#b8e186"
            ],
            [
             0.8,
             "#7fbc41"
            ],
            [
             0.9,
             "#4d9221"
            ],
            [
             1,
             "#276419"
            ]
           ],
           "sequential": [
            [
             0,
             "#0d0887"
            ],
            [
             0.1111111111111111,
             "#46039f"
            ],
            [
             0.2222222222222222,
             "#7201a8"
            ],
            [
             0.3333333333333333,
             "#9c179e"
            ],
            [
             0.4444444444444444,
             "#bd3786"
            ],
            [
             0.5555555555555556,
             "#d8576b"
            ],
            [
             0.6666666666666666,
             "#ed7953"
            ],
            [
             0.7777777777777778,
             "#fb9f3a"
            ],
            [
             0.8888888888888888,
             "#fdca26"
            ],
            [
             1,
             "#f0f921"
            ]
           ],
           "sequentialminus": [
            [
             0,
             "#0d0887"
            ],
            [
             0.1111111111111111,
             "#46039f"
            ],
            [
             0.2222222222222222,
             "#7201a8"
            ],
            [
             0.3333333333333333,
             "#9c179e"
            ],
            [
             0.4444444444444444,
             "#bd3786"
            ],
            [
             0.5555555555555556,
             "#d8576b"
            ],
            [
             0.6666666666666666,
             "#ed7953"
            ],
            [
             0.7777777777777778,
             "#fb9f3a"
            ],
            [
             0.8888888888888888,
             "#fdca26"
            ],
            [
             1,
             "#f0f921"
            ]
           ]
          },
          "colorway": [
           "#636efa",
           "#EF553B",
           "#00cc96",
           "#ab63fa",
           "#FFA15A",
           "#19d3f3",
           "#FF6692",
           "#B6E880",
           "#FF97FF",
           "#FECB52"
          ],
          "font": {
           "color": "#2a3f5f"
          },
          "geo": {
           "bgcolor": "white",
           "lakecolor": "white",
           "landcolor": "#E5ECF6",
           "showlakes": true,
           "showland": true,
           "subunitcolor": "white"
          },
          "hoverlabel": {
           "align": "left"
          },
          "hovermode": "closest",
          "mapbox": {
           "style": "light"
          },
          "paper_bgcolor": "white",
          "plot_bgcolor": "#E5ECF6",
          "polar": {
           "angularaxis": {
            "gridcolor": "white",
            "linecolor": "white",
            "ticks": ""
           },
           "bgcolor": "#E5ECF6",
           "radialaxis": {
            "gridcolor": "white",
            "linecolor": "white",
            "ticks": ""
           }
          },
          "scene": {
           "xaxis": {
            "backgroundcolor": "#E5ECF6",
            "gridcolor": "white",
            "gridwidth": 2,
            "linecolor": "white",
            "showbackground": true,
            "ticks": "",
            "zerolinecolor": "white"
           },
           "yaxis": {
            "backgroundcolor": "#E5ECF6",
            "gridcolor": "white",
            "gridwidth": 2,
            "linecolor": "white",
            "showbackground": true,
            "ticks": "",
            "zerolinecolor": "white"
           },
           "zaxis": {
            "backgroundcolor": "#E5ECF6",
            "gridcolor": "white",
            "gridwidth": 2,
            "linecolor": "white",
            "showbackground": true,
            "ticks": "",
            "zerolinecolor": "white"
           }
          },
          "shapedefaults": {
           "line": {
            "color": "#2a3f5f"
           }
          },
          "ternary": {
           "aaxis": {
            "gridcolor": "white",
            "linecolor": "white",
            "ticks": ""
           },
           "baxis": {
            "gridcolor": "white",
            "linecolor": "white",
            "ticks": ""
           },
           "bgcolor": "#E5ECF6",
           "caxis": {
            "gridcolor": "white",
            "linecolor": "white",
            "ticks": ""
           }
          },
          "title": {
           "x": 0.05
          },
          "xaxis": {
           "automargin": true,
           "gridcolor": "white",
           "linecolor": "white",
           "ticks": "",
           "title": {
            "standoff": 15
           },
           "zerolinecolor": "white",
           "zerolinewidth": 2
          },
          "yaxis": {
           "automargin": true,
           "gridcolor": "white",
           "linecolor": "white",
           "ticks": "",
           "title": {
            "standoff": 15
           },
           "zerolinecolor": "white",
           "zerolinewidth": 2
          }
         }
        }
       }
      },
      "text/html": [
       "<div>                            <div id=\"81b9af88-4199-4faf-9637-9e2fa65051d5\" class=\"plotly-graph-div\" style=\"height:525px; width:100%;\"></div>            <script type=\"text/javascript\">                require([\"plotly\"], function(Plotly) {                    window.PLOTLYENV=window.PLOTLYENV || {};                                    if (document.getElementById(\"81b9af88-4199-4faf-9637-9e2fa65051d5\")) {                    Plotly.newPlot(                        \"81b9af88-4199-4faf-9637-9e2fa65051d5\",                        [{\"marker\": {\"color\": \"aquamarine\", \"symbol\": \"circle-open\"}, \"mode\": \"lines+markers\", \"name\": \"train loss\", \"type\": \"scatter\", \"x\": [1, 2, 3, 4, 5, 6, 7, 8, 9, 10], \"y\": [0.792831559753418, 0.5753749262491862, 0.5291198936462402, 0.5053114798863729, 0.4893844424565633, 0.47791986573537193, 0.4696593984603882, 0.462945351600647, 0.4562839323043823, 0.4511357916514079]}, {\"marker\": {\"color\": \"orange\", \"symbol\": \"cross-open\"}, \"mode\": \"lines+markers\", \"name\": \"train acc\", \"type\": \"scatter\", \"x\": [1, 2, 3, 4, 5, 6, 7, 8, 9, 10], \"y\": [0.7428, 0.8106166666666667, 0.8228, 0.83005, 0.8347833333333333, 0.8374166666666667, 0.8404, 0.8424333333333334, 0.8442333333333333, 0.8464333333333334]}, {\"marker\": {\"color\": \"hotpink\", \"symbol\": \"triangle-up-open\"}, \"mode\": \"lines+markers\", \"name\": \"test acc\", \"type\": \"scatter\", \"x\": [1, 2, 3, 4, 5, 6, 7, 8, 9, 10], \"y\": [0.7874, 0.7785, 0.8291, 0.834, 0.8343, 0.844, 0.8401, 0.8468, 0.8454, 0.8465]}],                        {\"template\": {\"data\": {\"bar\": [{\"error_x\": {\"color\": \"#2a3f5f\"}, \"error_y\": {\"color\": \"#2a3f5f\"}, \"marker\": {\"line\": {\"color\": \"#E5ECF6\", \"width\": 0.5}}, \"type\": \"bar\"}], \"barpolar\": [{\"marker\": {\"line\": {\"color\": \"#E5ECF6\", \"width\": 0.5}}, \"type\": \"barpolar\"}], \"carpet\": [{\"aaxis\": {\"endlinecolor\": \"#2a3f5f\", \"gridcolor\": \"white\", \"linecolor\": \"white\", \"minorgridcolor\": \"white\", \"startlinecolor\": \"#2a3f5f\"}, \"baxis\": {\"endlinecolor\": \"#2a3f5f\", \"gridcolor\": \"white\", \"linecolor\": \"white\", \"minorgridcolor\": \"white\", \"startlinecolor\": \"#2a3f5f\"}, \"type\": \"carpet\"}], \"choropleth\": [{\"colorbar\": {\"outlinewidth\": 0, \"ticks\": \"\"}, \"type\": \"choropleth\"}], \"contour\": [{\"colorbar\": {\"outlinewidth\": 0, \"ticks\": \"\"}, \"colorscale\": [[0.0, \"#0d0887\"], [0.1111111111111111, \"#46039f\"], [0.2222222222222222, \"#7201a8\"], [0.3333333333333333, \"#9c179e\"], [0.4444444444444444, \"#bd3786\"], [0.5555555555555556, \"#d8576b\"], [0.6666666666666666, \"#ed7953\"], [0.7777777777777778, \"#fb9f3a\"], [0.8888888888888888, \"#fdca26\"], [1.0, \"#f0f921\"]], \"type\": \"contour\"}], \"contourcarpet\": [{\"colorbar\": {\"outlinewidth\": 0, \"ticks\": \"\"}, \"type\": \"contourcarpet\"}], \"heatmap\": [{\"colorbar\": {\"outlinewidth\": 0, \"ticks\": \"\"}, \"colorscale\": [[0.0, \"#0d0887\"], [0.1111111111111111, \"#46039f\"], [0.2222222222222222, \"#7201a8\"], [0.3333333333333333, \"#9c179e\"], [0.4444444444444444, \"#bd3786\"], [0.5555555555555556, \"#d8576b\"], [0.6666666666666666, \"#ed7953\"], [0.7777777777777778, \"#fb9f3a\"], [0.8888888888888888, \"#fdca26\"], [1.0, \"#f0f921\"]], \"type\": \"heatmap\"}], \"heatmapgl\": [{\"colorbar\": {\"outlinewidth\": 0, \"ticks\": \"\"}, \"colorscale\": [[0.0, \"#0d0887\"], [0.1111111111111111, \"#46039f\"], [0.2222222222222222, \"#7201a8\"], [0.3333333333333333, \"#9c179e\"], [0.4444444444444444, \"#bd3786\"], [0.5555555555555556, \"#d8576b\"], [0.6666666666666666, \"#ed7953\"], [0.7777777777777778, \"#fb9f3a\"], [0.8888888888888888, \"#fdca26\"], [1.0, \"#f0f921\"]], \"type\": \"heatmapgl\"}], \"histogram\": [{\"marker\": {\"colorbar\": {\"outlinewidth\": 0, \"ticks\": \"\"}}, \"type\": \"histogram\"}], \"histogram2d\": [{\"colorbar\": {\"outlinewidth\": 0, \"ticks\": \"\"}, \"colorscale\": [[0.0, \"#0d0887\"], [0.1111111111111111, \"#46039f\"], [0.2222222222222222, \"#7201a8\"], [0.3333333333333333, \"#9c179e\"], [0.4444444444444444, \"#bd3786\"], [0.5555555555555556, \"#d8576b\"], [0.6666666666666666, \"#ed7953\"], [0.7777777777777778, \"#fb9f3a\"], [0.8888888888888888, \"#fdca26\"], [1.0, \"#f0f921\"]], \"type\": \"histogram2d\"}], \"histogram2dcontour\": [{\"colorbar\": {\"outlinewidth\": 0, \"ticks\": \"\"}, \"colorscale\": [[0.0, \"#0d0887\"], [0.1111111111111111, \"#46039f\"], [0.2222222222222222, \"#7201a8\"], [0.3333333333333333, \"#9c179e\"], [0.4444444444444444, \"#bd3786\"], [0.5555555555555556, \"#d8576b\"], [0.6666666666666666, \"#ed7953\"], [0.7777777777777778, \"#fb9f3a\"], [0.8888888888888888, \"#fdca26\"], [1.0, \"#f0f921\"]], \"type\": \"histogram2dcontour\"}], \"mesh3d\": [{\"colorbar\": {\"outlinewidth\": 0, \"ticks\": \"\"}, \"type\": \"mesh3d\"}], \"parcoords\": [{\"line\": {\"colorbar\": {\"outlinewidth\": 0, \"ticks\": \"\"}}, \"type\": \"parcoords\"}], \"pie\": [{\"automargin\": true, \"type\": \"pie\"}], \"scatter\": [{\"marker\": {\"colorbar\": {\"outlinewidth\": 0, \"ticks\": \"\"}}, \"type\": \"scatter\"}], \"scatter3d\": [{\"line\": {\"colorbar\": {\"outlinewidth\": 0, \"ticks\": \"\"}}, \"marker\": {\"colorbar\": {\"outlinewidth\": 0, \"ticks\": \"\"}}, \"type\": \"scatter3d\"}], \"scattercarpet\": [{\"marker\": {\"colorbar\": {\"outlinewidth\": 0, \"ticks\": \"\"}}, \"type\": \"scattercarpet\"}], \"scattergeo\": [{\"marker\": {\"colorbar\": {\"outlinewidth\": 0, \"ticks\": \"\"}}, \"type\": \"scattergeo\"}], \"scattergl\": [{\"marker\": {\"colorbar\": {\"outlinewidth\": 0, \"ticks\": \"\"}}, \"type\": \"scattergl\"}], \"scattermapbox\": [{\"marker\": {\"colorbar\": {\"outlinewidth\": 0, \"ticks\": \"\"}}, \"type\": \"scattermapbox\"}], \"scatterpolar\": [{\"marker\": {\"colorbar\": {\"outlinewidth\": 0, \"ticks\": \"\"}}, \"type\": \"scatterpolar\"}], \"scatterpolargl\": [{\"marker\": {\"colorbar\": {\"outlinewidth\": 0, \"ticks\": \"\"}}, \"type\": \"scatterpolargl\"}], \"scatterternary\": [{\"marker\": {\"colorbar\": {\"outlinewidth\": 0, \"ticks\": \"\"}}, \"type\": \"scatterternary\"}], \"surface\": [{\"colorbar\": {\"outlinewidth\": 0, \"ticks\": \"\"}, \"colorscale\": [[0.0, \"#0d0887\"], [0.1111111111111111, \"#46039f\"], [0.2222222222222222, \"#7201a8\"], [0.3333333333333333, \"#9c179e\"], [0.4444444444444444, \"#bd3786\"], [0.5555555555555556, \"#d8576b\"], [0.6666666666666666, \"#ed7953\"], [0.7777777777777778, \"#fb9f3a\"], [0.8888888888888888, \"#fdca26\"], [1.0, \"#f0f921\"]], \"type\": \"surface\"}], \"table\": [{\"cells\": {\"fill\": {\"color\": \"#EBF0F8\"}, \"line\": {\"color\": \"white\"}}, \"header\": {\"fill\": {\"color\": \"#C8D4E3\"}, \"line\": {\"color\": \"white\"}}, \"type\": \"table\"}]}, \"layout\": {\"annotationdefaults\": {\"arrowcolor\": \"#2a3f5f\", \"arrowhead\": 0, \"arrowwidth\": 1}, \"coloraxis\": {\"colorbar\": {\"outlinewidth\": 0, \"ticks\": \"\"}}, \"colorscale\": {\"diverging\": [[0, \"#8e0152\"], [0.1, \"#c51b7d\"], [0.2, \"#de77ae\"], [0.3, \"#f1b6da\"], [0.4, \"#fde0ef\"], [0.5, \"#f7f7f7\"], [0.6, \"#e6f5d0\"], [0.7, \"#b8e186\"], [0.8, \"#7fbc41\"], [0.9, \"#4d9221\"], [1, \"#276419\"]], \"sequential\": [[0.0, \"#0d0887\"], [0.1111111111111111, \"#46039f\"], [0.2222222222222222, \"#7201a8\"], [0.3333333333333333, \"#9c179e\"], [0.4444444444444444, \"#bd3786\"], [0.5555555555555556, \"#d8576b\"], [0.6666666666666666, \"#ed7953\"], [0.7777777777777778, \"#fb9f3a\"], [0.8888888888888888, \"#fdca26\"], [1.0, \"#f0f921\"]], \"sequentialminus\": [[0.0, \"#0d0887\"], [0.1111111111111111, \"#46039f\"], [0.2222222222222222, \"#7201a8\"], [0.3333333333333333, \"#9c179e\"], [0.4444444444444444, \"#bd3786\"], [0.5555555555555556, \"#d8576b\"], [0.6666666666666666, \"#ed7953\"], [0.7777777777777778, \"#fb9f3a\"], [0.8888888888888888, \"#fdca26\"], [1.0, \"#f0f921\"]]}, \"colorway\": [\"#636efa\", \"#EF553B\", \"#00cc96\", \"#ab63fa\", \"#FFA15A\", \"#19d3f3\", \"#FF6692\", \"#B6E880\", \"#FF97FF\", \"#FECB52\"], \"font\": {\"color\": \"#2a3f5f\"}, \"geo\": {\"bgcolor\": \"white\", \"lakecolor\": \"white\", \"landcolor\": \"#E5ECF6\", \"showlakes\": true, \"showland\": true, \"subunitcolor\": \"white\"}, \"hoverlabel\": {\"align\": \"left\"}, \"hovermode\": \"closest\", \"mapbox\": {\"style\": \"light\"}, \"paper_bgcolor\": \"white\", \"plot_bgcolor\": \"#E5ECF6\", \"polar\": {\"angularaxis\": {\"gridcolor\": \"white\", \"linecolor\": \"white\", \"ticks\": \"\"}, \"bgcolor\": \"#E5ECF6\", \"radialaxis\": {\"gridcolor\": \"white\", \"linecolor\": \"white\", \"ticks\": \"\"}}, \"scene\": {\"xaxis\": {\"backgroundcolor\": \"#E5ECF6\", \"gridcolor\": \"white\", \"gridwidth\": 2, \"linecolor\": \"white\", \"showbackground\": true, \"ticks\": \"\", \"zerolinecolor\": \"white\"}, \"yaxis\": {\"backgroundcolor\": \"#E5ECF6\", \"gridcolor\": \"white\", \"gridwidth\": 2, \"linecolor\": \"white\", \"showbackground\": true, \"ticks\": \"\", \"zerolinecolor\": \"white\"}, \"zaxis\": {\"backgroundcolor\": \"#E5ECF6\", \"gridcolor\": \"white\", \"gridwidth\": 2, \"linecolor\": \"white\", \"showbackground\": true, \"ticks\": \"\", \"zerolinecolor\": \"white\"}}, \"shapedefaults\": {\"line\": {\"color\": \"#2a3f5f\"}}, \"ternary\": {\"aaxis\": {\"gridcolor\": \"white\", \"linecolor\": \"white\", \"ticks\": \"\"}, \"baxis\": {\"gridcolor\": \"white\", \"linecolor\": \"white\", \"ticks\": \"\"}, \"bgcolor\": \"#E5ECF6\", \"caxis\": {\"gridcolor\": \"white\", \"linecolor\": \"white\", \"ticks\": \"\"}}, \"title\": {\"x\": 0.05}, \"xaxis\": {\"automargin\": true, \"gridcolor\": \"white\", \"linecolor\": \"white\", \"ticks\": \"\", \"title\": {\"standoff\": 15}, \"zerolinecolor\": \"white\", \"zerolinewidth\": 2}, \"yaxis\": {\"automargin\": true, \"gridcolor\": \"white\", \"linecolor\": \"white\", \"ticks\": \"\", \"title\": {\"standoff\": 15}, \"zerolinecolor\": \"white\", \"zerolinewidth\": 2}}}},                        {\"responsive\": true}                    ).then(function(){\n",
       "                            \n",
       "var gd = document.getElementById('81b9af88-4199-4faf-9637-9e2fa65051d5');\n",
       "var x = new MutationObserver(function (mutations, observer) {{\n",
       "        var display = window.getComputedStyle(gd).display;\n",
       "        if (!display || display === 'none') {{\n",
       "            console.log([gd, 'removed!']);\n",
       "            Plotly.purge(gd);\n",
       "            observer.disconnect();\n",
       "        }}\n",
       "}});\n",
       "\n",
       "// Listen for the removal of the full notebook cells\n",
       "var notebookContainer = gd.closest('#notebook-container');\n",
       "if (notebookContainer) {{\n",
       "    x.observe(notebookContainer, {childList: true});\n",
       "}}\n",
       "\n",
       "// Listen for the clearing of the current output cell\n",
       "var outputEl = gd.closest('.output');\n",
       "if (outputEl) {{\n",
       "    x.observe(outputEl, {childList: true});\n",
       "}}\n",
       "\n",
       "                        })                };                });            </script>        </div>"
      ]
     },
     "metadata": {},
     "output_type": "display_data"
    }
   ],
   "source": [
    "from plotly.offline import plot, init_notebook_mode\n",
    "import plotly.graph_objs as go\n",
    "init_notebook_mode(connected=True)\n",
    "\n",
    "def draw_graph(result):\n",
    "    data = []\n",
    "    colors = ['aquamarine', 'orange', 'hotpink']\n",
    "    names = ['train loss', 'train acc', 'test acc']\n",
    "    symbols = ['circle-open', 'cross-open', 'triangle-up-open']\n",
    "    for i, info in enumerate(result):\n",
    "        trace = go.Scatter(\n",
    "            x = list(range(1, num_epochs+1)),\n",
    "            y = info,\n",
    "            mode = 'lines+markers',\n",
    "            name = names[i],\n",
    "            marker = {\n",
    "                'color':colors[i],\n",
    "                'symbol':symbols[i],\n",
    "            },\n",
    "        )\n",
    "        data.append(trace)\n",
    "    fig = go.Figure(data = data)\n",
    "    fig.show()\n",
    "\n",
    "draw_graph(result)"
   ]
  },
  {
   "cell_type": "markdown",
   "metadata": {},
   "source": [
    "### 预测\n",
    "训练完成的模型通过输入一些数据进行预测，试试效果"
   ]
  },
  {
   "cell_type": "code",
   "execution_count": 32,
   "metadata": {},
   "outputs": [
    {
     "data": {
      "image/svg+xml": [
       "<?xml version=\"1.0\" encoding=\"utf-8\" standalone=\"no\"?>\n",
       "<!DOCTYPE svg PUBLIC \"-//W3C//DTD SVG 1.1//EN\"\n",
       "  \"http://www.w3.org/Graphics/SVG/1.1/DTD/svg11.dtd\">\n",
       "<!-- Created with matplotlib (http://matplotlib.org/) -->\n",
       "<svg height=\"117.689543pt\" version=\"1.1\" viewBox=\"0 0 692.450479 117.689543\" width=\"692.450479pt\" xmlns=\"http://www.w3.org/2000/svg\" xmlns:xlink=\"http://www.w3.org/1999/xlink\">\n",
       " <defs>\n",
       "  <style type=\"text/css\">\n",
       "*{stroke-linecap:butt;stroke-linejoin:round;}\n",
       "  </style>\n",
       " </defs>\n",
       " <g id=\"figure_1\">\n",
       "  <g id=\"patch_1\">\n",
       "   <path d=\"M 0 117.689543 \n",
       "L 692.450479 117.689543 \n",
       "L 692.450479 0 \n",
       "L 0 0 \n",
       "z\n",
       "\" style=\"fill:none;\"/>\n",
       "  </g>\n",
       "  <g id=\"axes_1\">\n",
       "   <g id=\"patch_2\">\n",
       "    <path d=\"M 10.7 106.989543 \n",
       "L 81.934043 106.989543 \n",
       "L 81.934043 35.7555 \n",
       "L 10.7 35.7555 \n",
       "z\n",
       "\" style=\"fill:#ffffff;\"/>\n",
       "   </g>\n",
       "   <g clip-path=\"url(#p5898b2bc9b)\">\n",
       "    <image height=\"72\" id=\"imagef7d254913e\" transform=\"scale(1 -1)translate(0 -72)\" width=\"72\" x=\"10.7\" xlink:href=\"data:image/png;base64,\n",
       "iVBORw0KGgoAAAANSUhEUgAAAEgAAABICAYAAABV7bNHAAAABHNCSVQICAgIfAhkiAAACXpJREFUeJztXFtsXFcVXXfeL8+MJ3bsOLHj2I4TN3UCKm1IiyoRUVqqIiFAiEqBIoFQVEBIqB8I8QkSP6l4SHwg0Q8qIRQJVFEEEkEg0pbiuI/gJn7btePYTvycl+d9Z/jY9559rBnm3Ezyx1k/3t537rl3zqx9ztr7nHuNTxlfrOEesXx5FADwzOCU8I1d+piwo7/9NwDA8PqEr1Ypk2G4mrZtuIw6X61ak/+x/rLP8Hisa1SEL/38x4V99qV3AADjm33CF79In60s3Wp6P83vVkN3kAoepx90hcPCHujcBgCMhm4L3z/jjwk7av0VYQVwSNTMptexI+heYASDdG4mI3zZXv7tz0cnAQDTqS7hq0baHLWtGaSAYwbVhvuFHfbcrTte6Gh0Uv347+nngTJzppv+Hubb8OT5HE+R7NAdZqJ/YgkAYG5tC19VYo6NSoBtt0G0jPoKfG1PrMEN10MzSAHdQQo4DrHUCA9qQ4F5AMBWhX3FrvrB97mbu8Lu9KQBAG3uaeFzoz4EvUZFsqnNXNVfd7zTvSd8F37+PQDAoZf/JXyFoyVhl2v0NQ/6s8I3f26Y2rledwv7oBmkgGMGldpY4Z6LEoPulnmgc+X5+PxPScU+H70kfBfmvgQA8LmZaS6LQVXwuYeCKWGnyjR9l0y38LX78gCAsKcofBMv/RIA8Om3XxA+I8tfLWDQIO8yWEPkuusVeyNoBimgO0gBxyFWSDAldyoRAECuysnoc598R9hXlk4AAL6x+HnhK1cpTCJeDo0DfhpoV/bahe/J2Kywb5cSAIDpvW7hOxbaAgBMpA8L3+fmngYAhH5yR/i+0LYh7DsVGgrOxzi5/kuQk+tm0AxSwDGDzCBPyT1emr79Lla4F9vfFfYHuz0AgHZ/Tvhk20bETWzaynGedzU1LOxuP0mDTJmn+eX8AQDAsTAraTdo8H1zY1D4njkyIeyVMp2zJ8kFw2HOpxmkgO4gBRyHmLvAg/RamQbVLm9S+O6a3NdruzQo9kVYSedNLwDWPgBQ9tDAPRTfEj6vxH37s7b2AVj/LOcSwper0GRRrfE9HveynrKVtCnpLd+u1kEPBLqDFHAcYo0QdrGmSbg4hShkifJtHq6/7BZDAACfm5NRexab2GNN83DbmrA3ypQM2+EJAJ2+jNU2X/tEhOpTv5k/J3zJk/zVkiZd25T44N91tlahGaSAYwaF17jHQxZzNitR4TsUYrZE/2PpjVE+/0iIBnQ5MW33csnCxu0iq+rT4RUAwPsmVyGzJrUtD8gxNw3i/Ze5nfJ5/u3t+zzuZ6XtT2sGPRDoDlLAcYjJxfQ2i9KzhUPCV6ytCju8TlrmZpKPj8RoIN0oRIQva+mXnjBrFlMKnbk8LdNkylyBjwYpVIN+TnP+tnkSABCa5BB62Mft/HqL7sNOkQAgssJDQjNoBingmEHx61t1vlQlKOyZMk/zgW36deWBdCC4CWB/gtvupQR2o8S17d7AjrATVt05L5VVbJwOrQj79d8/DgDoj2wKX6bKNWmbqXK92zO5DABovoypGaSE7iAFnNeDZheEXaiSspVDaNPkmo4ZpCR0dYMTytVEHAAwk+H18VOxdQDAfKZT+KZSXD08e2AJAHBLqjjGrcT1qWha+GKLNCksfpnbcUt6y2+pfFm3mbs8YDeDZpACznMxaZ3dbZDtcXFpwi4pAMDGR8n2B1gpj4ZpJ4ithAEg4aHjNpMAIObh0saQn6RBscpt26zt9bA08KXpPvxn2LdTrS8ZfljsrPOpoBmkgO4gBVoqd0zlqShfqXL/LpQOCrs4SCq1I8Ba5FpmAACwlDkgfBVrKWgpy4N5f4R1kFmj9m+mWJHby0aTJR7Mk0P0NYI+1lirJiv2hI9C+bXF08J3GDebfkcbmkEK6A5SoKUQe2+3F8D+2WcxzzPEsw8RfeXNAt0+0i2+OMv9wQClBttF1lDredYqTyc+AADcCnIIno0tAgAKNa4ymk/S7HUqwcnqX9NcjLJnwdw6h51TaAYp0BKDZtdpQB6O8vr32MZRYV84eg0AlysAYK1ISnqnFBK+vQppInm9XsZEjiqJqzneZrPgp2svZHlT5FeO0/WO+fl+rqZOCjtqaavIAm+jcQrNIAV0BynQUoiZaaqvhFysc45GOfl7IToHAPihFGKLWdI/coIbdJNuiXq5uidXHIcClGqEOvg6bW76rLeNKzlfjb0PABgvshZLlrlW5bGS1a53OY1xCs0gBVpiUPwGnVZ8lE/3uXj6ni8TS27n4sLXGyaGyYuAZUsppyTWbBd4yp/Nk1oe2+4XPnsbjb0QCQAjQVps/IifH42Ie5ktX0u8BQD4wSSXTVSVRBuaQQroDlKgpRDrGqP1cf/XOawKUui8ukNr5MMR1iXTViWxUmMtYu9RdBlcawp7eUAOuck+EeN27LX5mSxPAPba+1yZ1bwdvgDw5wwlqeYmF/WdQjNIgdZ2d0zQTtTHIovCNS3Vmm8kqRzySIIfd7TVcsQjSYMA7TP84yrnTek8LxKe75gBACSkNXx7t6yM9RJNBlc2HxK+vjCXTW5keizLWR1ahmaQArqDFGgpxGpFCpcb+SPCJyecfZbm+fs6b+l9oovCcSrNlUBbNcvPb5zp4g1U76UpWZ1PcmLaZyl2eQK4nqT7kFW6jPE3KHEdwNuKb1YPzSAFdAcpcF97FH83/4iwzx1eEvZUksJIDp20tdFB1jxn2z8EAIwn+4VPDqeLA1cti2engkm3LKcfrgYP5kWl/ZHd1xpsq3dZs2G1edKhGaTAfTGo5xKr5+DPWN+MxKk2PJuWloIs/bKd5yQzVSH7uz1XhC9+hAf7V7afAAAspHipyIYpLTl1hEgnPZpYFr4/3TrFx/8wVn/zDh/Q1wxSQHeQAs5DzJA0hrWRwXiLHxme+TavWt75PlUKXx6V9uVauOzmV1jYmxcC+550Zur3W6mIeZB/R/t1GIM+1kH/yI4AAF598xPCd/xb9WG172005VLd8UbQDFLAaOX9QXx2Pav+F+5+h/YRvvjia8L3VIiSXrfUTFlqps16l9DrWX5Q7sfXngUADP2KmSYzuSEcTukNT73nM/7PoDtIgdZ0kB1aUli5AlzHqRbqN2l3/YJeG/HKZx4XvuggFdbtp5IBoCxVHHu9VNP50RufFb7hb46r7wuA4eZ2aqZZd1w1JNjQDFLg/gZpl1Tda6RMHf5KLcFQPFIpX7vRZzWDHgx0BynwX6Rg96VHLnZSAAAAAElFTkSuQmCC\" y=\"-34.989543\"/>\n",
       "   </g>\n",
       "   <g id=\"patch_3\">\n",
       "    <path d=\"M 10.7 106.989543 \n",
       "L 10.7 35.7555 \n",
       "\" style=\"fill:none;stroke:#000000;stroke-linecap:square;stroke-linejoin:miter;stroke-width:0.8;\"/>\n",
       "   </g>\n",
       "   <g id=\"patch_4\">\n",
       "    <path d=\"M 81.934043 106.989543 \n",
       "L 81.934043 35.7555 \n",
       "\" style=\"fill:none;stroke:#000000;stroke-linecap:square;stroke-linejoin:miter;stroke-width:0.8;\"/>\n",
       "   </g>\n",
       "   <g id=\"patch_5\">\n",
       "    <path d=\"M 10.7 106.989543 \n",
       "L 81.934043 106.989543 \n",
       "\" style=\"fill:none;stroke:#000000;stroke-linecap:square;stroke-linejoin:miter;stroke-width:0.8;\"/>\n",
       "   </g>\n",
       "   <g id=\"patch_6\">\n",
       "    <path d=\"M 10.7 35.7555 \n",
       "L 81.934043 35.7555 \n",
       "\" style=\"fill:none;stroke:#000000;stroke-linecap:square;stroke-linejoin:miter;stroke-width:0.8;\"/>\n",
       "   </g>\n",
       "   <g id=\"text_1\">\n",
       "    <!-- true: shirt -->\n",
       "    <defs>\n",
       "     <path d=\"M 18.3125 70.21875 \n",
       "L 18.3125 54.6875 \n",
       "L 36.8125 54.6875 \n",
       "L 36.8125 47.703125 \n",
       "L 18.3125 47.703125 \n",
       "L 18.3125 18.015625 \n",
       "Q 18.3125 11.328125 20.140625 9.421875 \n",
       "Q 21.96875 7.515625 27.59375 7.515625 \n",
       "L 36.8125 7.515625 \n",
       "L 36.8125 0 \n",
       "L 27.59375 0 \n",
       "Q 17.1875 0 13.234375 3.875 \n",
       "Q 9.28125 7.765625 9.28125 18.015625 \n",
       "L 9.28125 47.703125 \n",
       "L 2.6875 47.703125 \n",
       "L 2.6875 54.6875 \n",
       "L 9.28125 54.6875 \n",
       "L 9.28125 70.21875 \n",
       "z\n",
       "\" id=\"DejaVuSans-74\"/>\n",
       "     <path d=\"M 41.109375 46.296875 \n",
       "Q 39.59375 47.171875 37.8125 47.578125 \n",
       "Q 36.03125 48 33.890625 48 \n",
       "Q 26.265625 48 22.1875 43.046875 \n",
       "Q 18.109375 38.09375 18.109375 28.8125 \n",
       "L 18.109375 0 \n",
       "L 9.078125 0 \n",
       "L 9.078125 54.6875 \n",
       "L 18.109375 54.6875 \n",
       "L 18.109375 46.1875 \n",
       "Q 20.953125 51.171875 25.484375 53.578125 \n",
       "Q 30.03125 56 36.53125 56 \n",
       "Q 37.453125 56 38.578125 55.875 \n",
       "Q 39.703125 55.765625 41.0625 55.515625 \n",
       "z\n",
       "\" id=\"DejaVuSans-72\"/>\n",
       "     <path d=\"M 8.5 21.578125 \n",
       "L 8.5 54.6875 \n",
       "L 17.484375 54.6875 \n",
       "L 17.484375 21.921875 \n",
       "Q 17.484375 14.15625 20.5 10.265625 \n",
       "Q 23.53125 6.390625 29.59375 6.390625 \n",
       "Q 36.859375 6.390625 41.078125 11.03125 \n",
       "Q 45.3125 15.671875 45.3125 23.6875 \n",
       "L 45.3125 54.6875 \n",
       "L 54.296875 54.6875 \n",
       "L 54.296875 0 \n",
       "L 45.3125 0 \n",
       "L 45.3125 8.40625 \n",
       "Q 42.046875 3.421875 37.71875 1 \n",
       "Q 33.40625 -1.421875 27.6875 -1.421875 \n",
       "Q 18.265625 -1.421875 13.375 4.4375 \n",
       "Q 8.5 10.296875 8.5 21.578125 \n",
       "z\n",
       "M 31.109375 56 \n",
       "z\n",
       "\" id=\"DejaVuSans-75\"/>\n",
       "     <path d=\"M 56.203125 29.59375 \n",
       "L 56.203125 25.203125 \n",
       "L 14.890625 25.203125 \n",
       "Q 15.484375 15.921875 20.484375 11.0625 \n",
       "Q 25.484375 6.203125 34.421875 6.203125 \n",
       "Q 39.59375 6.203125 44.453125 7.46875 \n",
       "Q 49.3125 8.734375 54.109375 11.28125 \n",
       "L 54.109375 2.78125 \n",
       "Q 49.265625 0.734375 44.1875 -0.34375 \n",
       "Q 39.109375 -1.421875 33.890625 -1.421875 \n",
       "Q 20.796875 -1.421875 13.15625 6.1875 \n",
       "Q 5.515625 13.8125 5.515625 26.8125 \n",
       "Q 5.515625 40.234375 12.765625 48.109375 \n",
       "Q 20.015625 56 32.328125 56 \n",
       "Q 43.359375 56 49.78125 48.890625 \n",
       "Q 56.203125 41.796875 56.203125 29.59375 \n",
       "z\n",
       "M 47.21875 32.234375 \n",
       "Q 47.125 39.59375 43.09375 43.984375 \n",
       "Q 39.0625 48.390625 32.421875 48.390625 \n",
       "Q 24.90625 48.390625 20.390625 44.140625 \n",
       "Q 15.875 39.890625 15.1875 32.171875 \n",
       "z\n",
       "\" id=\"DejaVuSans-65\"/>\n",
       "     <path d=\"M 11.71875 12.40625 \n",
       "L 22.015625 12.40625 \n",
       "L 22.015625 0 \n",
       "L 11.71875 0 \n",
       "z\n",
       "M 11.71875 51.703125 \n",
       "L 22.015625 51.703125 \n",
       "L 22.015625 39.3125 \n",
       "L 11.71875 39.3125 \n",
       "z\n",
       "\" id=\"DejaVuSans-3a\"/>\n",
       "     <path id=\"DejaVuSans-20\"/>\n",
       "     <path d=\"M 44.28125 53.078125 \n",
       "L 44.28125 44.578125 \n",
       "Q 40.484375 46.53125 36.375 47.5 \n",
       "Q 32.28125 48.484375 27.875 48.484375 \n",
       "Q 21.1875 48.484375 17.84375 46.4375 \n",
       "Q 14.5 44.390625 14.5 40.28125 \n",
       "Q 14.5 37.15625 16.890625 35.375 \n",
       "Q 19.28125 33.59375 26.515625 31.984375 \n",
       "L 29.59375 31.296875 \n",
       "Q 39.15625 29.25 43.1875 25.515625 \n",
       "Q 47.21875 21.78125 47.21875 15.09375 \n",
       "Q 47.21875 7.46875 41.1875 3.015625 \n",
       "Q 35.15625 -1.421875 24.609375 -1.421875 \n",
       "Q 20.21875 -1.421875 15.453125 -0.5625 \n",
       "Q 10.6875 0.296875 5.421875 2 \n",
       "L 5.421875 11.28125 \n",
       "Q 10.40625 8.6875 15.234375 7.390625 \n",
       "Q 20.0625 6.109375 24.8125 6.109375 \n",
       "Q 31.15625 6.109375 34.5625 8.28125 \n",
       "Q 37.984375 10.453125 37.984375 14.40625 \n",
       "Q 37.984375 18.0625 35.515625 20.015625 \n",
       "Q 33.0625 21.96875 24.703125 23.78125 \n",
       "L 21.578125 24.515625 \n",
       "Q 13.234375 26.265625 9.515625 29.90625 \n",
       "Q 5.8125 33.546875 5.8125 39.890625 \n",
       "Q 5.8125 47.609375 11.28125 51.796875 \n",
       "Q 16.75 56 26.8125 56 \n",
       "Q 31.78125 56 36.171875 55.265625 \n",
       "Q 40.578125 54.546875 44.28125 53.078125 \n",
       "z\n",
       "\" id=\"DejaVuSans-73\"/>\n",
       "     <path d=\"M 54.890625 33.015625 \n",
       "L 54.890625 0 \n",
       "L 45.90625 0 \n",
       "L 45.90625 32.71875 \n",
       "Q 45.90625 40.484375 42.875 44.328125 \n",
       "Q 39.84375 48.1875 33.796875 48.1875 \n",
       "Q 26.515625 48.1875 22.3125 43.546875 \n",
       "Q 18.109375 38.921875 18.109375 30.90625 \n",
       "L 18.109375 0 \n",
       "L 9.078125 0 \n",
       "L 9.078125 75.984375 \n",
       "L 18.109375 75.984375 \n",
       "L 18.109375 46.1875 \n",
       "Q 21.34375 51.125 25.703125 53.5625 \n",
       "Q 30.078125 56 35.796875 56 \n",
       "Q 45.21875 56 50.046875 50.171875 \n",
       "Q 54.890625 44.34375 54.890625 33.015625 \n",
       "z\n",
       "\" id=\"DejaVuSans-68\"/>\n",
       "     <path d=\"M 9.421875 54.6875 \n",
       "L 18.40625 54.6875 \n",
       "L 18.40625 0 \n",
       "L 9.421875 0 \n",
       "z\n",
       "M 9.421875 75.984375 \n",
       "L 18.40625 75.984375 \n",
       "L 18.40625 64.59375 \n",
       "L 9.421875 64.59375 \n",
       "z\n",
       "\" id=\"DejaVuSans-69\"/>\n",
       "    </defs>\n",
       "    <g transform=\"translate(16.662021 16.318125)scale(0.12 -0.12)\">\n",
       "     <use xlink:href=\"#DejaVuSans-74\"/>\n",
       "     <use x=\"39.208984\" xlink:href=\"#DejaVuSans-72\"/>\n",
       "     <use x=\"80.322266\" xlink:href=\"#DejaVuSans-75\"/>\n",
       "     <use x=\"143.701172\" xlink:href=\"#DejaVuSans-65\"/>\n",
       "     <use x=\"205.224609\" xlink:href=\"#DejaVuSans-3a\"/>\n",
       "     <use x=\"238.916016\" xlink:href=\"#DejaVuSans-20\"/>\n",
       "     <use x=\"270.703125\" xlink:href=\"#DejaVuSans-73\"/>\n",
       "     <use x=\"322.802734\" xlink:href=\"#DejaVuSans-68\"/>\n",
       "     <use x=\"386.181641\" xlink:href=\"#DejaVuSans-69\"/>\n",
       "     <use x=\"413.964844\" xlink:href=\"#DejaVuSans-72\"/>\n",
       "     <use x=\"455.078125\" xlink:href=\"#DejaVuSans-74\"/>\n",
       "    </g>\n",
       "    <!--  pre: coat -->\n",
       "    <defs>\n",
       "     <path d=\"M 18.109375 8.203125 \n",
       "L 18.109375 -20.796875 \n",
       "L 9.078125 -20.796875 \n",
       "L 9.078125 54.6875 \n",
       "L 18.109375 54.6875 \n",
       "L 18.109375 46.390625 \n",
       "Q 20.953125 51.265625 25.265625 53.625 \n",
       "Q 29.59375 56 35.59375 56 \n",
       "Q 45.5625 56 51.78125 48.09375 \n",
       "Q 58.015625 40.1875 58.015625 27.296875 \n",
       "Q 58.015625 14.40625 51.78125 6.484375 \n",
       "Q 45.5625 -1.421875 35.59375 -1.421875 \n",
       "Q 29.59375 -1.421875 25.265625 0.953125 \n",
       "Q 20.953125 3.328125 18.109375 8.203125 \n",
       "z\n",
       "M 48.6875 27.296875 \n",
       "Q 48.6875 37.203125 44.609375 42.84375 \n",
       "Q 40.53125 48.484375 33.40625 48.484375 \n",
       "Q 26.265625 48.484375 22.1875 42.84375 \n",
       "Q 18.109375 37.203125 18.109375 27.296875 \n",
       "Q 18.109375 17.390625 22.1875 11.75 \n",
       "Q 26.265625 6.109375 33.40625 6.109375 \n",
       "Q 40.53125 6.109375 44.609375 11.75 \n",
       "Q 48.6875 17.390625 48.6875 27.296875 \n",
       "z\n",
       "\" id=\"DejaVuSans-70\"/>\n",
       "     <path d=\"M 48.78125 52.59375 \n",
       "L 48.78125 44.1875 \n",
       "Q 44.96875 46.296875 41.140625 47.34375 \n",
       "Q 37.3125 48.390625 33.40625 48.390625 \n",
       "Q 24.65625 48.390625 19.8125 42.84375 \n",
       "Q 14.984375 37.3125 14.984375 27.296875 \n",
       "Q 14.984375 17.28125 19.8125 11.734375 \n",
       "Q 24.65625 6.203125 33.40625 6.203125 \n",
       "Q 37.3125 6.203125 41.140625 7.25 \n",
       "Q 44.96875 8.296875 48.78125 10.40625 \n",
       "L 48.78125 2.09375 \n",
       "Q 45.015625 0.34375 40.984375 -0.53125 \n",
       "Q 36.96875 -1.421875 32.421875 -1.421875 \n",
       "Q 20.0625 -1.421875 12.78125 6.34375 \n",
       "Q 5.515625 14.109375 5.515625 27.296875 \n",
       "Q 5.515625 40.671875 12.859375 48.328125 \n",
       "Q 20.21875 56 33.015625 56 \n",
       "Q 37.15625 56 41.109375 55.140625 \n",
       "Q 45.0625 54.296875 48.78125 52.59375 \n",
       "z\n",
       "\" id=\"DejaVuSans-63\"/>\n",
       "     <path d=\"M 30.609375 48.390625 \n",
       "Q 23.390625 48.390625 19.1875 42.75 \n",
       "Q 14.984375 37.109375 14.984375 27.296875 \n",
       "Q 14.984375 17.484375 19.15625 11.84375 \n",
       "Q 23.34375 6.203125 30.609375 6.203125 \n",
       "Q 37.796875 6.203125 41.984375 11.859375 \n",
       "Q 46.1875 17.53125 46.1875 27.296875 \n",
       "Q 46.1875 37.015625 41.984375 42.703125 \n",
       "Q 37.796875 48.390625 30.609375 48.390625 \n",
       "z\n",
       "M 30.609375 56 \n",
       "Q 42.328125 56 49.015625 48.375 \n",
       "Q 55.71875 40.765625 55.71875 27.296875 \n",
       "Q 55.71875 13.875 49.015625 6.21875 \n",
       "Q 42.328125 -1.421875 30.609375 -1.421875 \n",
       "Q 18.84375 -1.421875 12.171875 6.21875 \n",
       "Q 5.515625 13.875 5.515625 27.296875 \n",
       "Q 5.515625 40.765625 12.171875 48.375 \n",
       "Q 18.84375 56 30.609375 56 \n",
       "z\n",
       "\" id=\"DejaVuSans-6f\"/>\n",
       "     <path d=\"M 34.28125 27.484375 \n",
       "Q 23.390625 27.484375 19.1875 25 \n",
       "Q 14.984375 22.515625 14.984375 16.5 \n",
       "Q 14.984375 11.71875 18.140625 8.90625 \n",
       "Q 21.296875 6.109375 26.703125 6.109375 \n",
       "Q 34.1875 6.109375 38.703125 11.40625 \n",
       "Q 43.21875 16.703125 43.21875 25.484375 \n",
       "L 43.21875 27.484375 \n",
       "z\n",
       "M 52.203125 31.203125 \n",
       "L 52.203125 0 \n",
       "L 43.21875 0 \n",
       "L 43.21875 8.296875 \n",
       "Q 40.140625 3.328125 35.546875 0.953125 \n",
       "Q 30.953125 -1.421875 24.3125 -1.421875 \n",
       "Q 15.921875 -1.421875 10.953125 3.296875 \n",
       "Q 6 8.015625 6 15.921875 \n",
       "Q 6 25.140625 12.171875 29.828125 \n",
       "Q 18.359375 34.515625 30.609375 34.515625 \n",
       "L 43.21875 34.515625 \n",
       "L 43.21875 35.40625 \n",
       "Q 43.21875 41.609375 39.140625 45 \n",
       "Q 35.0625 48.390625 27.6875 48.390625 \n",
       "Q 23 48.390625 18.546875 47.265625 \n",
       "Q 14.109375 46.140625 10.015625 43.890625 \n",
       "L 10.015625 52.203125 \n",
       "Q 14.9375 54.109375 19.578125 55.046875 \n",
       "Q 24.21875 56 28.609375 56 \n",
       "Q 40.484375 56 46.34375 49.84375 \n",
       "Q 52.203125 43.703125 52.203125 31.203125 \n",
       "z\n",
       "\" id=\"DejaVuSans-61\"/>\n",
       "    </defs>\n",
       "    <g transform=\"translate(17.517021 29.7555)scale(0.12 -0.12)\">\n",
       "     <use xlink:href=\"#DejaVuSans-20\"/>\n",
       "     <use x=\"31.787109\" xlink:href=\"#DejaVuSans-70\"/>\n",
       "     <use x=\"95.263672\" xlink:href=\"#DejaVuSans-72\"/>\n",
       "     <use x=\"136.345703\" xlink:href=\"#DejaVuSans-65\"/>\n",
       "     <use x=\"197.869141\" xlink:href=\"#DejaVuSans-3a\"/>\n",
       "     <use x=\"231.560547\" xlink:href=\"#DejaVuSans-20\"/>\n",
       "     <use x=\"263.347656\" xlink:href=\"#DejaVuSans-63\"/>\n",
       "     <use x=\"318.328125\" xlink:href=\"#DejaVuSans-6f\"/>\n",
       "     <use x=\"379.509766\" xlink:href=\"#DejaVuSans-61\"/>\n",
       "     <use x=\"440.789062\" xlink:href=\"#DejaVuSans-74\"/>\n",
       "    </g>\n",
       "   </g>\n",
       "  </g>\n",
       "  <g id=\"axes_2\">\n",
       "   <g id=\"patch_7\">\n",
       "    <path d=\"M 96.180851 106.989543 \n",
       "L 167.414894 106.989543 \n",
       "L 167.414894 35.7555 \n",
       "L 96.180851 35.7555 \n",
       "z\n",
       "\" style=\"fill:#ffffff;\"/>\n",
       "   </g>\n",
       "   <g clip-path=\"url(#pb646dba5ad)\">\n",
       "    <image height=\"72\" id=\"image33b2844749\" transform=\"scale(1 -1)translate(0 -72)\" width=\"72\" x=\"96.180851\" xlink:href=\"data:image/png;base64,\n",
       "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\" y=\"-34.989543\"/>\n",
       "   </g>\n",
       "   <g id=\"patch_8\">\n",
       "    <path d=\"M 96.180851 106.989543 \n",
       "L 96.180851 35.7555 \n",
       "\" style=\"fill:none;stroke:#000000;stroke-linecap:square;stroke-linejoin:miter;stroke-width:0.8;\"/>\n",
       "   </g>\n",
       "   <g id=\"patch_9\">\n",
       "    <path d=\"M 167.414894 106.989543 \n",
       "L 167.414894 35.7555 \n",
       "\" style=\"fill:none;stroke:#000000;stroke-linecap:square;stroke-linejoin:miter;stroke-width:0.8;\"/>\n",
       "   </g>\n",
       "   <g id=\"patch_10\">\n",
       "    <path d=\"M 96.180851 106.989543 \n",
       "L 167.414894 106.989543 \n",
       "\" style=\"fill:none;stroke:#000000;stroke-linecap:square;stroke-linejoin:miter;stroke-width:0.8;\"/>\n",
       "   </g>\n",
       "   <g id=\"patch_11\">\n",
       "    <path d=\"M 96.180851 35.7555 \n",
       "L 167.414894 35.7555 \n",
       "\" style=\"fill:none;stroke:#000000;stroke-linecap:square;stroke-linejoin:miter;stroke-width:0.8;\"/>\n",
       "   </g>\n",
       "   <g id=\"text_2\">\n",
       "    <!-- true: t-shirt -->\n",
       "    <defs>\n",
       "     <path d=\"M 4.890625 31.390625 \n",
       "L 31.203125 31.390625 \n",
       "L 31.203125 23.390625 \n",
       "L 4.890625 23.390625 \n",
       "z\n",
       "\" id=\"DejaVuSans-2d\"/>\n",
       "    </defs>\n",
       "    <g transform=\"translate(97.625997 16.318125)scale(0.12 -0.12)\">\n",
       "     <use xlink:href=\"#DejaVuSans-74\"/>\n",
       "     <use x=\"39.208984\" xlink:href=\"#DejaVuSans-72\"/>\n",
       "     <use x=\"80.322266\" xlink:href=\"#DejaVuSans-75\"/>\n",
       "     <use x=\"143.701172\" xlink:href=\"#DejaVuSans-65\"/>\n",
       "     <use x=\"205.224609\" xlink:href=\"#DejaVuSans-3a\"/>\n",
       "     <use x=\"238.916016\" xlink:href=\"#DejaVuSans-20\"/>\n",
       "     <use x=\"270.703125\" xlink:href=\"#DejaVuSans-74\"/>\n",
       "     <use x=\"309.912109\" xlink:href=\"#DejaVuSans-2d\"/>\n",
       "     <use x=\"345.996094\" xlink:href=\"#DejaVuSans-73\"/>\n",
       "     <use x=\"398.095703\" xlink:href=\"#DejaVuSans-68\"/>\n",
       "     <use x=\"461.474609\" xlink:href=\"#DejaVuSans-69\"/>\n",
       "     <use x=\"489.257812\" xlink:href=\"#DejaVuSans-72\"/>\n",
       "     <use x=\"530.371094\" xlink:href=\"#DejaVuSans-74\"/>\n",
       "    </g>\n",
       "    <!--  pre: t-shirt -->\n",
       "    <g transform=\"translate(98.066622 29.7555)scale(0.12 -0.12)\">\n",
       "     <use xlink:href=\"#DejaVuSans-20\"/>\n",
       "     <use x=\"31.787109\" xlink:href=\"#DejaVuSans-70\"/>\n",
       "     <use x=\"95.263672\" xlink:href=\"#DejaVuSans-72\"/>\n",
       "     <use x=\"136.345703\" xlink:href=\"#DejaVuSans-65\"/>\n",
       "     <use x=\"197.869141\" xlink:href=\"#DejaVuSans-3a\"/>\n",
       "     <use x=\"231.560547\" xlink:href=\"#DejaVuSans-20\"/>\n",
       "     <use x=\"263.347656\" xlink:href=\"#DejaVuSans-74\"/>\n",
       "     <use x=\"302.556641\" xlink:href=\"#DejaVuSans-2d\"/>\n",
       "     <use x=\"338.640625\" xlink:href=\"#DejaVuSans-73\"/>\n",
       "     <use x=\"390.740234\" xlink:href=\"#DejaVuSans-68\"/>\n",
       "     <use x=\"454.119141\" xlink:href=\"#DejaVuSans-69\"/>\n",
       "     <use x=\"481.902344\" xlink:href=\"#DejaVuSans-72\"/>\n",
       "     <use x=\"523.015625\" xlink:href=\"#DejaVuSans-74\"/>\n",
       "    </g>\n",
       "   </g>\n",
       "  </g>\n",
       "  <g id=\"axes_3\">\n",
       "   <g id=\"patch_12\">\n",
       "    <path d=\"M 181.661702 106.989543 \n",
       "L 252.895745 106.989543 \n",
       "L 252.895745 35.7555 \n",
       "L 181.661702 35.7555 \n",
       "z\n",
       "\" style=\"fill:#ffffff;\"/>\n",
       "   </g>\n",
       "   <g clip-path=\"url(#p469c37eef3)\">\n",
       "    <image height=\"72\" id=\"imagec44c37dd71\" transform=\"scale(1 -1)translate(0 -72)\" width=\"72\" x=\"181.661702\" xlink:href=\"data:image/png;base64,\n",
       "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\" y=\"-34.989543\"/>\n",
       "   </g>\n",
       "   <g id=\"patch_13\">\n",
       "    <path d=\"M 181.661702 106.989543 \n",
       "L 181.661702 35.7555 \n",
       "\" style=\"fill:none;stroke:#000000;stroke-linecap:square;stroke-linejoin:miter;stroke-width:0.8;\"/>\n",
       "   </g>\n",
       "   <g id=\"patch_14\">\n",
       "    <path d=\"M 252.895745 106.989543 \n",
       "L 252.895745 35.7555 \n",
       "\" style=\"fill:none;stroke:#000000;stroke-linecap:square;stroke-linejoin:miter;stroke-width:0.8;\"/>\n",
       "   </g>\n",
       "   <g id=\"patch_15\">\n",
       "    <path d=\"M 181.661702 106.989543 \n",
       "L 252.895745 106.989543 \n",
       "\" style=\"fill:none;stroke:#000000;stroke-linecap:square;stroke-linejoin:miter;stroke-width:0.8;\"/>\n",
       "   </g>\n",
       "   <g id=\"patch_16\">\n",
       "    <path d=\"M 181.661702 35.7555 \n",
       "L 252.895745 35.7555 \n",
       "\" style=\"fill:none;stroke:#000000;stroke-linecap:square;stroke-linejoin:miter;stroke-width:0.8;\"/>\n",
       "   </g>\n",
       "   <g id=\"text_3\">\n",
       "    <!-- true: sandal -->\n",
       "    <defs>\n",
       "     <path d=\"M 54.890625 33.015625 \n",
       "L 54.890625 0 \n",
       "L 45.90625 0 \n",
       "L 45.90625 32.71875 \n",
       "Q 45.90625 40.484375 42.875 44.328125 \n",
       "Q 39.84375 48.1875 33.796875 48.1875 \n",
       "Q 26.515625 48.1875 22.3125 43.546875 \n",
       "Q 18.109375 38.921875 18.109375 30.90625 \n",
       "L 18.109375 0 \n",
       "L 9.078125 0 \n",
       "L 9.078125 54.6875 \n",
       "L 18.109375 54.6875 \n",
       "L 18.109375 46.1875 \n",
       "Q 21.34375 51.125 25.703125 53.5625 \n",
       "Q 30.078125 56 35.796875 56 \n",
       "Q 45.21875 56 50.046875 50.171875 \n",
       "Q 54.890625 44.34375 54.890625 33.015625 \n",
       "z\n",
       "\" id=\"DejaVuSans-6e\"/>\n",
       "     <path d=\"M 45.40625 46.390625 \n",
       "L 45.40625 75.984375 \n",
       "L 54.390625 75.984375 \n",
       "L 54.390625 0 \n",
       "L 45.40625 0 \n",
       "L 45.40625 8.203125 \n",
       "Q 42.578125 3.328125 38.25 0.953125 \n",
       "Q 33.9375 -1.421875 27.875 -1.421875 \n",
       "Q 17.96875 -1.421875 11.734375 6.484375 \n",
       "Q 5.515625 14.40625 5.515625 27.296875 \n",
       "Q 5.515625 40.1875 11.734375 48.09375 \n",
       "Q 17.96875 56 27.875 56 \n",
       "Q 33.9375 56 38.25 53.625 \n",
       "Q 42.578125 51.265625 45.40625 46.390625 \n",
       "z\n",
       "M 14.796875 27.296875 \n",
       "Q 14.796875 17.390625 18.875 11.75 \n",
       "Q 22.953125 6.109375 30.078125 6.109375 \n",
       "Q 37.203125 6.109375 41.296875 11.75 \n",
       "Q 45.40625 17.390625 45.40625 27.296875 \n",
       "Q 45.40625 37.203125 41.296875 42.84375 \n",
       "Q 37.203125 48.484375 30.078125 48.484375 \n",
       "Q 22.953125 48.484375 18.875 42.84375 \n",
       "Q 14.796875 37.203125 14.796875 27.296875 \n",
       "z\n",
       "\" id=\"DejaVuSans-64\"/>\n",
       "     <path d=\"M 9.421875 75.984375 \n",
       "L 18.40625 75.984375 \n",
       "L 18.40625 0 \n",
       "L 9.421875 0 \n",
       "z\n",
       "\" id=\"DejaVuSans-6c\"/>\n",
       "    </defs>\n",
       "    <g transform=\"translate(181.279661 16.318125)scale(0.12 -0.12)\">\n",
       "     <use xlink:href=\"#DejaVuSans-74\"/>\n",
       "     <use x=\"39.208984\" xlink:href=\"#DejaVuSans-72\"/>\n",
       "     <use x=\"80.322266\" xlink:href=\"#DejaVuSans-75\"/>\n",
       "     <use x=\"143.701172\" xlink:href=\"#DejaVuSans-65\"/>\n",
       "     <use x=\"205.224609\" xlink:href=\"#DejaVuSans-3a\"/>\n",
       "     <use x=\"238.916016\" xlink:href=\"#DejaVuSans-20\"/>\n",
       "     <use x=\"270.703125\" xlink:href=\"#DejaVuSans-73\"/>\n",
       "     <use x=\"322.802734\" xlink:href=\"#DejaVuSans-61\"/>\n",
       "     <use x=\"384.082031\" xlink:href=\"#DejaVuSans-6e\"/>\n",
       "     <use x=\"447.460938\" xlink:href=\"#DejaVuSans-64\"/>\n",
       "     <use x=\"510.9375\" xlink:href=\"#DejaVuSans-61\"/>\n",
       "     <use x=\"572.216797\" xlink:href=\"#DejaVuSans-6c\"/>\n",
       "    </g>\n",
       "    <!--  pre: ankle boot -->\n",
       "    <defs>\n",
       "     <path d=\"M 9.078125 75.984375 \n",
       "L 18.109375 75.984375 \n",
       "L 18.109375 31.109375 \n",
       "L 44.921875 54.6875 \n",
       "L 56.390625 54.6875 \n",
       "L 27.390625 29.109375 \n",
       "L 57.625 0 \n",
       "L 45.90625 0 \n",
       "L 18.109375 26.703125 \n",
       "L 18.109375 0 \n",
       "L 9.078125 0 \n",
       "z\n",
       "\" id=\"DejaVuSans-6b\"/>\n",
       "     <path d=\"M 48.6875 27.296875 \n",
       "Q 48.6875 37.203125 44.609375 42.84375 \n",
       "Q 40.53125 48.484375 33.40625 48.484375 \n",
       "Q 26.265625 48.484375 22.1875 42.84375 \n",
       "Q 18.109375 37.203125 18.109375 27.296875 \n",
       "Q 18.109375 17.390625 22.1875 11.75 \n",
       "Q 26.265625 6.109375 33.40625 6.109375 \n",
       "Q 40.53125 6.109375 44.609375 11.75 \n",
       "Q 48.6875 17.390625 48.6875 27.296875 \n",
       "z\n",
       "M 18.109375 46.390625 \n",
       "Q 20.953125 51.265625 25.265625 53.625 \n",
       "Q 29.59375 56 35.59375 56 \n",
       "Q 45.5625 56 51.78125 48.09375 \n",
       "Q 58.015625 40.1875 58.015625 27.296875 \n",
       "Q 58.015625 14.40625 51.78125 6.484375 \n",
       "Q 45.5625 -1.421875 35.59375 -1.421875 \n",
       "Q 29.59375 -1.421875 25.265625 0.953125 \n",
       "Q 20.953125 3.328125 18.109375 8.203125 \n",
       "L 18.109375 0 \n",
       "L 9.078125 0 \n",
       "L 9.078125 75.984375 \n",
       "L 18.109375 75.984375 \n",
       "z\n",
       "\" id=\"DejaVuSans-62\"/>\n",
       "    </defs>\n",
       "    <g transform=\"translate(169.754973 29.7555)scale(0.12 -0.12)\">\n",
       "     <use xlink:href=\"#DejaVuSans-20\"/>\n",
       "     <use x=\"31.787109\" xlink:href=\"#DejaVuSans-70\"/>\n",
       "     <use x=\"95.263672\" xlink:href=\"#DejaVuSans-72\"/>\n",
       "     <use x=\"136.345703\" xlink:href=\"#DejaVuSans-65\"/>\n",
       "     <use x=\"197.869141\" xlink:href=\"#DejaVuSans-3a\"/>\n",
       "     <use x=\"231.560547\" xlink:href=\"#DejaVuSans-20\"/>\n",
       "     <use x=\"263.347656\" xlink:href=\"#DejaVuSans-61\"/>\n",
       "     <use x=\"324.626953\" xlink:href=\"#DejaVuSans-6e\"/>\n",
       "     <use x=\"388.005859\" xlink:href=\"#DejaVuSans-6b\"/>\n",
       "     <use x=\"445.916016\" xlink:href=\"#DejaVuSans-6c\"/>\n",
       "     <use x=\"473.699219\" xlink:href=\"#DejaVuSans-65\"/>\n",
       "     <use x=\"535.222656\" xlink:href=\"#DejaVuSans-20\"/>\n",
       "     <use x=\"567.009766\" xlink:href=\"#DejaVuSans-62\"/>\n",
       "     <use x=\"630.486328\" xlink:href=\"#DejaVuSans-6f\"/>\n",
       "     <use x=\"691.667969\" xlink:href=\"#DejaVuSans-6f\"/>\n",
       "     <use x=\"752.849609\" xlink:href=\"#DejaVuSans-74\"/>\n",
       "    </g>\n",
       "   </g>\n",
       "  </g>\n",
       "  <g id=\"axes_4\">\n",
       "   <g id=\"patch_17\">\n",
       "    <path d=\"M 267.142553 106.989543 \n",
       "L 338.376596 106.989543 \n",
       "L 338.376596 35.7555 \n",
       "L 267.142553 35.7555 \n",
       "z\n",
       "\" style=\"fill:#ffffff;\"/>\n",
       "   </g>\n",
       "   <g clip-path=\"url(#pff2012acd2)\">\n",
       "    <image height=\"72\" id=\"image478d8a97eb\" transform=\"scale(1 -1)translate(0 -72)\" width=\"72\" x=\"267.142553\" xlink:href=\"data:image/png;base64,\n",
       "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\" y=\"-34.989543\"/>\n",
       "   </g>\n",
       "   <g id=\"patch_18\">\n",
       "    <path d=\"M 267.142553 106.989543 \n",
       "L 267.142553 35.7555 \n",
       "\" style=\"fill:none;stroke:#000000;stroke-linecap:square;stroke-linejoin:miter;stroke-width:0.8;\"/>\n",
       "   </g>\n",
       "   <g id=\"patch_19\">\n",
       "    <path d=\"M 338.376596 106.989543 \n",
       "L 338.376596 35.7555 \n",
       "\" style=\"fill:none;stroke:#000000;stroke-linecap:square;stroke-linejoin:miter;stroke-width:0.8;\"/>\n",
       "   </g>\n",
       "   <g id=\"patch_20\">\n",
       "    <path d=\"M 267.142553 106.989543 \n",
       "L 338.376596 106.989543 \n",
       "\" style=\"fill:none;stroke:#000000;stroke-linecap:square;stroke-linejoin:miter;stroke-width:0.8;\"/>\n",
       "   </g>\n",
       "   <g id=\"patch_21\">\n",
       "    <path d=\"M 267.142553 35.7555 \n",
       "L 338.376596 35.7555 \n",
       "\" style=\"fill:none;stroke:#000000;stroke-linecap:square;stroke-linejoin:miter;stroke-width:0.8;\"/>\n",
       "   </g>\n",
       "   <g id=\"text_4\">\n",
       "    <!-- true: shirt -->\n",
       "    <g transform=\"translate(273.104574 16.318125)scale(0.12 -0.12)\">\n",
       "     <use xlink:href=\"#DejaVuSans-74\"/>\n",
       "     <use x=\"39.208984\" xlink:href=\"#DejaVuSans-72\"/>\n",
       "     <use x=\"80.322266\" xlink:href=\"#DejaVuSans-75\"/>\n",
       "     <use x=\"143.701172\" xlink:href=\"#DejaVuSans-65\"/>\n",
       "     <use x=\"205.224609\" xlink:href=\"#DejaVuSans-3a\"/>\n",
       "     <use x=\"238.916016\" xlink:href=\"#DejaVuSans-20\"/>\n",
       "     <use x=\"270.703125\" xlink:href=\"#DejaVuSans-73\"/>\n",
       "     <use x=\"322.802734\" xlink:href=\"#DejaVuSans-68\"/>\n",
       "     <use x=\"386.181641\" xlink:href=\"#DejaVuSans-69\"/>\n",
       "     <use x=\"413.964844\" xlink:href=\"#DejaVuSans-72\"/>\n",
       "     <use x=\"455.078125\" xlink:href=\"#DejaVuSans-74\"/>\n",
       "    </g>\n",
       "    <!--  pre: shirt -->\n",
       "    <g transform=\"translate(273.545199 29.7555)scale(0.12 -0.12)\">\n",
       "     <use xlink:href=\"#DejaVuSans-20\"/>\n",
       "     <use x=\"31.787109\" xlink:href=\"#DejaVuSans-70\"/>\n",
       "     <use x=\"95.263672\" xlink:href=\"#DejaVuSans-72\"/>\n",
       "     <use x=\"136.345703\" xlink:href=\"#DejaVuSans-65\"/>\n",
       "     <use x=\"197.869141\" xlink:href=\"#DejaVuSans-3a\"/>\n",
       "     <use x=\"231.560547\" xlink:href=\"#DejaVuSans-20\"/>\n",
       "     <use x=\"263.347656\" xlink:href=\"#DejaVuSans-73\"/>\n",
       "     <use x=\"315.447266\" xlink:href=\"#DejaVuSans-68\"/>\n",
       "     <use x=\"378.826172\" xlink:href=\"#DejaVuSans-69\"/>\n",
       "     <use x=\"406.609375\" xlink:href=\"#DejaVuSans-72\"/>\n",
       "     <use x=\"447.722656\" xlink:href=\"#DejaVuSans-74\"/>\n",
       "    </g>\n",
       "   </g>\n",
       "  </g>\n",
       "  <g id=\"axes_5\">\n",
       "   <g id=\"patch_22\">\n",
       "    <path d=\"M 352.623404 106.989543 \n",
       "L 423.857447 106.989543 \n",
       "L 423.857447 35.7555 \n",
       "L 352.623404 35.7555 \n",
       "z\n",
       "\" style=\"fill:#ffffff;\"/>\n",
       "   </g>\n",
       "   <g clip-path=\"url(#pc50d13bd71)\">\n",
       "    <image height=\"72\" id=\"image1ce3c922fa\" transform=\"scale(1 -1)translate(0 -72)\" width=\"72\" x=\"352.623404\" xlink:href=\"data:image/png;base64,\n",
       "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\" y=\"-34.989543\"/>\n",
       "   </g>\n",
       "   <g id=\"patch_23\">\n",
       "    <path d=\"M 352.623404 106.989543 \n",
       "L 352.623404 35.7555 \n",
       "\" style=\"fill:none;stroke:#000000;stroke-linecap:square;stroke-linejoin:miter;stroke-width:0.8;\"/>\n",
       "   </g>\n",
       "   <g id=\"patch_24\">\n",
       "    <path d=\"M 423.857447 106.989543 \n",
       "L 423.857447 35.7555 \n",
       "\" style=\"fill:none;stroke:#000000;stroke-linecap:square;stroke-linejoin:miter;stroke-width:0.8;\"/>\n",
       "   </g>\n",
       "   <g id=\"patch_25\">\n",
       "    <path d=\"M 352.623404 106.989543 \n",
       "L 423.857447 106.989543 \n",
       "\" style=\"fill:none;stroke:#000000;stroke-linecap:square;stroke-linejoin:miter;stroke-width:0.8;\"/>\n",
       "   </g>\n",
       "   <g id=\"patch_26\">\n",
       "    <path d=\"M 352.623404 35.7555 \n",
       "L 423.857447 35.7555 \n",
       "\" style=\"fill:none;stroke:#000000;stroke-linecap:square;stroke-linejoin:miter;stroke-width:0.8;\"/>\n",
       "   </g>\n",
       "   <g id=\"text_5\">\n",
       "    <!-- true: coat -->\n",
       "    <g transform=\"translate(358.999801 16.318125)scale(0.12 -0.12)\">\n",
       "     <use xlink:href=\"#DejaVuSans-74\"/>\n",
       "     <use x=\"39.208984\" xlink:href=\"#DejaVuSans-72\"/>\n",
       "     <use x=\"80.322266\" xlink:href=\"#DejaVuSans-75\"/>\n",
       "     <use x=\"143.701172\" xlink:href=\"#DejaVuSans-65\"/>\n",
       "     <use x=\"205.224609\" xlink:href=\"#DejaVuSans-3a\"/>\n",
       "     <use x=\"238.916016\" xlink:href=\"#DejaVuSans-20\"/>\n",
       "     <use x=\"270.703125\" xlink:href=\"#DejaVuSans-63\"/>\n",
       "     <use x=\"325.683594\" xlink:href=\"#DejaVuSans-6f\"/>\n",
       "     <use x=\"386.865234\" xlink:href=\"#DejaVuSans-61\"/>\n",
       "     <use x=\"448.144531\" xlink:href=\"#DejaVuSans-74\"/>\n",
       "    </g>\n",
       "    <!--  pre: coat -->\n",
       "    <g transform=\"translate(359.440426 29.7555)scale(0.12 -0.12)\">\n",
       "     <use xlink:href=\"#DejaVuSans-20\"/>\n",
       "     <use x=\"31.787109\" xlink:href=\"#DejaVuSans-70\"/>\n",
       "     <use x=\"95.263672\" xlink:href=\"#DejaVuSans-72\"/>\n",
       "     <use x=\"136.345703\" xlink:href=\"#DejaVuSans-65\"/>\n",
       "     <use x=\"197.869141\" xlink:href=\"#DejaVuSans-3a\"/>\n",
       "     <use x=\"231.560547\" xlink:href=\"#DejaVuSans-20\"/>\n",
       "     <use x=\"263.347656\" xlink:href=\"#DejaVuSans-63\"/>\n",
       "     <use x=\"318.328125\" xlink:href=\"#DejaVuSans-6f\"/>\n",
       "     <use x=\"379.509766\" xlink:href=\"#DejaVuSans-61\"/>\n",
       "     <use x=\"440.789062\" xlink:href=\"#DejaVuSans-74\"/>\n",
       "    </g>\n",
       "   </g>\n",
       "  </g>\n",
       "  <g id=\"axes_6\">\n",
       "   <g id=\"patch_27\">\n",
       "    <path d=\"M 438.104255 106.989543 \n",
       "L 509.338298 106.989543 \n",
       "L 509.338298 35.7555 \n",
       "L 438.104255 35.7555 \n",
       "z\n",
       "\" style=\"fill:#ffffff;\"/>\n",
       "   </g>\n",
       "   <g clip-path=\"url(#pc1749bfa5a)\">\n",
       "    <image height=\"72\" id=\"imageefd85da2fd\" transform=\"scale(1 -1)translate(0 -72)\" width=\"72\" x=\"438.104255\" xlink:href=\"data:image/png;base64,\n",
       "iVBORw0KGgoAAAANSUhEUgAAAEgAAABICAYAAABV7bNHAAAABHNCSVQICAgIfAhkiAAABXVJREFUeJztW01vHEUQfbMzO/u9/ljHdrCdBDtBEIUkgECWIDcOHDlwiPhfRPwELlyBW04IoQgBkhWhQIiDY2KbrNf74d2Z3ZkdDjXb1WbHlAVICVK9y5Rrunt6Xr+qre5dO+87HyVQnIrc857Aiw4lSIASJEAJEqAECVCCBChBApQgAUqQACVIgBIkQAkSoAQJUIIEKEEClCABSpAAT2zhOAAAd+OScYUX5gEAg3N54xuziWGN+iSuY3xJxlI44+l7J9o5OBXjjJnnRtlt3XD60NTr07V0GBtf5eERACC+/4DHPH0KCkAJEuE5Hms1fvd1AMDRetH4emuk80k4AEC+R9dik6Vb6LJU/fS+O+BO3nF06iQcKwJyQx7HGaV2wg0Sj9Z0XOSYjkru1BzjIq/92E/fgYdG4qbPiHns5lsNAEBjf57nc+qsFQAAL968Zv7orhUAAOU/mOrG1gAA4AxZAVGN2nUvsdL6C66xJ4l2OMvqDBZoxePl0PjKVbKDgW98cac0NUl/PpjyjR9zO79FCskf8/24wHZ1l6Tld1hiuSEpJ5jnebupL24ecrupJytOQAkS4LkDLh7ckHTZP8ey665VAQDhrFXTpLejMic4N+D7Y5/8wyUe26uQnQw47AZ9Cq3FRsf4Nl5uGvt8sU3jJTx2IUehfv3mjvHdrrUAAJ8erRjf50/fNHY0Jh20B5wSWk16r3yJQ770LflqYKiCBHhOyAm5vUHSKByyMvxucuIKAMmkuh6yL+LFQThH972+VV4nZHM6BsIFSppNr2J8z1q8fnFE65eMrHXM0TO/nL9qXPdWqfL9rnnB+B4/PmfsfI1VYobJ07OjgOeY705X3KogAUqQAG+89ZP5Y+0RST2+ecX4RlUvvXLiDmcohKISJ8+cVSgXWiTVyYYQAEa1SR+rXTMNoVbV+ILLVji0U/kXuH7x56gmiq3EfXeX5tt5MGd8+VV++EyV+kQx66EfULCPcxxWtZ3p3a4qSMCJQ4PxMZWiztc/GJ//lysA1CqkNOcif6wO1urG7i/Sytt7I79NK+WGvPKjVDj2EUeuyUkzLtMATpnlWa+QGp49nTG+uSUqE5avHRjf7lNWkzdD7xVGVrWfCmdpnkuM8s9p4rbeVRUkQAkSIJ8oZmASirBO3vz7fN9P6yTv4prx9V9dAgD0XrKOVwrTR4alfV6zAXVBEnCAX3/ldwDA3W0OoW6PMv/ics/4Vs63jH1wRLG80mgbXxNlAMD+IaeGyq+cWiZQBQlQggRkh5iTcVqeZPxaOKud1Tba/s24/NReXOVPvtZ7FIJh3dro5q3aKv3EszfCDzsL9AjPms8TCrFHbiNzOq5LbUse1zn1ItVb3YNqZh8zh7+9q/hnSdogS1U2bIVNVPVk17hqn5Fd+OBt4zu6zHVQeY/6B5Ywdg4oOd+6wTuAbx6tAwBGIb9OzuW51dM6qOiygloJqc6tnH5WDqiCRChBArJDTAqds+KM4/hf3TP28o3XjL13i8LJtfavYY9CsDfiU/lalb5YcK2NZ7XAnYKIXjNKrA33iHxx1zqzyoAqSIDzIv+3z+DDdwAAe5vu1L3qVf5qJkmPPhaq/L1Po8h2M6DNdW/IFfnk5DLqsYKKu2TXtpkSVZAAJUjAv6uD/iPYvw9IIq5LqvfpK6DcG0vGF5dI/u1O2fiKpSGAk2Fl45dt6r+ywmE5W6cTx+D7BeNbvfMjzeHquvGpggS80El6gs7Hm8ZuXqeEfOUT/uIw2nlypnG6t3mcya866l9sGZ85xrGgChKgBAn4X4TY84QqSIASJEAJEqAECVCCBChBApQgAUqQACVIgBIkQAkSoAQJUIIEKEEClCABSpAAJUjAn11YlNNTtFXjAAAAAElFTkSuQmCC\" y=\"-34.989543\"/>\n",
       "   </g>\n",
       "   <g id=\"patch_28\">\n",
       "    <path d=\"M 438.104255 106.989543 \n",
       "L 438.104255 35.7555 \n",
       "\" style=\"fill:none;stroke:#000000;stroke-linecap:square;stroke-linejoin:miter;stroke-width:0.8;\"/>\n",
       "   </g>\n",
       "   <g id=\"patch_29\">\n",
       "    <path d=\"M 509.338298 106.989543 \n",
       "L 509.338298 35.7555 \n",
       "\" style=\"fill:none;stroke:#000000;stroke-linecap:square;stroke-linejoin:miter;stroke-width:0.8;\"/>\n",
       "   </g>\n",
       "   <g id=\"patch_30\">\n",
       "    <path d=\"M 438.104255 106.989543 \n",
       "L 509.338298 106.989543 \n",
       "\" style=\"fill:none;stroke:#000000;stroke-linecap:square;stroke-linejoin:miter;stroke-width:0.8;\"/>\n",
       "   </g>\n",
       "   <g id=\"patch_31\">\n",
       "    <path d=\"M 438.104255 35.7555 \n",
       "L 509.338298 35.7555 \n",
       "\" style=\"fill:none;stroke:#000000;stroke-linecap:square;stroke-linejoin:miter;stroke-width:0.8;\"/>\n",
       "   </g>\n",
       "   <g id=\"text_6\">\n",
       "    <!-- true: ankle boot -->\n",
       "    <g transform=\"translate(425.756902 16.318125)scale(0.12 -0.12)\">\n",
       "     <use xlink:href=\"#DejaVuSans-74\"/>\n",
       "     <use x=\"39.208984\" xlink:href=\"#DejaVuSans-72\"/>\n",
       "     <use x=\"80.322266\" xlink:href=\"#DejaVuSans-75\"/>\n",
       "     <use x=\"143.701172\" xlink:href=\"#DejaVuSans-65\"/>\n",
       "     <use x=\"205.224609\" xlink:href=\"#DejaVuSans-3a\"/>\n",
       "     <use x=\"238.916016\" xlink:href=\"#DejaVuSans-20\"/>\n",
       "     <use x=\"270.703125\" xlink:href=\"#DejaVuSans-61\"/>\n",
       "     <use x=\"331.982422\" xlink:href=\"#DejaVuSans-6e\"/>\n",
       "     <use x=\"395.361328\" xlink:href=\"#DejaVuSans-6b\"/>\n",
       "     <use x=\"453.271484\" xlink:href=\"#DejaVuSans-6c\"/>\n",
       "     <use x=\"481.054688\" xlink:href=\"#DejaVuSans-65\"/>\n",
       "     <use x=\"542.578125\" xlink:href=\"#DejaVuSans-20\"/>\n",
       "     <use x=\"574.365234\" xlink:href=\"#DejaVuSans-62\"/>\n",
       "     <use x=\"637.841797\" xlink:href=\"#DejaVuSans-6f\"/>\n",
       "     <use x=\"699.023438\" xlink:href=\"#DejaVuSans-6f\"/>\n",
       "     <use x=\"760.205078\" xlink:href=\"#DejaVuSans-74\"/>\n",
       "    </g>\n",
       "    <!--  pre: ankle boot -->\n",
       "    <g transform=\"translate(426.197527 29.7555)scale(0.12 -0.12)\">\n",
       "     <use xlink:href=\"#DejaVuSans-20\"/>\n",
       "     <use x=\"31.787109\" xlink:href=\"#DejaVuSans-70\"/>\n",
       "     <use x=\"95.263672\" xlink:href=\"#DejaVuSans-72\"/>\n",
       "     <use x=\"136.345703\" xlink:href=\"#DejaVuSans-65\"/>\n",
       "     <use x=\"197.869141\" xlink:href=\"#DejaVuSans-3a\"/>\n",
       "     <use x=\"231.560547\" xlink:href=\"#DejaVuSans-20\"/>\n",
       "     <use x=\"263.347656\" xlink:href=\"#DejaVuSans-61\"/>\n",
       "     <use x=\"324.626953\" xlink:href=\"#DejaVuSans-6e\"/>\n",
       "     <use x=\"388.005859\" xlink:href=\"#DejaVuSans-6b\"/>\n",
       "     <use x=\"445.916016\" xlink:href=\"#DejaVuSans-6c\"/>\n",
       "     <use x=\"473.699219\" xlink:href=\"#DejaVuSans-65\"/>\n",
       "     <use x=\"535.222656\" xlink:href=\"#DejaVuSans-20\"/>\n",
       "     <use x=\"567.009766\" xlink:href=\"#DejaVuSans-62\"/>\n",
       "     <use x=\"630.486328\" xlink:href=\"#DejaVuSans-6f\"/>\n",
       "     <use x=\"691.667969\" xlink:href=\"#DejaVuSans-6f\"/>\n",
       "     <use x=\"752.849609\" xlink:href=\"#DejaVuSans-74\"/>\n",
       "    </g>\n",
       "   </g>\n",
       "  </g>\n",
       "  <g id=\"axes_7\">\n",
       "   <g id=\"patch_32\">\n",
       "    <path d=\"M 523.585106 106.989543 \n",
       "L 594.819149 106.989543 \n",
       "L 594.819149 35.7555 \n",
       "L 523.585106 35.7555 \n",
       "z\n",
       "\" style=\"fill:#ffffff;\"/>\n",
       "   </g>\n",
       "   <g clip-path=\"url(#p393e67c9e1)\">\n",
       "    <image height=\"72\" id=\"imaged836a1e6bf\" transform=\"scale(1 -1)translate(0 -72)\" width=\"72\" x=\"523.585106\" xlink:href=\"data:image/png;base64,\n",
       "iVBORw0KGgoAAAANSUhEUgAAAEgAAABICAYAAABV7bNHAAAABHNCSVQICAgIfAhkiAAABVNJREFUeJztnMtvHEUQxr+Z9T7itdc22TgJDnJsR8EhvIQIgaAgEBzIgQuKkkMEQkIgCCJ3+AtAiAsHRA4R5MDBSNzgxiOCWEKKhAQODwuF2PIrdki8OPay3p0Hh57uLtJrGuTpQUL1u7i2Zna21f6qtrqmZ70nvKMxMmBq7G4AQDDXqXxxtSn+Br7yeas5fbwcCsMnQ4w8AMCe3YvK5T8+k/p41bWdXfl/Ak+QhQ6XF68/fVDZk4dPp3LN38I1AEA1V1a+Q8dfAgB0j32TymdQWEEWnCpo8QFz/t+rDSi7018HAFRyDeWrhTqJ9+bqAAAfkfJNNwcBAK/2TSvf2k7xOd1pDPomWEEWeIIsOA0xDNYN147874av2/9D2TScykkI5qDrIBmWlNXByPClBSvIglMFDVRrypZfz0CX8oWx+f8peKGypXJqkU7cOc9US2HXmuFLC1aQBZ4gC05D7KmdE8qeDcyPasU5w9ckPpmwaeKWSfpya1X5Htv9CwDg0ibH2w5WkAWnCtpTvKLslbhoHPfbJVyapJPjEUnm0p4nFfejPT8BAC5haJMjNmEFWeAJsuA0xKI2808TLmAm6UacN86liTufhCA9r9ymuk4LVpAFniALTkOMLiVy2HhBSRejFPmNVvJa//g9acMKsuBUQTSRlrwAwAaJm9RDa5Gul2QbhL5HJu5uX3ch55p9KY3YhBVkgSfIgtMQm16vKvtQSTTZ6T1QmXwL0MsLWtPIJJ9PwhMAWrEY8i1+U/nO1UYTK/2+ECvIglMFfTq/X9mvVycBABfWdVXcm6iFJmlaGpRz4jhN3NdC0ZEcyuvO5NfTwwCAQej2SlqwgizwBFlwGmLL4zv0C7H7BY1I10YNT9i0s0hrJ2m3yKJWJmlKPNll+NKCFWTBqYIG3/pWv3hZ/BnILyuXTL550kVstWlt0CQt79dTRt7+EQBIsZAerCALPEEW3HYUG3pBOd4Qtc6tJEQmkpqGti7oIrTdbaGR/FUAwFcNHXZhzbzfnxasIAs8QRbcbn8hjF0X+xVf6/9S+WRNFMJTvrWooGzZD7oaVJTvQHEJAHBs/EXlG8J3DkYsYAVZyExB318XexNL2/X/RO5NpMmY3lkt+S3jeKcv7HBhi7vBElhBFniCLGQWYqUOES6+RxOyqGW2meUOAJ3E2+1LjLpdLCxMWEEWMlPQfX3mEzlhLNREK2naXawkVfVMvFX51mNxfPuAXvS6hBVkgSfIQmYh9kyfeBKnHukQ6u+4YZx3I9T1TSMnkjTtAYWxCMeTw+eU70PsSnWsFFaQhcwUNJwXapgNzK/slaikbFo1Sz+9cVhP8vn+4jy5AivoP4MnyEJmIVZMbvHMBLoTeCXoAQDcW9Q10sHKirIvNsW5E43blE/WRncUzATvAlaQBZ4gC05D7NrzDyl7NjgPAFgK9TOrz1WWEkuH3Z3vnFT2xVPvAgAeLs0p3wcr/QD+2oXsGBLPsQaX9XOsacEKsuBl9dMUz06KRDxaWFC+o5+9AgDY+8KFv33v9Ed3KfvM/WcBAD+s69rn4339qY3zZlhBFniCLGRWB32xvA8AsK2q65wTB8QC9pNTh5WvvKA7hfNHhH17VYel5P0p/QVQcfIonYAVZCEzBc3VRdW8Nad3op5fGgEA9E3qHatbZrTClveKXbKj9+jfCpLdx8XFXuXTtxXThxVkgSfIQmZ10ImfZwEAp6ceUb6uJ3/919eR9ZRM+gAw++DqRqdvGlaQhcyS9JtnjwEAdn1utim8Dj2MOAjIgWS9FWuRv3HmOACgPK972z1I/5enJKwgCzxBFv4EwzdzKXgtzboAAAAASUVORK5CYII=\" y=\"-34.989543\"/>\n",
       "   </g>\n",
       "   <g id=\"patch_33\">\n",
       "    <path d=\"M 523.585106 106.989543 \n",
       "L 523.585106 35.7555 \n",
       "\" style=\"fill:none;stroke:#000000;stroke-linecap:square;stroke-linejoin:miter;stroke-width:0.8;\"/>\n",
       "   </g>\n",
       "   <g id=\"patch_34\">\n",
       "    <path d=\"M 594.819149 106.989543 \n",
       "L 594.819149 35.7555 \n",
       "\" style=\"fill:none;stroke:#000000;stroke-linecap:square;stroke-linejoin:miter;stroke-width:0.8;\"/>\n",
       "   </g>\n",
       "   <g id=\"patch_35\">\n",
       "    <path d=\"M 523.585106 106.989543 \n",
       "L 594.819149 106.989543 \n",
       "\" style=\"fill:none;stroke:#000000;stroke-linecap:square;stroke-linejoin:miter;stroke-width:0.8;\"/>\n",
       "   </g>\n",
       "   <g id=\"patch_36\">\n",
       "    <path d=\"M 523.585106 35.7555 \n",
       "L 594.819149 35.7555 \n",
       "\" style=\"fill:none;stroke:#000000;stroke-linecap:square;stroke-linejoin:miter;stroke-width:0.8;\"/>\n",
       "   </g>\n",
       "   <g id=\"text_7\">\n",
       "    <!-- true: dress -->\n",
       "    <g transform=\"translate(526.744003 16.318125)scale(0.12 -0.12)\">\n",
       "     <use xlink:href=\"#DejaVuSans-74\"/>\n",
       "     <use x=\"39.208984\" xlink:href=\"#DejaVuSans-72\"/>\n",
       "     <use x=\"80.322266\" xlink:href=\"#DejaVuSans-75\"/>\n",
       "     <use x=\"143.701172\" xlink:href=\"#DejaVuSans-65\"/>\n",
       "     <use x=\"205.224609\" xlink:href=\"#DejaVuSans-3a\"/>\n",
       "     <use x=\"238.916016\" xlink:href=\"#DejaVuSans-20\"/>\n",
       "     <use x=\"270.703125\" xlink:href=\"#DejaVuSans-64\"/>\n",
       "     <use x=\"334.179688\" xlink:href=\"#DejaVuSans-72\"/>\n",
       "     <use x=\"375.261719\" xlink:href=\"#DejaVuSans-65\"/>\n",
       "     <use x=\"436.785156\" xlink:href=\"#DejaVuSans-73\"/>\n",
       "     <use x=\"488.884766\" xlink:href=\"#DejaVuSans-73\"/>\n",
       "    </g>\n",
       "    <!--  pre: dress -->\n",
       "    <g transform=\"translate(527.184628 29.7555)scale(0.12 -0.12)\">\n",
       "     <use xlink:href=\"#DejaVuSans-20\"/>\n",
       "     <use x=\"31.787109\" xlink:href=\"#DejaVuSans-70\"/>\n",
       "     <use x=\"95.263672\" xlink:href=\"#DejaVuSans-72\"/>\n",
       "     <use x=\"136.345703\" xlink:href=\"#DejaVuSans-65\"/>\n",
       "     <use x=\"197.869141\" xlink:href=\"#DejaVuSans-3a\"/>\n",
       "     <use x=\"231.560547\" xlink:href=\"#DejaVuSans-20\"/>\n",
       "     <use x=\"263.347656\" xlink:href=\"#DejaVuSans-64\"/>\n",
       "     <use x=\"326.824219\" xlink:href=\"#DejaVuSans-72\"/>\n",
       "     <use x=\"367.90625\" xlink:href=\"#DejaVuSans-65\"/>\n",
       "     <use x=\"429.429688\" xlink:href=\"#DejaVuSans-73\"/>\n",
       "     <use x=\"481.529297\" xlink:href=\"#DejaVuSans-73\"/>\n",
       "    </g>\n",
       "   </g>\n",
       "  </g>\n",
       "  <g id=\"axes_8\">\n",
       "   <g id=\"patch_37\">\n",
       "    <path d=\"M 609.065957 106.989543 \n",
       "L 680.3 106.989543 \n",
       "L 680.3 35.7555 \n",
       "L 609.065957 35.7555 \n",
       "z\n",
       "\" style=\"fill:#ffffff;\"/>\n",
       "   </g>\n",
       "   <g clip-path=\"url(#pf6e528826f)\">\n",
       "    <image height=\"72\" id=\"image67a4d7dbda\" transform=\"scale(1 -1)translate(0 -72)\" width=\"72\" x=\"609.065957\" xlink:href=\"data:image/png;base64,\n",
       "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\" y=\"-34.989543\"/>\n",
       "   </g>\n",
       "   <g id=\"patch_38\">\n",
       "    <path d=\"M 609.065957 106.989543 \n",
       "L 609.065957 35.7555 \n",
       "\" style=\"fill:none;stroke:#000000;stroke-linecap:square;stroke-linejoin:miter;stroke-width:0.8;\"/>\n",
       "   </g>\n",
       "   <g id=\"patch_39\">\n",
       "    <path d=\"M 680.3 106.989543 \n",
       "L 680.3 35.7555 \n",
       "\" style=\"fill:none;stroke:#000000;stroke-linecap:square;stroke-linejoin:miter;stroke-width:0.8;\"/>\n",
       "   </g>\n",
       "   <g id=\"patch_40\">\n",
       "    <path d=\"M 609.065957 106.989543 \n",
       "L 680.3 106.989543 \n",
       "\" style=\"fill:none;stroke:#000000;stroke-linecap:square;stroke-linejoin:miter;stroke-width:0.8;\"/>\n",
       "   </g>\n",
       "   <g id=\"patch_41\">\n",
       "    <path d=\"M 609.065957 35.7555 \n",
       "L 680.3 35.7555 \n",
       "\" style=\"fill:none;stroke:#000000;stroke-linecap:square;stroke-linejoin:miter;stroke-width:0.8;\"/>\n",
       "   </g>\n",
       "   <g id=\"text_8\">\n",
       "    <!-- true: pullover -->\n",
       "    <defs>\n",
       "     <path d=\"M 2.984375 54.6875 \n",
       "L 12.5 54.6875 \n",
       "L 29.59375 8.796875 \n",
       "L 46.6875 54.6875 \n",
       "L 56.203125 54.6875 \n",
       "L 35.6875 0 \n",
       "L 23.484375 0 \n",
       "z\n",
       "\" id=\"DejaVuSans-76\"/>\n",
       "    </defs>\n",
       "    <g transform=\"translate(604.115479 16.318125)scale(0.12 -0.12)\">\n",
       "     <use xlink:href=\"#DejaVuSans-74\"/>\n",
       "     <use x=\"39.208984\" xlink:href=\"#DejaVuSans-72\"/>\n",
       "     <use x=\"80.322266\" xlink:href=\"#DejaVuSans-75\"/>\n",
       "     <use x=\"143.701172\" xlink:href=\"#DejaVuSans-65\"/>\n",
       "     <use x=\"205.224609\" xlink:href=\"#DejaVuSans-3a\"/>\n",
       "     <use x=\"238.916016\" xlink:href=\"#DejaVuSans-20\"/>\n",
       "     <use x=\"270.703125\" xlink:href=\"#DejaVuSans-70\"/>\n",
       "     <use x=\"334.179688\" xlink:href=\"#DejaVuSans-75\"/>\n",
       "     <use x=\"397.558594\" xlink:href=\"#DejaVuSans-6c\"/>\n",
       "     <use x=\"425.341797\" xlink:href=\"#DejaVuSans-6c\"/>\n",
       "     <use x=\"453.125\" xlink:href=\"#DejaVuSans-6f\"/>\n",
       "     <use x=\"514.306641\" xlink:href=\"#DejaVuSans-76\"/>\n",
       "     <use x=\"573.486328\" xlink:href=\"#DejaVuSans-65\"/>\n",
       "     <use x=\"635.009766\" xlink:href=\"#DejaVuSans-72\"/>\n",
       "    </g>\n",
       "    <!--  pre: pullover -->\n",
       "    <g transform=\"translate(604.556104 29.7555)scale(0.12 -0.12)\">\n",
       "     <use xlink:href=\"#DejaVuSans-20\"/>\n",
       "     <use x=\"31.787109\" xlink:href=\"#DejaVuSans-70\"/>\n",
       "     <use x=\"95.263672\" xlink:href=\"#DejaVuSans-72\"/>\n",
       "     <use x=\"136.345703\" xlink:href=\"#DejaVuSans-65\"/>\n",
       "     <use x=\"197.869141\" xlink:href=\"#DejaVuSans-3a\"/>\n",
       "     <use x=\"231.560547\" xlink:href=\"#DejaVuSans-20\"/>\n",
       "     <use x=\"263.347656\" xlink:href=\"#DejaVuSans-70\"/>\n",
       "     <use x=\"326.824219\" xlink:href=\"#DejaVuSans-75\"/>\n",
       "     <use x=\"390.203125\" xlink:href=\"#DejaVuSans-6c\"/>\n",
       "     <use x=\"417.986328\" xlink:href=\"#DejaVuSans-6c\"/>\n",
       "     <use x=\"445.769531\" xlink:href=\"#DejaVuSans-6f\"/>\n",
       "     <use x=\"506.951172\" xlink:href=\"#DejaVuSans-76\"/>\n",
       "     <use x=\"566.130859\" xlink:href=\"#DejaVuSans-65\"/>\n",
       "     <use x=\"627.654297\" xlink:href=\"#DejaVuSans-72\"/>\n",
       "    </g>\n",
       "   </g>\n",
       "  </g>\n",
       " </g>\n",
       " <defs>\n",
       "  <clipPath id=\"p5898b2bc9b\">\n",
       "   <rect height=\"71.234043\" width=\"71.234043\" x=\"10.7\" y=\"35.7555\"/>\n",
       "  </clipPath>\n",
       "  <clipPath id=\"pb646dba5ad\">\n",
       "   <rect height=\"71.234043\" width=\"71.234043\" x=\"96.180851\" y=\"35.7555\"/>\n",
       "  </clipPath>\n",
       "  <clipPath id=\"p469c37eef3\">\n",
       "   <rect height=\"71.234043\" width=\"71.234043\" x=\"181.661702\" y=\"35.7555\"/>\n",
       "  </clipPath>\n",
       "  <clipPath id=\"pff2012acd2\">\n",
       "   <rect height=\"71.234043\" width=\"71.234043\" x=\"267.142553\" y=\"35.7555\"/>\n",
       "  </clipPath>\n",
       "  <clipPath id=\"pc50d13bd71\">\n",
       "   <rect height=\"71.234043\" width=\"71.234043\" x=\"352.623404\" y=\"35.7555\"/>\n",
       "  </clipPath>\n",
       "  <clipPath id=\"pc1749bfa5a\">\n",
       "   <rect height=\"71.234043\" width=\"71.234043\" x=\"438.104255\" y=\"35.7555\"/>\n",
       "  </clipPath>\n",
       "  <clipPath id=\"p393e67c9e1\">\n",
       "   <rect height=\"71.234043\" width=\"71.234043\" x=\"523.585106\" y=\"35.7555\"/>\n",
       "  </clipPath>\n",
       "  <clipPath id=\"pf6e528826f\">\n",
       "   <rect height=\"71.234043\" width=\"71.234043\" x=\"609.065957\" y=\"35.7555\"/>\n",
       "  </clipPath>\n",
       " </defs>\n",
       "</svg>\n"
      ],
      "text/plain": [
       "<Figure size 864x108 with 8 Axes>"
      ]
     },
     "metadata": {
      "needs_background": "light"
     },
     "output_type": "display_data"
    }
   ],
   "source": [
    "def predict(net, test_iter, stop, n=8):\n",
    "    for i,(X,y) in enumerate(test_iter):\n",
    "        if (i==stop) :\n",
    "            break\n",
    "    trues = get_fashion_mnist_labels(y)\n",
    "    preds = get_fashion_mnist_labels(d2l.argmax(net(X), axis=1))\n",
    "    titles = [f\"true: {t}\\n pre: {p}\" for t, p in zip(trues, preds)]\n",
    "    show_images(d2l.reshape(X[:n], (-1, 28, 28)), 1, n, titles=titles[:n])\n",
    "\n",
    "import random\n",
    "stop = random.choice(range(10))\n",
    "predict(net, test_iter, stop)"
   ]
  },
  {
   "cell_type": "markdown",
   "metadata": {},
   "source": [
    "## 简化\n",
    "通过使用d2l以及gluon进行简化"
   ]
  },
  {
   "cell_type": "markdown",
   "metadata": {},
   "source": [
    "### 数据\n",
    "直接通过d2l包的load_data_fashion_mnist函数获取fashion_mnist数据集"
   ]
  },
  {
   "cell_type": "code",
   "execution_count": 26,
   "metadata": {},
   "outputs": [],
   "source": [
    "from d2l import mxnet as d2l\n",
    "from mxnet import gluon, init, npx\n",
    "from mxnet.gluon import nn\n",
    "npx.set_np()\n",
    "\n",
    "batch_size = 256\n",
    "train_iter, test_iter = d2l.load_data_fashion_mnist(batch_size)"
   ]
  },
  {
   "cell_type": "markdown",
   "metadata": {},
   "source": [
    "### 创建模型\n",
    "softmax回归的输出层是完全连接的层，因为10种类型这里需要10个输出，我们以零均值和标准差0.01随机初始化权重。"
   ]
  },
  {
   "cell_type": "code",
   "execution_count": 27,
   "metadata": {},
   "outputs": [],
   "source": [
    "net = nn.Sequential()\n",
    "net.add(nn.Dense(10))\n",
    "net.initialize(init.Normal(sigma=0.01))"
   ]
  },
  {
   "cell_type": "markdown",
   "metadata": {},
   "source": [
    "### 损失函数\n",
    "使用分类用的交叉熵损失函数"
   ]
  },
  {
   "cell_type": "code",
   "execution_count": 28,
   "metadata": {},
   "outputs": [],
   "source": [
    "loss = gluon.loss.SoftmaxCrossEntropyLoss()"
   ]
  },
  {
   "cell_type": "markdown",
   "metadata": {},
   "source": [
    "### 优化函数\n",
    "使用学习速度为0.1的小批量随机梯度下降作为优化算法"
   ]
  },
  {
   "cell_type": "code",
   "execution_count": 29,
   "metadata": {},
   "outputs": [],
   "source": [
    "trainer = gluon.Trainer(params=net.collect_params(), optimizer='SGD', optimizer_params={'learning_rate': 0.1})"
   ]
  },
  {
   "cell_type": "markdown",
   "metadata": {},
   "source": [
    "### 训练\n",
    "使用上面的训练模型进行训练"
   ]
  },
  {
   "cell_type": "code",
   "execution_count": 30,
   "metadata": {},
   "outputs": [
    {
     "data": {
      "application/vnd.plotly.v1+json": {
       "config": {
        "plotlyServerURL": "https://plot.ly"
       },
       "data": [
        {
         "marker": {
          "color": "aquamarine",
          "symbol": "circle-open"
         },
         "mode": "lines+markers",
         "name": "train loss",
         "type": "scatter",
         "x": [
          1,
          2,
          3,
          4,
          5,
          6,
          7,
          8,
          9,
          10
         ],
         "y": [
          0.791939957110087,
          0.5734635245641072,
          0.5284940051396688,
          0.5048504796346028,
          0.4894274128595988,
          0.4778106292088827,
          0.46869576733907065,
          0.4621856321334839,
          0.4562685318628947,
          0.45128148873647056
         ]
        },
        {
         "marker": {
          "color": "orange",
          "symbol": "cross-open"
         },
         "mode": "lines+markers",
         "name": "train acc",
         "type": "scatter",
         "x": [
          1,
          2,
          3,
          4,
          5,
          6,
          7,
          8,
          9,
          10
         ],
         "y": [
          0.7465,
          0.8111833333333334,
          0.8240166666666666,
          0.8295166666666667,
          0.8343666666666667,
          0.8384,
          0.8403833333333334,
          0.8425,
          0.8446333333333333,
          0.8467
         ]
        },
        {
         "marker": {
          "color": "hotpink",
          "symbol": "triangle-up-open"
         },
         "mode": "lines+markers",
         "name": "test acc",
         "type": "scatter",
         "x": [
          1,
          2,
          3,
          4,
          5,
          6,
          7,
          8,
          9,
          10
         ],
         "y": [
          0.7549,
          0.8088,
          0.8313,
          0.8297,
          0.8386,
          0.8438,
          0.832,
          0.8321,
          0.8265,
          0.8494
         ]
        }
       ],
       "layout": {
        "template": {
         "data": {
          "bar": [
           {
            "error_x": {
             "color": "#2a3f5f"
            },
            "error_y": {
             "color": "#2a3f5f"
            },
            "marker": {
             "line": {
              "color": "#E5ECF6",
              "width": 0.5
             }
            },
            "type": "bar"
           }
          ],
          "barpolar": [
           {
            "marker": {
             "line": {
              "color": "#E5ECF6",
              "width": 0.5
             }
            },
            "type": "barpolar"
           }
          ],
          "carpet": [
           {
            "aaxis": {
             "endlinecolor": "#2a3f5f",
             "gridcolor": "white",
             "linecolor": "white",
             "minorgridcolor": "white",
             "startlinecolor": "#2a3f5f"
            },
            "baxis": {
             "endlinecolor": "#2a3f5f",
             "gridcolor": "white",
             "linecolor": "white",
             "minorgridcolor": "white",
             "startlinecolor": "#2a3f5f"
            },
            "type": "carpet"
           }
          ],
          "choropleth": [
           {
            "colorbar": {
             "outlinewidth": 0,
             "ticks": ""
            },
            "type": "choropleth"
           }
          ],
          "contour": [
           {
            "colorbar": {
             "outlinewidth": 0,
             "ticks": ""
            },
            "colorscale": [
             [
              0,
              "#0d0887"
             ],
             [
              0.1111111111111111,
              "#46039f"
             ],
             [
              0.2222222222222222,
              "#7201a8"
             ],
             [
              0.3333333333333333,
              "#9c179e"
             ],
             [
              0.4444444444444444,
              "#bd3786"
             ],
             [
              0.5555555555555556,
              "#d8576b"
             ],
             [
              0.6666666666666666,
              "#ed7953"
             ],
             [
              0.7777777777777778,
              "#fb9f3a"
             ],
             [
              0.8888888888888888,
              "#fdca26"
             ],
             [
              1,
              "#f0f921"
             ]
            ],
            "type": "contour"
           }
          ],
          "contourcarpet": [
           {
            "colorbar": {
             "outlinewidth": 0,
             "ticks": ""
            },
            "type": "contourcarpet"
           }
          ],
          "heatmap": [
           {
            "colorbar": {
             "outlinewidth": 0,
             "ticks": ""
            },
            "colorscale": [
             [
              0,
              "#0d0887"
             ],
             [
              0.1111111111111111,
              "#46039f"
             ],
             [
              0.2222222222222222,
              "#7201a8"
             ],
             [
              0.3333333333333333,
              "#9c179e"
             ],
             [
              0.4444444444444444,
              "#bd3786"
             ],
             [
              0.5555555555555556,
              "#d8576b"
             ],
             [
              0.6666666666666666,
              "#ed7953"
             ],
             [
              0.7777777777777778,
              "#fb9f3a"
             ],
             [
              0.8888888888888888,
              "#fdca26"
             ],
             [
              1,
              "#f0f921"
             ]
            ],
            "type": "heatmap"
           }
          ],
          "heatmapgl": [
           {
            "colorbar": {
             "outlinewidth": 0,
             "ticks": ""
            },
            "colorscale": [
             [
              0,
              "#0d0887"
             ],
             [
              0.1111111111111111,
              "#46039f"
             ],
             [
              0.2222222222222222,
              "#7201a8"
             ],
             [
              0.3333333333333333,
              "#9c179e"
             ],
             [
              0.4444444444444444,
              "#bd3786"
             ],
             [
              0.5555555555555556,
              "#d8576b"
             ],
             [
              0.6666666666666666,
              "#ed7953"
             ],
             [
              0.7777777777777778,
              "#fb9f3a"
             ],
             [
              0.8888888888888888,
              "#fdca26"
             ],
             [
              1,
              "#f0f921"
             ]
            ],
            "type": "heatmapgl"
           }
          ],
          "histogram": [
           {
            "marker": {
             "colorbar": {
              "outlinewidth": 0,
              "ticks": ""
             }
            },
            "type": "histogram"
           }
          ],
          "histogram2d": [
           {
            "colorbar": {
             "outlinewidth": 0,
             "ticks": ""
            },
            "colorscale": [
             [
              0,
              "#0d0887"
             ],
             [
              0.1111111111111111,
              "#46039f"
             ],
             [
              0.2222222222222222,
              "#7201a8"
             ],
             [
              0.3333333333333333,
              "#9c179e"
             ],
             [
              0.4444444444444444,
              "#bd3786"
             ],
             [
              0.5555555555555556,
              "#d8576b"
             ],
             [
              0.6666666666666666,
              "#ed7953"
             ],
             [
              0.7777777777777778,
              "#fb9f3a"
             ],
             [
              0.8888888888888888,
              "#fdca26"
             ],
             [
              1,
              "#f0f921"
             ]
            ],
            "type": "histogram2d"
           }
          ],
          "histogram2dcontour": [
           {
            "colorbar": {
             "outlinewidth": 0,
             "ticks": ""
            },
            "colorscale": [
             [
              0,
              "#0d0887"
             ],
             [
              0.1111111111111111,
              "#46039f"
             ],
             [
              0.2222222222222222,
              "#7201a8"
             ],
             [
              0.3333333333333333,
              "#9c179e"
             ],
             [
              0.4444444444444444,
              "#bd3786"
             ],
             [
              0.5555555555555556,
              "#d8576b"
             ],
             [
              0.6666666666666666,
              "#ed7953"
             ],
             [
              0.7777777777777778,
              "#fb9f3a"
             ],
             [
              0.8888888888888888,
              "#fdca26"
             ],
             [
              1,
              "#f0f921"
             ]
            ],
            "type": "histogram2dcontour"
           }
          ],
          "mesh3d": [
           {
            "colorbar": {
             "outlinewidth": 0,
             "ticks": ""
            },
            "type": "mesh3d"
           }
          ],
          "parcoords": [
           {
            "line": {
             "colorbar": {
              "outlinewidth": 0,
              "ticks": ""
             }
            },
            "type": "parcoords"
           }
          ],
          "pie": [
           {
            "automargin": true,
            "type": "pie"
           }
          ],
          "scatter": [
           {
            "marker": {
             "colorbar": {
              "outlinewidth": 0,
              "ticks": ""
             }
            },
            "type": "scatter"
           }
          ],
          "scatter3d": [
           {
            "line": {
             "colorbar": {
              "outlinewidth": 0,
              "ticks": ""
             }
            },
            "marker": {
             "colorbar": {
              "outlinewidth": 0,
              "ticks": ""
             }
            },
            "type": "scatter3d"
           }
          ],
          "scattercarpet": [
           {
            "marker": {
             "colorbar": {
              "outlinewidth": 0,
              "ticks": ""
             }
            },
            "type": "scattercarpet"
           }
          ],
          "scattergeo": [
           {
            "marker": {
             "colorbar": {
              "outlinewidth": 0,
              "ticks": ""
             }
            },
            "type": "scattergeo"
           }
          ],
          "scattergl": [
           {
            "marker": {
             "colorbar": {
              "outlinewidth": 0,
              "ticks": ""
             }
            },
            "type": "scattergl"
           }
          ],
          "scattermapbox": [
           {
            "marker": {
             "colorbar": {
              "outlinewidth": 0,
              "ticks": ""
             }
            },
            "type": "scattermapbox"
           }
          ],
          "scatterpolar": [
           {
            "marker": {
             "colorbar": {
              "outlinewidth": 0,
              "ticks": ""
             }
            },
            "type": "scatterpolar"
           }
          ],
          "scatterpolargl": [
           {
            "marker": {
             "colorbar": {
              "outlinewidth": 0,
              "ticks": ""
             }
            },
            "type": "scatterpolargl"
           }
          ],
          "scatterternary": [
           {
            "marker": {
             "colorbar": {
              "outlinewidth": 0,
              "ticks": ""
             }
            },
            "type": "scatterternary"
           }
          ],
          "surface": [
           {
            "colorbar": {
             "outlinewidth": 0,
             "ticks": ""
            },
            "colorscale": [
             [
              0,
              "#0d0887"
             ],
             [
              0.1111111111111111,
              "#46039f"
             ],
             [
              0.2222222222222222,
              "#7201a8"
             ],
             [
              0.3333333333333333,
              "#9c179e"
             ],
             [
              0.4444444444444444,
              "#bd3786"
             ],
             [
              0.5555555555555556,
              "#d8576b"
             ],
             [
              0.6666666666666666,
              "#ed7953"
             ],
             [
              0.7777777777777778,
              "#fb9f3a"
             ],
             [
              0.8888888888888888,
              "#fdca26"
             ],
             [
              1,
              "#f0f921"
             ]
            ],
            "type": "surface"
           }
          ],
          "table": [
           {
            "cells": {
             "fill": {
              "color": "#EBF0F8"
             },
             "line": {
              "color": "white"
             }
            },
            "header": {
             "fill": {
              "color": "#C8D4E3"
             },
             "line": {
              "color": "white"
             }
            },
            "type": "table"
           }
          ]
         },
         "layout": {
          "annotationdefaults": {
           "arrowcolor": "#2a3f5f",
           "arrowhead": 0,
           "arrowwidth": 1
          },
          "coloraxis": {
           "colorbar": {
            "outlinewidth": 0,
            "ticks": ""
           }
          },
          "colorscale": {
           "diverging": [
            [
             0,
             "#8e0152"
            ],
            [
             0.1,
             "#c51b7d"
            ],
            [
             0.2,
             "#de77ae"
            ],
            [
             0.3,
             "#f1b6da"
            ],
            [
             0.4,
             "#fde0ef"
            ],
            [
             0.5,
             "#f7f7f7"
            ],
            [
             0.6,
             "#e6f5d0"
            ],
            [
             0.7,
             "#b8e186"
            ],
            [
             0.8,
             "#7fbc41"
            ],
            [
             0.9,
             "#4d9221"
            ],
            [
             1,
             "#276419"
            ]
           ],
           "sequential": [
            [
             0,
             "#0d0887"
            ],
            [
             0.1111111111111111,
             "#46039f"
            ],
            [
             0.2222222222222222,
             "#7201a8"
            ],
            [
             0.3333333333333333,
             "#9c179e"
            ],
            [
             0.4444444444444444,
             "#bd3786"
            ],
            [
             0.5555555555555556,
             "#d8576b"
            ],
            [
             0.6666666666666666,
             "#ed7953"
            ],
            [
             0.7777777777777778,
             "#fb9f3a"
            ],
            [
             0.8888888888888888,
             "#fdca26"
            ],
            [
             1,
             "#f0f921"
            ]
           ],
           "sequentialminus": [
            [
             0,
             "#0d0887"
            ],
            [
             0.1111111111111111,
             "#46039f"
            ],
            [
             0.2222222222222222,
             "#7201a8"
            ],
            [
             0.3333333333333333,
             "#9c179e"
            ],
            [
             0.4444444444444444,
             "#bd3786"
            ],
            [
             0.5555555555555556,
             "#d8576b"
            ],
            [
             0.6666666666666666,
             "#ed7953"
            ],
            [
             0.7777777777777778,
             "#fb9f3a"
            ],
            [
             0.8888888888888888,
             "#fdca26"
            ],
            [
             1,
             "#f0f921"
            ]
           ]
          },
          "colorway": [
           "#636efa",
           "#EF553B",
           "#00cc96",
           "#ab63fa",
           "#FFA15A",
           "#19d3f3",
           "#FF6692",
           "#B6E880",
           "#FF97FF",
           "#FECB52"
          ],
          "font": {
           "color": "#2a3f5f"
          },
          "geo": {
           "bgcolor": "white",
           "lakecolor": "white",
           "landcolor": "#E5ECF6",
           "showlakes": true,
           "showland": true,
           "subunitcolor": "white"
          },
          "hoverlabel": {
           "align": "left"
          },
          "hovermode": "closest",
          "mapbox": {
           "style": "light"
          },
          "paper_bgcolor": "white",
          "plot_bgcolor": "#E5ECF6",
          "polar": {
           "angularaxis": {
            "gridcolor": "white",
            "linecolor": "white",
            "ticks": ""
           },
           "bgcolor": "#E5ECF6",
           "radialaxis": {
            "gridcolor": "white",
            "linecolor": "white",
            "ticks": ""
           }
          },
          "scene": {
           "xaxis": {
            "backgroundcolor": "#E5ECF6",
            "gridcolor": "white",
            "gridwidth": 2,
            "linecolor": "white",
            "showbackground": true,
            "ticks": "",
            "zerolinecolor": "white"
           },
           "yaxis": {
            "backgroundcolor": "#E5ECF6",
            "gridcolor": "white",
            "gridwidth": 2,
            "linecolor": "white",
            "showbackground": true,
            "ticks": "",
            "zerolinecolor": "white"
           },
           "zaxis": {
            "backgroundcolor": "#E5ECF6",
            "gridcolor": "white",
            "gridwidth": 2,
            "linecolor": "white",
            "showbackground": true,
            "ticks": "",
            "zerolinecolor": "white"
           }
          },
          "shapedefaults": {
           "line": {
            "color": "#2a3f5f"
           }
          },
          "ternary": {
           "aaxis": {
            "gridcolor": "white",
            "linecolor": "white",
            "ticks": ""
           },
           "baxis": {
            "gridcolor": "white",
            "linecolor": "white",
            "ticks": ""
           },
           "bgcolor": "#E5ECF6",
           "caxis": {
            "gridcolor": "white",
            "linecolor": "white",
            "ticks": ""
           }
          },
          "title": {
           "x": 0.05
          },
          "xaxis": {
           "automargin": true,
           "gridcolor": "white",
           "linecolor": "white",
           "ticks": "",
           "title": {
            "standoff": 15
           },
           "zerolinecolor": "white",
           "zerolinewidth": 2
          },
          "yaxis": {
           "automargin": true,
           "gridcolor": "white",
           "linecolor": "white",
           "ticks": "",
           "title": {
            "standoff": 15
           },
           "zerolinecolor": "white",
           "zerolinewidth": 2
          }
         }
        }
       }
      },
      "text/html": [
       "<div>                            <div id=\"5ae0ba38-8905-4f7e-b75b-acee40ec5277\" class=\"plotly-graph-div\" style=\"height:525px; width:100%;\"></div>            <script type=\"text/javascript\">                require([\"plotly\"], function(Plotly) {                    window.PLOTLYENV=window.PLOTLYENV || {};                                    if (document.getElementById(\"5ae0ba38-8905-4f7e-b75b-acee40ec5277\")) {                    Plotly.newPlot(                        \"5ae0ba38-8905-4f7e-b75b-acee40ec5277\",                        [{\"marker\": {\"color\": \"aquamarine\", \"symbol\": \"circle-open\"}, \"mode\": \"lines+markers\", \"name\": \"train loss\", \"type\": \"scatter\", \"x\": [1, 2, 3, 4, 5, 6, 7, 8, 9, 10], \"y\": [0.791939957110087, 0.5734635245641072, 0.5284940051396688, 0.5048504796346028, 0.4894274128595988, 0.4778106292088827, 0.46869576733907065, 0.4621856321334839, 0.4562685318628947, 0.45128148873647056]}, {\"marker\": {\"color\": \"orange\", \"symbol\": \"cross-open\"}, \"mode\": \"lines+markers\", \"name\": \"train acc\", \"type\": \"scatter\", \"x\": [1, 2, 3, 4, 5, 6, 7, 8, 9, 10], \"y\": [0.7465, 0.8111833333333334, 0.8240166666666666, 0.8295166666666667, 0.8343666666666667, 0.8384, 0.8403833333333334, 0.8425, 0.8446333333333333, 0.8467]}, {\"marker\": {\"color\": \"hotpink\", \"symbol\": \"triangle-up-open\"}, \"mode\": \"lines+markers\", \"name\": \"test acc\", \"type\": \"scatter\", \"x\": [1, 2, 3, 4, 5, 6, 7, 8, 9, 10], \"y\": [0.7549, 0.8088, 0.8313, 0.8297, 0.8386, 0.8438, 0.832, 0.8321, 0.8265, 0.8494]}],                        {\"template\": {\"data\": {\"bar\": [{\"error_x\": {\"color\": \"#2a3f5f\"}, \"error_y\": {\"color\": \"#2a3f5f\"}, \"marker\": {\"line\": {\"color\": \"#E5ECF6\", \"width\": 0.5}}, \"type\": \"bar\"}], \"barpolar\": [{\"marker\": {\"line\": {\"color\": \"#E5ECF6\", \"width\": 0.5}}, \"type\": \"barpolar\"}], \"carpet\": [{\"aaxis\": {\"endlinecolor\": \"#2a3f5f\", \"gridcolor\": \"white\", \"linecolor\": \"white\", \"minorgridcolor\": \"white\", \"startlinecolor\": \"#2a3f5f\"}, \"baxis\": {\"endlinecolor\": \"#2a3f5f\", \"gridcolor\": \"white\", \"linecolor\": \"white\", \"minorgridcolor\": \"white\", \"startlinecolor\": \"#2a3f5f\"}, \"type\": \"carpet\"}], \"choropleth\": [{\"colorbar\": {\"outlinewidth\": 0, \"ticks\": \"\"}, \"type\": \"choropleth\"}], \"contour\": [{\"colorbar\": {\"outlinewidth\": 0, \"ticks\": \"\"}, \"colorscale\": [[0.0, \"#0d0887\"], [0.1111111111111111, \"#46039f\"], [0.2222222222222222, \"#7201a8\"], [0.3333333333333333, \"#9c179e\"], [0.4444444444444444, \"#bd3786\"], [0.5555555555555556, \"#d8576b\"], [0.6666666666666666, \"#ed7953\"], [0.7777777777777778, \"#fb9f3a\"], [0.8888888888888888, \"#fdca26\"], [1.0, \"#f0f921\"]], \"type\": \"contour\"}], \"contourcarpet\": [{\"colorbar\": {\"outlinewidth\": 0, \"ticks\": \"\"}, \"type\": \"contourcarpet\"}], \"heatmap\": [{\"colorbar\": {\"outlinewidth\": 0, \"ticks\": \"\"}, \"colorscale\": [[0.0, \"#0d0887\"], [0.1111111111111111, \"#46039f\"], [0.2222222222222222, \"#7201a8\"], [0.3333333333333333, \"#9c179e\"], [0.4444444444444444, \"#bd3786\"], [0.5555555555555556, \"#d8576b\"], [0.6666666666666666, \"#ed7953\"], [0.7777777777777778, \"#fb9f3a\"], [0.8888888888888888, \"#fdca26\"], [1.0, \"#f0f921\"]], \"type\": \"heatmap\"}], \"heatmapgl\": [{\"colorbar\": {\"outlinewidth\": 0, \"ticks\": \"\"}, \"colorscale\": [[0.0, \"#0d0887\"], [0.1111111111111111, \"#46039f\"], [0.2222222222222222, \"#7201a8\"], [0.3333333333333333, \"#9c179e\"], [0.4444444444444444, \"#bd3786\"], [0.5555555555555556, \"#d8576b\"], [0.6666666666666666, \"#ed7953\"], [0.7777777777777778, \"#fb9f3a\"], [0.8888888888888888, \"#fdca26\"], [1.0, \"#f0f921\"]], \"type\": \"heatmapgl\"}], \"histogram\": [{\"marker\": {\"colorbar\": {\"outlinewidth\": 0, \"ticks\": \"\"}}, \"type\": \"histogram\"}], \"histogram2d\": [{\"colorbar\": {\"outlinewidth\": 0, \"ticks\": \"\"}, \"colorscale\": [[0.0, \"#0d0887\"], [0.1111111111111111, \"#46039f\"], [0.2222222222222222, \"#7201a8\"], [0.3333333333333333, \"#9c179e\"], [0.4444444444444444, \"#bd3786\"], [0.5555555555555556, \"#d8576b\"], [0.6666666666666666, \"#ed7953\"], [0.7777777777777778, \"#fb9f3a\"], [0.8888888888888888, \"#fdca26\"], [1.0, \"#f0f921\"]], \"type\": \"histogram2d\"}], \"histogram2dcontour\": [{\"colorbar\": {\"outlinewidth\": 0, \"ticks\": \"\"}, \"colorscale\": [[0.0, \"#0d0887\"], [0.1111111111111111, \"#46039f\"], [0.2222222222222222, \"#7201a8\"], [0.3333333333333333, \"#9c179e\"], [0.4444444444444444, \"#bd3786\"], [0.5555555555555556, \"#d8576b\"], [0.6666666666666666, \"#ed7953\"], [0.7777777777777778, \"#fb9f3a\"], [0.8888888888888888, \"#fdca26\"], [1.0, \"#f0f921\"]], \"type\": \"histogram2dcontour\"}], \"mesh3d\": [{\"colorbar\": {\"outlinewidth\": 0, \"ticks\": \"\"}, \"type\": \"mesh3d\"}], \"parcoords\": [{\"line\": {\"colorbar\": {\"outlinewidth\": 0, \"ticks\": \"\"}}, \"type\": \"parcoords\"}], \"pie\": [{\"automargin\": true, \"type\": \"pie\"}], \"scatter\": [{\"marker\": {\"colorbar\": {\"outlinewidth\": 0, \"ticks\": \"\"}}, \"type\": \"scatter\"}], \"scatter3d\": [{\"line\": {\"colorbar\": {\"outlinewidth\": 0, \"ticks\": \"\"}}, \"marker\": {\"colorbar\": {\"outlinewidth\": 0, \"ticks\": \"\"}}, \"type\": \"scatter3d\"}], \"scattercarpet\": [{\"marker\": {\"colorbar\": {\"outlinewidth\": 0, \"ticks\": \"\"}}, \"type\": \"scattercarpet\"}], \"scattergeo\": [{\"marker\": {\"colorbar\": {\"outlinewidth\": 0, \"ticks\": \"\"}}, \"type\": \"scattergeo\"}], \"scattergl\": [{\"marker\": {\"colorbar\": {\"outlinewidth\": 0, \"ticks\": \"\"}}, \"type\": \"scattergl\"}], \"scattermapbox\": [{\"marker\": {\"colorbar\": {\"outlinewidth\": 0, \"ticks\": \"\"}}, \"type\": \"scattermapbox\"}], \"scatterpolar\": [{\"marker\": {\"colorbar\": {\"outlinewidth\": 0, \"ticks\": \"\"}}, \"type\": \"scatterpolar\"}], \"scatterpolargl\": [{\"marker\": {\"colorbar\": {\"outlinewidth\": 0, \"ticks\": \"\"}}, \"type\": \"scatterpolargl\"}], \"scatterternary\": [{\"marker\": {\"colorbar\": {\"outlinewidth\": 0, \"ticks\": \"\"}}, \"type\": \"scatterternary\"}], \"surface\": [{\"colorbar\": {\"outlinewidth\": 0, \"ticks\": \"\"}, \"colorscale\": [[0.0, \"#0d0887\"], [0.1111111111111111, \"#46039f\"], [0.2222222222222222, \"#7201a8\"], [0.3333333333333333, \"#9c179e\"], [0.4444444444444444, \"#bd3786\"], [0.5555555555555556, \"#d8576b\"], [0.6666666666666666, \"#ed7953\"], [0.7777777777777778, \"#fb9f3a\"], [0.8888888888888888, \"#fdca26\"], [1.0, \"#f0f921\"]], \"type\": \"surface\"}], \"table\": [{\"cells\": {\"fill\": {\"color\": \"#EBF0F8\"}, \"line\": {\"color\": \"white\"}}, \"header\": {\"fill\": {\"color\": \"#C8D4E3\"}, \"line\": {\"color\": \"white\"}}, \"type\": \"table\"}]}, \"layout\": {\"annotationdefaults\": {\"arrowcolor\": \"#2a3f5f\", \"arrowhead\": 0, \"arrowwidth\": 1}, \"coloraxis\": {\"colorbar\": {\"outlinewidth\": 0, \"ticks\": \"\"}}, \"colorscale\": {\"diverging\": [[0, \"#8e0152\"], [0.1, \"#c51b7d\"], [0.2, \"#de77ae\"], [0.3, \"#f1b6da\"], [0.4, \"#fde0ef\"], [0.5, \"#f7f7f7\"], [0.6, \"#e6f5d0\"], [0.7, \"#b8e186\"], [0.8, \"#7fbc41\"], [0.9, \"#4d9221\"], [1, \"#276419\"]], \"sequential\": [[0.0, \"#0d0887\"], [0.1111111111111111, \"#46039f\"], [0.2222222222222222, \"#7201a8\"], [0.3333333333333333, \"#9c179e\"], [0.4444444444444444, \"#bd3786\"], [0.5555555555555556, \"#d8576b\"], [0.6666666666666666, \"#ed7953\"], [0.7777777777777778, \"#fb9f3a\"], [0.8888888888888888, \"#fdca26\"], [1.0, \"#f0f921\"]], \"sequentialminus\": [[0.0, \"#0d0887\"], [0.1111111111111111, \"#46039f\"], [0.2222222222222222, \"#7201a8\"], [0.3333333333333333, \"#9c179e\"], [0.4444444444444444, \"#bd3786\"], [0.5555555555555556, \"#d8576b\"], [0.6666666666666666, \"#ed7953\"], [0.7777777777777778, \"#fb9f3a\"], [0.8888888888888888, \"#fdca26\"], [1.0, \"#f0f921\"]]}, \"colorway\": [\"#636efa\", \"#EF553B\", \"#00cc96\", \"#ab63fa\", \"#FFA15A\", \"#19d3f3\", \"#FF6692\", \"#B6E880\", \"#FF97FF\", \"#FECB52\"], \"font\": {\"color\": \"#2a3f5f\"}, \"geo\": {\"bgcolor\": \"white\", \"lakecolor\": \"white\", \"landcolor\": \"#E5ECF6\", \"showlakes\": true, \"showland\": true, \"subunitcolor\": \"white\"}, \"hoverlabel\": {\"align\": \"left\"}, \"hovermode\": \"closest\", \"mapbox\": {\"style\": \"light\"}, \"paper_bgcolor\": \"white\", \"plot_bgcolor\": \"#E5ECF6\", \"polar\": {\"angularaxis\": {\"gridcolor\": \"white\", \"linecolor\": \"white\", \"ticks\": \"\"}, \"bgcolor\": \"#E5ECF6\", \"radialaxis\": {\"gridcolor\": \"white\", \"linecolor\": \"white\", \"ticks\": \"\"}}, \"scene\": {\"xaxis\": {\"backgroundcolor\": \"#E5ECF6\", \"gridcolor\": \"white\", \"gridwidth\": 2, \"linecolor\": \"white\", \"showbackground\": true, \"ticks\": \"\", \"zerolinecolor\": \"white\"}, \"yaxis\": {\"backgroundcolor\": \"#E5ECF6\", \"gridcolor\": \"white\", \"gridwidth\": 2, \"linecolor\": \"white\", \"showbackground\": true, \"ticks\": \"\", \"zerolinecolor\": \"white\"}, \"zaxis\": {\"backgroundcolor\": \"#E5ECF6\", \"gridcolor\": \"white\", \"gridwidth\": 2, \"linecolor\": \"white\", \"showbackground\": true, \"ticks\": \"\", \"zerolinecolor\": \"white\"}}, \"shapedefaults\": {\"line\": {\"color\": \"#2a3f5f\"}}, \"ternary\": {\"aaxis\": {\"gridcolor\": \"white\", \"linecolor\": \"white\", \"ticks\": \"\"}, \"baxis\": {\"gridcolor\": \"white\", \"linecolor\": \"white\", \"ticks\": \"\"}, \"bgcolor\": \"#E5ECF6\", \"caxis\": {\"gridcolor\": \"white\", \"linecolor\": \"white\", \"ticks\": \"\"}}, \"title\": {\"x\": 0.05}, \"xaxis\": {\"automargin\": true, \"gridcolor\": \"white\", \"linecolor\": \"white\", \"ticks\": \"\", \"title\": {\"standoff\": 15}, \"zerolinecolor\": \"white\", \"zerolinewidth\": 2}, \"yaxis\": {\"automargin\": true, \"gridcolor\": \"white\", \"linecolor\": \"white\", \"ticks\": \"\", \"title\": {\"standoff\": 15}, \"zerolinecolor\": \"white\", \"zerolinewidth\": 2}}}},                        {\"responsive\": true}                    ).then(function(){\n",
       "                            \n",
       "var gd = document.getElementById('5ae0ba38-8905-4f7e-b75b-acee40ec5277');\n",
       "var x = new MutationObserver(function (mutations, observer) {{\n",
       "        var display = window.getComputedStyle(gd).display;\n",
       "        if (!display || display === 'none') {{\n",
       "            console.log([gd, 'removed!']);\n",
       "            Plotly.purge(gd);\n",
       "            observer.disconnect();\n",
       "        }}\n",
       "}});\n",
       "\n",
       "// Listen for the removal of the full notebook cells\n",
       "var notebookContainer = gd.closest('#notebook-container');\n",
       "if (notebookContainer) {{\n",
       "    x.observe(notebookContainer, {childList: true});\n",
       "}}\n",
       "\n",
       "// Listen for the clearing of the current output cell\n",
       "var outputEl = gd.closest('.output');\n",
       "if (outputEl) {{\n",
       "    x.observe(outputEl, {childList: true});\n",
       "}}\n",
       "\n",
       "                        })                };                });            </script>        </div>"
      ]
     },
     "metadata": {},
     "output_type": "display_data"
    }
   ],
   "source": [
    "num_epochs = 10\n",
    "result = train(net, train_iter, test_iter, loss, num_epochs, trainer)\n",
    "draw_graph(result)"
   ]
  },
  {
   "cell_type": "code",
   "execution_count": null,
   "metadata": {},
   "outputs": [],
   "source": []
  }
 ],
 "metadata": {
  "kernelspec": {
   "display_name": "Python 3",
   "language": "python",
   "name": "python3"
  },
  "language_info": {
   "codemirror_mode": {
    "name": "ipython",
    "version": 3
   },
   "file_extension": ".py",
   "mimetype": "text/x-python",
   "name": "python",
   "nbconvert_exporter": "python",
   "pygments_lexer": "ipython3",
   "version": "3.6.12"
  }
 },
 "nbformat": 4,
 "nbformat_minor": 4
}
